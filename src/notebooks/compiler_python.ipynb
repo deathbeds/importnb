{
 "cells": [
  {
   "cell_type": "markdown",
   "metadata": {},
   "source": [
    "# Compilation\n",
    "\n",
    "Compilation occurs in the __3__ steps:\n",
    "\n",
    "1. Text is transformed into a valid source string.\n",
    "2. The source string is parsed into an abstract syntax tree\n",
    "3. The abstract syntax compiles to valid bytecode "
   ]
  },
  {
   "cell_type": "code",
   "execution_count": 1,
   "metadata": {},
   "outputs": [],
   "source": [
    "    import ast, sys\n",
    "    from json import load, loads\n",
    "    from pathlib import Path\n",
    "    from textwrap import dedent"
   ]
  },
  {
   "cell_type": "code",
   "execution_count": 2,
   "metadata": {},
   "outputs": [],
   "source": [
    "    from codeop import Compile\n",
    "    from dataclasses import dataclass, field\n",
    "    class Compiler(Compile):\n",
    "        \"\"\"{Shell} provides the IPython machinery to objects.\"\"\"\n",
    "        filename: str = '<Shell>'            \n",
    "            \n",
    "        def ast_transform(Compiler, node): return node\n",
    "        \n",
    "        @property\n",
    "        def transform(Compiler): return dedent\n",
    "\n",
    "        def compile(Compiler, ast): return compile(ast, Compiler.filename, 'exec')\n",
    "                \n",
    "        def ast_parse(Compiler, source, filename='<unknown>', symbol='exec', lineno=0): \n",
    "            return ast.increment_lineno(ast.parse(source, Compiler.filename, 'exec'), lineno)"
   ]
  },
  {
   "cell_type": "code",
   "execution_count": 3,
   "metadata": {},
   "outputs": [],
   "source": [
    "    class NotebookExporter:\n",
    "        def from_file(self, file_stream, resources=None, **dict):\n",
    "            return self.from_notebook_node(load(file_stream), resources=resources, **dict)\n",
    "        \n",
    "        def from_filename(self, filename, resources=None, **dict):\n",
    "            with open(filename, 'r') as file_stream:\n",
    "                return self.from_file(file_stream, resources, **dict)\n",
    "            \n",
    "        def from_notebook_node(self, nb, resources=None, **dict): \n",
    "            return nb, resources"
   ]
  },
  {
   "cell_type": "code",
   "execution_count": 4,
   "metadata": {},
   "outputs": [],
   "source": [
    "    class ScriptExporter(NotebookExporter):\n",
    "        def from_notebook_node(self, nb, resources=None,  **dict):\n",
    "            nb, resources = super().from_notebook_node(nb, resources, **dict)\n",
    "            for i, cell in enumerate(nb['cells']):\n",
    "                if isinstance(cell['source'], list):\n",
    "                    nb['cells'][i]['source'] = ''.join(cell['source'])\n",
    "                \n",
    "            return (\"\\n\"*2).join(\n",
    "                dedent(cell['source']) for cell in nb['cells'] if cell['cell_type'] == 'code'\n",
    "            ), resources\n",
    "            "
   ]
  },
  {
   "cell_type": "code",
   "execution_count": 5,
   "metadata": {},
   "outputs": [],
   "source": [
    "    NotebookNode = dict"
   ]
  },
  {
   "cell_type": "code",
   "execution_count": 6,
   "metadata": {
    "scrolled": false
   },
   "outputs": [],
   "source": [
    "    if __name__ ==  '__main__':\n",
    "        from pathlib import Path\n",
    "        Path('compiler_python.py').write_text(ScriptExporter().from_filename('compiler_python.ipynb')[0])\n",
    "        __import__('doctest').testmod()"
   ]
  }
 ],
 "metadata": {
  "kernelspec": {
   "display_name": "p6",
   "language": "python",
   "name": "other-env"
  },
  "language_info": {
   "codemirror_mode": {
    "name": "ipython",
    "version": 3
   },
   "file_extension": ".py",
   "mimetype": "text/x-python",
   "name": "python",
   "nbconvert_exporter": "python",
   "pygments_lexer": "ipython3",
   "version": "3.6.3"
  },
  "toc": {
   "colors": {
    "hover_highlight": "#DAA520",
    "running_highlight": "#FF0000",
    "selected_highlight": "#FFD700"
   },
   "moveMenuLeft": true,
   "nav_menu": {
    "height": "29px",
    "width": "252px"
   },
   "navigate_menu": true,
   "number_sections": true,
   "sideBar": true,
   "threshold": 4,
   "toc_cell": false,
   "toc_section_display": "block",
   "toc_window_display": false,
   "widenNotebook": false
  },
  "varInspector": {
   "cols": {
    "lenName": 16,
    "lenType": 16,
    "lenVar": 40
   },
   "kernels_config": {
    "python": {
     "delete_cmd_postfix": "",
     "delete_cmd_prefix": "del ",
     "library": "var_list.py",
     "varRefreshCmd": "print(var_dic_list())"
    },
    "r": {
     "delete_cmd_postfix": ") ",
     "delete_cmd_prefix": "rm(",
     "library": "var_list.r",
     "varRefreshCmd": "cat(var_dic_list()) "
    }
   },
   "types_to_exclude": [
    "module",
    "function",
    "builtin_function_or_method",
    "instance",
    "_Feature"
   ],
   "window_display": false
  }
 },
 "nbformat": 4,
 "nbformat_minor": 2
}
