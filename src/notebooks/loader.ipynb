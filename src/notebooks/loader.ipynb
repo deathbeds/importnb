{
 "cells": [
  {
   "cell_type": "markdown",
   "metadata": {},
   "source": [
    "# The [Import Loader](https://docs.python.org/3/reference/import.html#loaders)"
   ]
  },
  {
   "cell_type": "code",
   "execution_count": 1,
   "metadata": {},
   "outputs": [],
   "source": [
    "    try:\n",
    "        from .exporter import Compile, AST\n",
    "    except:\n",
    "        from exporter import Compile, AST\n",
    "    import inspect, sys\n",
    "    from importlib.machinery import SourceFileLoader\n",
    "    from importlib._bootstrap_external import FileFinder\n",
    "    from importlib import reload\n",
    "    from traceback import print_exc"
   ]
  },
  {
   "cell_type": "code",
   "execution_count": 2,
   "metadata": {},
   "outputs": [],
   "source": [
    "    def update_path_hooks(loader: SourceFileLoader, extensions: tuple=None, lazy=False):\n",
    "        \"\"\"Update the FileFinder loader in sys.path_hooks to accomodate a {loader} with the {extensions}\"\"\"\n",
    "        from importlib.util import LazyLoader\n",
    "        for id, hook in enumerate(sys.path_hooks):\n",
    "            try:\n",
    "                closure = inspect.getclosurevars(hook).nonlocals\n",
    "            except TypeError: continue\n",
    "            if issubclass(closure['cls'], FileFinder):\n",
    "                sys.path_hooks.pop(id)\n",
    "                sys.path_hooks.insert(id, FileFinder.path_hook(*(\n",
    "                    ((lazy and LazyLoader.factory(loader) or loader, extensions),) \n",
    "                    if (loader and extensions) \n",
    "                    else tuple()\n",
    "                ) + tuple(\n",
    "                    (cls, ext) \n",
    "                    for cls, ext in closure['loader_details'] \n",
    "                    if not issubclass(cls, loader) # Need to add logic for lazy loaders before they may be introduced.\n",
    "                )))\n",
    "        sys.path_importer_cache.clear()"
   ]
  },
  {
   "cell_type": "code",
   "execution_count": 3,
   "metadata": {},
   "outputs": [],
   "source": [
    "    class ImportContextMixin:\n",
    "        def __enter__(self):  update_path_hooks(type(self), self.EXTENSION_SUFFIXES)\n",
    "        def __exit__(self, exception_type=None, exception_value=None, traceback=None): update_path_hooks(type(self))"
   ]
  },
  {
   "cell_type": "code",
   "execution_count": 4,
   "metadata": {},
   "outputs": [],
   "source": [
    "    class Notebook(SourceFileLoader, ImportContextMixin):\n",
    "        \"\"\"A SourceFileLoader for notebooks that provides line number debugginer in the JSON source.\"\"\"\n",
    "        EXTENSION_SUFFIXES = '.ipynb',\n",
    "        \n",
    "        def __init__(self, fullname=None, path=None, *,capture=True): \n",
    "            self.capture = capture\n",
    "            super().__init__(fullname, path)\n",
    "        \n",
    "        def exec_module(Loader, module):\n",
    "            try:\n",
    "                from IPython import get_ipython\n",
    "                module.get_ipython = get_ipython\n",
    "            except: get_ipython = None\n",
    "\n",
    "            module.__output__ = None\n",
    "            if get_ipython and Loader.capture: \n",
    "                return Loader.exec_module_capture(module)\n",
    "            else: \n",
    "                return super().exec_module(module)\n",
    "            \n",
    "        def exec_module_capture(Loader, module):\n",
    "            from IPython.utils.capture import capture_output    \n",
    "            with capture_output(stdout=False, stderr=False) as output: \n",
    "                try: super().exec_module(module)\n",
    "                except type('pass', (BaseException,), {}): ...\n",
    "                finally: module.__output__ = output\n",
    "            return module\n",
    "\n",
    "        def source_to_code(Notebook, data, path):\n",
    "            with __import__('io').BytesIO(data) as stream:\n",
    "                return Compile().from_file(stream, filename=Notebook.path, name=Notebook.name)"
   ]
  },
  {
   "cell_type": "code",
   "execution_count": 5,
   "metadata": {},
   "outputs": [],
   "source": [
    "    class Partial(Notebook):\n",
    "        def exec_module(loader, module):\n",
    "            try: super().exec_module(module)\n",
    "            except BaseException as exception:\n",
    "                try: raise ImportWarning(\"\"\"{name} from {file} failed to load completely.\"\"\".format(\n",
    "                    name=module.__name__, file=module.__file__\n",
    "                ))\n",
    "                except ImportWarning as error:\n",
    "                    if not loader.capture: print_exc()\n",
    "                    module.__exception__ = exception\n",
    "            return module"
   ]
  },
  {
   "cell_type": "markdown",
   "metadata": {},
   "source": [
    "# IPython Extensions"
   ]
  },
  {
   "cell_type": "code",
   "execution_count": 6,
   "metadata": {},
   "outputs": [],
   "source": [
    "    def load_ipython_extension(ip=None): Notebook().__enter__()\n",
    "    def unload_ipython_extension(ip=None): Notebook().__exit__()"
   ]
  },
  {
   "cell_type": "markdown",
   "metadata": {},
   "source": [
    "# Developer"
   ]
  },
  {
   "cell_type": "code",
   "execution_count": 7,
   "metadata": {
    "scrolled": false
   },
   "outputs": [],
   "source": [
    "    if __name__ ==  '__main__':\n",
    "        try:\n",
    "            from .compiler_python import ScriptExporter\n",
    "        except:\n",
    "            from compiler_python import ScriptExporter\n",
    "        from pathlib import Path\n",
    "        Path('loader.py').write_text(ScriptExporter().from_filename('loader.ipynb')[0])\n",
    "        __import__('doctest').testmod()"
   ]
  },
  {
   "cell_type": "code",
   "execution_count": null,
   "metadata": {},
   "outputs": [],
   "source": []
  }
 ],
 "metadata": {
  "kernelspec": {
   "display_name": "p6",
   "language": "python",
   "name": "other-env"
  },
  "language_info": {
   "codemirror_mode": {
    "name": "ipython",
    "version": 3
   },
   "file_extension": ".py",
   "mimetype": "text/x-python",
   "name": "python",
   "nbconvert_exporter": "python",
   "pygments_lexer": "ipython3",
   "version": "3.6.3"
  },
  "toc": {
   "colors": {
    "hover_highlight": "#DAA520",
    "running_highlight": "#FF0000",
    "selected_highlight": "#FFD700"
   },
   "moveMenuLeft": true,
   "nav_menu": {
    "height": "29px",
    "width": "252px"
   },
   "navigate_menu": true,
   "number_sections": true,
   "sideBar": true,
   "threshold": 4,
   "toc_cell": false,
   "toc_section_display": "block",
   "toc_window_display": false,
   "widenNotebook": false
  },
  "varInspector": {
   "cols": {
    "lenName": 16,
    "lenType": 16,
    "lenVar": 40
   },
   "kernels_config": {
    "python": {
     "delete_cmd_postfix": "",
     "delete_cmd_prefix": "del ",
     "library": "var_list.py",
     "varRefreshCmd": "print(var_dic_list())"
    },
    "r": {
     "delete_cmd_postfix": ") ",
     "delete_cmd_prefix": "rm(",
     "library": "var_list.r",
     "varRefreshCmd": "cat(var_dic_list()) "
    }
   },
   "types_to_exclude": [
    "module",
    "function",
    "builtin_function_or_method",
    "instance",
    "_Feature"
   ],
   "window_display": false
  }
 },
 "nbformat": 4,
 "nbformat_minor": 2
}
