{
 "cells": [
  {
   "cell_type": "markdown",
   "metadata": {},
   "source": [
    "# The [Import Loader](https://docs.python.org/3/reference/import.html#loaders)\n",
    "\n",
    "`importnb` provides the ability to import Notebooks in Python packages and as modules."
   ]
  },
  {
   "cell_type": "code",
   "execution_count": 1,
   "metadata": {},
   "outputs": [],
   "source": [
    "    try:\n",
    "        from .exporter import Compile, AST\n",
    "        from .utils import __IPYTHON__, export\n",
    "    except:\n",
    "        from exporter import Compile, AST\n",
    "        from utils import __IPYTHON__, export\n",
    "    import inspect, sys\n",
    "    from importlib.machinery import SourceFileLoader\n",
    "    try: \n",
    "        from importlib._bootstrap_external import FileFinder\n",
    "    except:\n",
    "        #python 3.4\n",
    "        from importlib.machinery import FileFinder\n",
    "    from importlib import reload\n",
    "    from traceback import print_exc\n",
    "    from contextlib import contextmanager\n",
    "    \n",
    "    __all__ = 'Notebook', 'Partial', 'reload',"
   ]
  },
  {
   "cell_type": "markdown",
   "metadata": {},
   "source": [
    "## `sys.path_hook` modifiers"
   ]
  },
  {
   "cell_type": "code",
   "execution_count": 2,
   "metadata": {},
   "outputs": [],
   "source": [
    "    @contextmanager\n",
    "    def modify_file_finder_details():\n",
    "        \"\"\"yield the FileFinder in the sys.path_hooks that loads Python files and assure\n",
    "        the import cache is cleared afterwards.  \n",
    "        \n",
    "        Everything goes to shit if the import cache is not cleared.\"\"\"\n",
    "        \n",
    "        for id, hook in enumerate(sys.path_hooks):\n",
    "            try:\n",
    "                closure = inspect.getclosurevars(hook).nonlocals\n",
    "            except TypeError: continue\n",
    "            if issubclass(closure['cls'], FileFinder):\n",
    "                sys.path_hooks.pop(id)\n",
    "                details = list(closure['loader_details'])\n",
    "                yield details\n",
    "                break\n",
    "        sys.path_hooks.insert(id, FileFinder.path_hook(*details))\n",
    "        sys.path_importer_cache.clear()"
   ]
  },
  {
   "cell_type": "markdown",
   "metadata": {},
   "source": [
    "Update the file_finder details with functions to append and remove the [loader details](https://docs.python.org/3.7/library/importlib.html#importlib.machinery.FileFinder)."
   ]
  },
  {
   "cell_type": "code",
   "execution_count": 3,
   "metadata": {},
   "outputs": [],
   "source": [
    "    def add_path_hooks(loader: SourceFileLoader, extensions, *, position=0, lazy=False):\n",
    "        \"\"\"Update the FileFinder loader in sys.path_hooks to accomodate a {loader} with the {extensions}\"\"\"\n",
    "        with modify_file_finder_details() as details:\n",
    "            try:\n",
    "                from importlib.util import LazyLoader\n",
    "                if lazy: \n",
    "                    loader = LazyLoader.factory(loader)\n",
    "            except:\n",
    "                ImportWarning(\"\"\"LazyLoading is only available in > Python 3.5\"\"\")\n",
    "            details.insert(position, (loader, extensions))\n",
    "\n",
    "    def remove_one_path_hook(loader):\n",
    "        with modify_file_finder_details() as details:\n",
    "            _details = list(details)\n",
    "            for ct, (cls, ext) in enumerate(_details):\n",
    "                cls = lazy_loader_cls(cls)\n",
    "                if issubclass(cls, loader):\n",
    "                    details.pop(ct)\n",
    "                    break"
   ]
  },
  {
   "cell_type": "code",
   "execution_count": 4,
   "metadata": {},
   "outputs": [],
   "source": [
    "    def lazy_loader_cls(loader):\n",
    "        \"\"\"Extract the loader contents of a lazy loader in the import path.\"\"\"\n",
    "        if not isinstance(loader, type) and callable(loader):\n",
    "            return inspect.getclosurevars(loader).nonlocals.get('cls', loader)\n",
    "        return loader"
   ]
  },
  {
   "cell_type": "markdown",
   "metadata": {},
   "source": [
    "## Context Manager\n",
    "\n",
    "`importnb` uses a context manager to assure that the traditional import system behaviors as expected.  If the loader is permenantly available then it may create some unexpected import behaviors."
   ]
  },
  {
   "cell_type": "code",
   "execution_count": 5,
   "metadata": {},
   "outputs": [],
   "source": [
    "    class ImportContextManagerMixin:\n",
    "        \"\"\"A context maanager to add and remove loader_details from the path_hooks.\n",
    "        \"\"\"\n",
    "        def __enter__(self, position=0):  \n",
    "            add_path_hooks(type(self), self.EXTENSION_SUFFIXES, position=position, lazy=self._lazy)\n",
    "        def __exit__(self, exception_type=None, exception_value=None, traceback=None): remove_one_path_hook(type(self))"
   ]
  },
  {
   "cell_type": "code",
   "execution_count": 6,
   "metadata": {},
   "outputs": [],
   "source": [
    "    class Notebook(SourceFileLoader, ImportContextManagerMixin):\n",
    "        \"\"\"A SourceFileLoader for notebooks that provides line number debugginer in the JSON source.\"\"\"\n",
    "        EXTENSION_SUFFIXES = '.ipynb',\n",
    "        \n",
    "        def __init__(\n",
    "            self, fullname=None, path=None, *, stdout=False, stderr=False, display=True, lazy=False\n",
    "        ): \n",
    "            self._lazy = lazy\n",
    "            self._stdout = stdout\n",
    "            self._stderr = stderr\n",
    "            self._display = display\n",
    "            super().__init__(fullname, path)\n",
    "        \n",
    "\n",
    "        @property\n",
    "        def _capture(self):\n",
    "            return any((self._stdout, self._stderr, self._display))\n",
    "        def exec_module(self, module):\n",
    "            module.__output__ = None\n",
    "            if __IPYTHON__ and self._capture: \n",
    "                return self.exec_module_capture(module)\n",
    "            else: \n",
    "                return super().exec_module(module)\n",
    "            \n",
    "        def exec_module_capture(self, module):\n",
    "            from IPython.utils.capture import capture_output    \n",
    "            with capture_output(stdout=self._stdout, stderr=self._stderr, display=self._display) as output: \n",
    "                module.__output__= output\n",
    "                super().exec_module(module)\n",
    "            return module\n",
    "\n",
    "        def source_to_code(Notebook, data, path):\n",
    "            with __import__('io').BytesIO(data) as stream:\n",
    "                return Compile().from_file(stream, filename=Notebook.path, name=Notebook.name)"
   ]
  },
  {
   "cell_type": "markdown",
   "metadata": {},
   "source": [
    "### Partial Loader"
   ]
  },
  {
   "cell_type": "code",
   "execution_count": 7,
   "metadata": {},
   "outputs": [],
   "source": [
    "    class Partial(Notebook):\n",
    "        def exec_module(loader, module):\n",
    "            try: super().exec_module(module)\n",
    "            except BaseException as exception:\n",
    "                try: \n",
    "                    raise ImportWarning(\"\"\"{name} from {file} failed to load completely.\"\"\".format(\n",
    "                        name=module.__name__, file=module.__file__\n",
    "                    ))\n",
    "                except ImportWarning as error:\n",
    "                    if not loader._capture: print_exc()\n",
    "                    module.__exception__ = exception\n",
    "            return module"
   ]
  },
  {
   "cell_type": "markdown",
   "metadata": {},
   "source": [
    "# IPython Extensions"
   ]
  },
  {
   "cell_type": "code",
   "execution_count": 8,
   "metadata": {},
   "outputs": [],
   "source": [
    "    def load_ipython_extension(ip=None): Notebook().__enter__(position=0)\n",
    "    def unload_ipython_extension(ip=None): Notebook().__exit__()"
   ]
  },
  {
   "cell_type": "markdown",
   "metadata": {},
   "source": [
    "# Developer"
   ]
  },
  {
   "cell_type": "code",
   "execution_count": 9,
   "metadata": {
    "scrolled": false
   },
   "outputs": [],
   "source": [
    "    if __name__ ==  '__main__':\n",
    "        export('loader.ipynb', '../importnb/loader.py')\n",
    "        __import__('doctest').testmod()"
   ]
  },
  {
   "cell_type": "code",
   "execution_count": null,
   "metadata": {},
   "outputs": [],
   "source": []
  }
 ],
 "metadata": {
  "kernelspec": {
   "display_name": "p6",
   "language": "python",
   "name": "other-env"
  },
  "language_info": {
   "codemirror_mode": {
    "name": "ipython",
    "version": 3
   },
   "file_extension": ".py",
   "mimetype": "text/x-python",
   "name": "python",
   "nbconvert_exporter": "python",
   "pygments_lexer": "ipython3",
   "version": "3.6.3"
  },
  "toc": {
   "colors": {
    "hover_highlight": "#DAA520",
    "running_highlight": "#FF0000",
    "selected_highlight": "#FFD700"
   },
   "moveMenuLeft": true,
   "nav_menu": {
    "height": "29px",
    "width": "252px"
   },
   "navigate_menu": true,
   "number_sections": true,
   "sideBar": true,
   "threshold": 4,
   "toc_cell": false,
   "toc_section_display": "block",
   "toc_window_display": false,
   "widenNotebook": false
  },
  "varInspector": {
   "cols": {
    "lenName": 16,
    "lenType": 16,
    "lenVar": 40
   },
   "kernels_config": {
    "python": {
     "delete_cmd_postfix": "",
     "delete_cmd_prefix": "del ",
     "library": "var_list.py",
     "varRefreshCmd": "print(var_dic_list())"
    },
    "r": {
     "delete_cmd_postfix": ") ",
     "delete_cmd_prefix": "rm(",
     "library": "var_list.r",
     "varRefreshCmd": "cat(var_dic_list()) "
    }
   },
   "types_to_exclude": [
    "module",
    "function",
    "builtin_function_or_method",
    "instance",
    "_Feature"
   ],
   "window_display": false
  }
 },
 "nbformat": 4,
 "nbformat_minor": 2
}
