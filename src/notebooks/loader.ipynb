{
 "cells": [
  {
   "cell_type": "markdown",
   "metadata": {},
   "source": [
    "# The [Import Loader](https://docs.python.org/3/reference/import.html#loaders)\n",
    "\n",
    "`importnb` provides the ability to import Notebooks in Python packages and as modules."
   ]
  },
  {
   "cell_type": "code",
   "execution_count": 1,
   "metadata": {},
   "outputs": [],
   "source": [
    "    try:\n",
    "        from .exporter import Compile, AST\n",
    "        from .utils import __IPYTHON__\n",
    "        from .capture import capture_output\n",
    "    except:\n",
    "        from exporter import Compile, AST\n",
    "        from utils import __IPYTHON__\n",
    "        from capture import capture_output\n",
    "    import inspect, sys\n",
    "    from importlib.machinery import SourceFileLoader\n",
    "    try: \n",
    "        from importlib._bootstrap_external import FileFinder\n",
    "    except:\n",
    "        #python 3.4\n",
    "        from importlib.machinery import FileFinder\n",
    "    from functools import partialmethod\n",
    "    from importlib import reload\n",
    "    from traceback import print_exc, format_exc\n",
    "    from warnings import warn\n",
    "    from contextlib import contextmanager, ExitStack\n",
    "    \n",
    "    __all__ = 'Notebook', 'Partial', 'reload', 'Lazy'"
   ]
  },
  {
   "cell_type": "markdown",
   "metadata": {},
   "source": [
    "## `sys.path_hook` modifiers"
   ]
  },
  {
   "cell_type": "code",
   "execution_count": 2,
   "metadata": {},
   "outputs": [],
   "source": [
    "    @contextmanager\n",
    "    def modify_file_finder_details():\n",
    "        \"\"\"yield the FileFinder in the sys.path_hooks that loads Python files and assure\n",
    "        the import cache is cleared afterwards.  \n",
    "        \n",
    "        Everything goes to shit if the import cache is not cleared.\"\"\"\n",
    "        \n",
    "        for id, hook in enumerate(sys.path_hooks):\n",
    "            try:\n",
    "                closure = inspect.getclosurevars(hook).nonlocals\n",
    "            except TypeError: continue\n",
    "            if issubclass(closure['cls'], FileFinder):\n",
    "                sys.path_hooks.pop(id)\n",
    "                details = list(closure['loader_details'])\n",
    "                yield details\n",
    "                break\n",
    "        sys.path_hooks.insert(id, FileFinder.path_hook(*details))\n",
    "        sys.path_importer_cache.clear()"
   ]
  },
  {
   "cell_type": "markdown",
   "metadata": {},
   "source": [
    "Update the file_finder details with functions to append and remove the [loader details](https://docs.python.org/3.7/library/importlib.html#importlib.machinery.FileFinder)."
   ]
  },
  {
   "cell_type": "code",
   "execution_count": 3,
   "metadata": {},
   "outputs": [],
   "source": [
    "    def add_path_hooks(loader: SourceFileLoader, extensions, *, position=0, lazy=False):\n",
    "        \"\"\"Update the FileFinder loader in sys.path_hooks to accomodate a {loader} with the {extensions}\"\"\"\n",
    "        with modify_file_finder_details() as details:\n",
    "            try:\n",
    "                from importlib.util import LazyLoader\n",
    "                if lazy: \n",
    "                    loader = LazyLoader.factory(loader)\n",
    "            except:\n",
    "                ImportWarning(\"\"\"LazyLoading is only available in > Python 3.5\"\"\")\n",
    "            details.insert(position, (loader, extensions))\n",
    "\n",
    "    def remove_one_path_hook(loader):\n",
    "        with modify_file_finder_details() as details:\n",
    "            _details = list(details)\n",
    "            for ct, (cls, ext) in enumerate(_details):\n",
    "                cls = lazy_loader_cls(cls)\n",
    "                if issubclass(cls, loader):\n",
    "                    details.pop(ct)\n",
    "                    break"
   ]
  },
  {
   "cell_type": "code",
   "execution_count": 4,
   "metadata": {},
   "outputs": [],
   "source": [
    "    def lazy_loader_cls(loader):\n",
    "        \"\"\"Extract the loader contents of a lazy loader in the import path.\"\"\"\n",
    "        if not isinstance(loader, type) and callable(loader):\n",
    "            return inspect.getclosurevars(loader).nonlocals.get('cls', loader)\n",
    "        return loader"
   ]
  },
  {
   "cell_type": "markdown",
   "metadata": {},
   "source": [
    "## Context Manager\n",
    "\n",
    "`importnb` uses a context manager to assure that the traditional import system behaviors as expected.  If the loader is permenantly available then it may create some unexpected import behaviors."
   ]
  },
  {
   "cell_type": "markdown",
   "metadata": {},
   "source": [
    "The way the context manager works it is difficult to attach contexts to each module."
   ]
  },
  {
   "cell_type": "code",
   "execution_count": 5,
   "metadata": {},
   "outputs": [],
   "source": [
    "    class ImportNbException(BaseException):\n",
    "        \"\"\"ImportNbException allows all exceptions to be raised, a null except statement always passes.\"\"\""
   ]
  },
  {
   "cell_type": "code",
   "execution_count": 6,
   "metadata": {},
   "outputs": [],
   "source": [
    "    class Notebook(SourceFileLoader, capture_output):\n",
    "        \"\"\"A SourceFileLoader for notebooks that provides line number debugginer in the JSON source.\"\"\"\n",
    "        EXTENSION_SUFFIXES = '.ipynb',\n",
    "        \n",
    "        def __init__(\n",
    "            self, fullname=None, path=None, *, \n",
    "            stdout=False, stderr=False, display=False, \n",
    "            lazy=False, exceptions=(ImportNbException,)\n",
    "        ): \n",
    "            SourceFileLoader.__init__(self, fullname, path)\n",
    "            capture_output.__init__(self, stdout=stdout, stderr=stderr, display=display)\n",
    "            self._lazy = lazy\n",
    "            self._exceptions = exceptions\n",
    "            \n",
    "        def __enter__(self, position=0):  \n",
    "            add_path_hooks(type(self), self.EXTENSION_SUFFIXES, position=position, lazy=self._lazy)\n",
    "            return super().__enter__()\n",
    "            \n",
    "        def exec_module(self, module):\n",
    "            \"\"\"All exceptions specific in the context.\"\"\"\n",
    "            try:\n",
    "                super().exec_module(module)\n",
    "                module.__exception__ = None\n",
    "            except self._exceptions as e:\n",
    "                \"\"\"Display a message if an error is escaped.\"\"\"\n",
    "                module.__exception__ = e\n",
    "                warn('.'.join([\n",
    "                    \"\"\"{name} was partially imported with a {error}\"\"\".format(\n",
    "                        error = type(e), name=module.__name__\n",
    "                    ),\n",
    "                    \"=\"*10, format_exc()]))\n",
    "                \n",
    "        def __exit__(self, *excepts):  remove_one_path_hook(type(self)), super().__exit__(*excepts)\n",
    "        \n",
    "        def source_to_code(Notebook, data, path):\n",
    "            with __import__('io').BytesIO(data) as stream:\n",
    "                return Compile().from_file(stream, filename=Notebook.path, name=Notebook.name)"
   ]
  },
  {
   "cell_type": "markdown",
   "metadata": {},
   "source": [
    "### Partial Loader"
   ]
  },
  {
   "cell_type": "code",
   "execution_count": 7,
   "metadata": {},
   "outputs": [],
   "source": [
    "    class Partial(Notebook): \n",
    "        \"\"\"A partial import tool for notebooks.\n",
    "        \n",
    "        Sometimes notebooks don't work, but there may be useful code!\n",
    "        \n",
    "        with Partial():\n",
    "            import Untitled as nb\n",
    "            assert nb.__exception__\n",
    "        \n",
    "        if isinstance(nb.__exception__, AssertionError):\n",
    "            print(\"There was a False assertion.\")\n",
    "                \n",
    "        Partial is useful in logging specific debugging approaches to the exception.\n",
    "        \"\"\"\n",
    "        __init__ = partialmethod(Notebook.__init__, exceptions=(BaseException,))"
   ]
  },
  {
   "cell_type": "code",
   "execution_count": 8,
   "metadata": {},
   "outputs": [],
   "source": [
    "    class Lazy(Notebook): \n",
    "        \"\"\"A lazy importer for notebooks.  For long operations and a lot of data, the lazy importer delays imports until \n",
    "        an attribute is accessed the first time.\n",
    "        \n",
    "        with Lazy():\n",
    "            import Untitled as nb\n",
    "        \"\"\"\n",
    "        __init__ = partialmethod(Notebook.__init__, lazy=True)"
   ]
  },
  {
   "cell_type": "markdown",
   "metadata": {},
   "source": [
    "# IPython Extensions"
   ]
  },
  {
   "cell_type": "code",
   "execution_count": 9,
   "metadata": {},
   "outputs": [],
   "source": [
    "    def load_ipython_extension(ip=None): \n",
    "        add_path_hooks(Notebook, Notebook.EXTENSION_SUFFIXES)\n",
    "    def unload_ipython_extension(ip=None): \n",
    "        remove_one_path_hook(Notebook)"
   ]
  },
  {
   "cell_type": "markdown",
   "metadata": {},
   "source": [
    "# Developer"
   ]
  },
  {
   "cell_type": "code",
   "execution_count": 10,
   "metadata": {
    "scrolled": false
   },
   "outputs": [],
   "source": [
    "    if __name__ ==  '__main__':\n",
    "        try:\n",
    "            from .utils import export\n",
    "        except:\n",
    "            from utils import export\n",
    "        export('loader.ipynb', '../importnb/loader.py')\n",
    "        __import__('doctest').testmod()"
   ]
  }
 ],
 "metadata": {
  "kernelspec": {
   "display_name": "p6",
   "language": "python",
   "name": "other-env"
  },
  "language_info": {
   "codemirror_mode": {
    "name": "ipython",
    "version": 3
   },
   "file_extension": ".py",
   "mimetype": "text/x-python",
   "name": "python",
   "nbconvert_exporter": "python",
   "pygments_lexer": "ipython3",
   "version": "3.6.3"
  },
  "toc": {
   "colors": {
    "hover_highlight": "#DAA520",
    "running_highlight": "#FF0000",
    "selected_highlight": "#FFD700"
   },
   "moveMenuLeft": true,
   "nav_menu": {
    "height": "29px",
    "width": "252px"
   },
   "navigate_menu": true,
   "number_sections": true,
   "sideBar": true,
   "threshold": 4,
   "toc_cell": false,
   "toc_section_display": "block",
   "toc_window_display": false,
   "widenNotebook": false
  },
  "varInspector": {
   "cols": {
    "lenName": 16,
    "lenType": 16,
    "lenVar": 40
   },
   "kernels_config": {
    "python": {
     "delete_cmd_postfix": "",
     "delete_cmd_prefix": "del ",
     "library": "var_list.py",
     "varRefreshCmd": "print(var_dic_list())"
    },
    "r": {
     "delete_cmd_postfix": ") ",
     "delete_cmd_prefix": "rm(",
     "library": "var_list.r",
     "varRefreshCmd": "cat(var_dic_list()) "
    }
   },
   "types_to_exclude": [
    "module",
    "function",
    "builtin_function_or_method",
    "instance",
    "_Feature"
   ],
   "window_display": false
  }
 },
 "nbformat": 4,
 "nbformat_minor": 2
}
