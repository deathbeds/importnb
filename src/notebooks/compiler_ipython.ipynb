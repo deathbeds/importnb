{
 "cells": [
  {
   "cell_type": "markdown",
   "metadata": {},
   "source": [
    "# Compilation\n",
    "\n",
    "Compilation occurs in the __3__ steps:\n",
    "\n",
    "1. Text is transformed into a valid source string.\n",
    "2. The source string is parsed into an abstract syntax tree\n",
    "3. The abstract syntax compiles to valid bytecode "
   ]
  },
  {
   "cell_type": "code",
   "execution_count": 1,
   "metadata": {},
   "outputs": [],
   "source": [
    "    from nbconvert.exporters.notebook import NotebookExporter\n",
    "    from IPython.core.compilerop import CachingCompiler\n",
    "    from dataclasses import dataclass, field\n",
    "    from nbformat import NotebookNode\n",
    "    import ast\n",
    "    \n",
    "    class Compiler(CachingCompiler):\n",
    "        \"\"\"{Shell} provides the IPython machinery to objects.\"\"\"\n",
    "        filename: str = '<Shell>'            \n",
    "        @property\n",
    "        def ip(Compiler): \n",
    "            \"\"\"The current interactive shell\"\"\"\n",
    "            from IPython import get_ipython\n",
    "            from IPython.core.interactiveshell import InteractiveShell\n",
    "            return get_ipython() or InteractiveShell()\n",
    "        \n",
    "        def ast_transform(Compiler, node):\n",
    "            for visitor in Compiler.ip.ast_transformers: \n",
    "                node = visitor.visit(node)\n",
    "            return node\n",
    "        \n",
    "        @property\n",
    "        def transform(Compiler): return Compiler.ip.input_transformer_manager.transform_cell\n",
    "\n",
    "        def compile(Compiler, ast): \n",
    "            \"\"\"Compile AST to bytecode using the an IPython compiler.\"\"\"\n",
    "            return (Compiler.ip and Compiler.ip.compile or CachingCompiler())(ast, Compiler.filename, 'exec')\n",
    "                \n",
    "        def ast_parse(Compiler, source, filename='<unknown>', symbol='exec', lineno=0): \n",
    "            return ast.increment_lineno(super().ast_parse(source, Compiler.filename, 'exec'), lineno)\n",
    "    "
   ]
  },
  {
   "cell_type": "code",
   "execution_count": 2,
   "metadata": {
    "scrolled": false
   },
   "outputs": [],
   "source": [
    "    if __name__ ==  '__main__':\n",
    "        from pathlib import Path\n",
    "        try:\n",
    "            from .compiler_python import ScriptExporter\n",
    "        except:\n",
    "            from compiler_python import ScriptExporter\n",
    "            \n",
    "        Path('compiler_ipython.py').write_text(ScriptExporter().from_filename('compiler_ipython.ipynb')[0])\n",
    "        __import__('doctest').testmod()"
   ]
  },
  {
   "cell_type": "code",
   "execution_count": null,
   "metadata": {},
   "outputs": [],
   "source": []
  }
 ],
 "metadata": {
  "kernelspec": {
   "display_name": "p6",
   "language": "python",
   "name": "other-env"
  },
  "language_info": {
   "codemirror_mode": {
    "name": "ipython",
    "version": 3
   },
   "file_extension": ".py",
   "mimetype": "text/x-python",
   "name": "python",
   "nbconvert_exporter": "python",
   "pygments_lexer": "ipython3",
   "version": "3.6.3"
  },
  "toc": {
   "colors": {
    "hover_highlight": "#DAA520",
    "running_highlight": "#FF0000",
    "selected_highlight": "#FFD700"
   },
   "moveMenuLeft": true,
   "nav_menu": {
    "height": "29px",
    "width": "252px"
   },
   "navigate_menu": true,
   "number_sections": true,
   "sideBar": true,
   "threshold": 4,
   "toc_cell": false,
   "toc_section_display": "block",
   "toc_window_display": false,
   "widenNotebook": false
  },
  "varInspector": {
   "cols": {
    "lenName": 16,
    "lenType": 16,
    "lenVar": 40
   },
   "kernels_config": {
    "python": {
     "delete_cmd_postfix": "",
     "delete_cmd_prefix": "del ",
     "library": "var_list.py",
     "varRefreshCmd": "print(var_dic_list())"
    },
    "r": {
     "delete_cmd_postfix": ") ",
     "delete_cmd_prefix": "rm(",
     "library": "var_list.r",
     "varRefreshCmd": "cat(var_dic_list()) "
    }
   },
   "types_to_exclude": [
    "module",
    "function",
    "builtin_function_or_method",
    "instance",
    "_Feature"
   ],
   "window_display": false
  }
 },
 "nbformat": 4,
 "nbformat_minor": 2
}
