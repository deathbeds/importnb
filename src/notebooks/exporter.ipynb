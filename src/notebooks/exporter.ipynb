{
 "cells": [
  {
   "cell_type": "code",
   "execution_count": 1,
   "metadata": {},
   "outputs": [],
   "source": [
    "    try:\n",
    "        from .decoder import LineNoDecoder\n",
    "    except:\n",
    "        from decoder import LineNoDecoder        \n",
    "        \n",
    "    __file__ = globals().get('__file__', 'exporter.ipynb')"
   ]
  },
  {
   "cell_type": "markdown",
   "metadata": {},
   "source": [
    "# Compilation\n",
    "\n",
    "Compilation occurs in the __3__ steps:\n",
    "\n",
    "1. Text is transformed into a valid source string.\n",
    "2. The source string is parsed into an abstract syntax tree\n",
    "3. The abstract syntax compiles to valid bytecode "
   ]
  },
  {
   "cell_type": "code",
   "execution_count": 2,
   "metadata": {},
   "outputs": [],
   "source": [
    "    __IPYTHON__ = False\n",
    "    try:\n",
    "        from IPython import get_ipython\n",
    "        if not get_ipython():\n",
    "            raise ValueError(\"\"\"There is no interactive IPython shell\"\"\")\n",
    "        __IPYTHON__ = True\n",
    "    except: ...\n",
    "        \n",
    "    if __IPYTHON__:\n",
    "        try:\n",
    "            from .compiler_ipython import Compiler, NotebookNode, NotebookExporter\n",
    "        except:\n",
    "            from compiler_ipython import Compiler, NotebookNode, NotebookExporter\n",
    "    else:\n",
    "        try:\n",
    "            from .compiler_python import Compiler, NotebookNode, NotebookExporter\n",
    "        except:\n",
    "            from compiler_python import Compiler, NotebookNode, NotebookExporter\n",
    "            "
   ]
  },
  {
   "cell_type": "code",
   "execution_count": 3,
   "metadata": {},
   "outputs": [],
   "source": [
    "    import ast, sys\n",
    "    from json import load, loads\n",
    "    from pathlib import Path\n",
    "    from dataclasses import dataclass"
   ]
  },
  {
   "cell_type": "code",
   "execution_count": 4,
   "metadata": {},
   "outputs": [],
   "source": [
    "    @dataclass\n",
    "    class Code(NotebookExporter, Compiler):\n",
    "        \"\"\"An exporter than returns transforms a NotebookNode through the InputSplitter.\n",
    "        \n",
    "        >>> assert type(Code().from_filename(Path(__file__).with_suffix('.ipynb'))) is NotebookNode\"\"\"\n",
    "        filename: str = '<module exporter>'\n",
    "        name: str = '__main__'\n",
    "        decoder: type = LineNoDecoder\n",
    "            \n",
    "        def __post_init__(self): NotebookExporter.__init__(self) or Compiler.__init__(self)\n",
    "                \n",
    "        def from_file(Code,file_stream, resources=None, **dict): \n",
    "            for str in ('name', 'filename'): setattr(Code, str, dict.pop(str, getattr(Code, str)))\n",
    "            return Code.from_notebook_node(\n",
    "                NotebookNode(**load(file_stream, cls=Code.decoder)), resources, **dict)\n",
    "        \n",
    "        def from_filename(Code,  filename, resources=None, **dict):\n",
    "            Code.filename, Code.name = filename, Path(filename).stem\n",
    "            return super().from_filename(filename, resources, **dict)\n",
    "\n",
    "        def from_notebook_node(Code, nb, resources=None, **dict): \n",
    "            for cell in nb['cells']:\n",
    "                if cell['cell_type'] == 'code':\n",
    "                    cell['source'] = Code.from_code_cell(cell, **dict)\n",
    "            return nb\n",
    "        \n",
    "        def from_code_cell(Code, cell, **dict):  \n",
    "            return Code.transform(cell['source'])"
   ]
  },
  {
   "cell_type": "code",
   "execution_count": 5,
   "metadata": {},
   "outputs": [],
   "source": [
    "    class AST(Code):\n",
    "        \"\"\"An exporter than returns parsed ast.\n",
    "        \n",
    "        >>> assert type(AST().from_filename(Path(__file__).with_suffix('.ipynb'))) is ast.Module\"\"\"\n",
    "        def from_notebook_node(AST, nb: NotebookNode, resource: dict=None, **dict):         \n",
    "            return AST.ast_transform(ast.fix_missing_locations(ast.Module(body=sum((\n",
    "                AST.ast_parse(\n",
    "                    AST.from_code_cell(cell, **dict), lineno=cell['metadata'].get('lineno', 1)\n",
    "                ).body for cell in nb['cells'] if cell['cell_type']=='code'\n",
    "            ), []))))\n"
   ]
  },
  {
   "cell_type": "code",
   "execution_count": 6,
   "metadata": {},
   "outputs": [],
   "source": [
    "    class Compile(AST):\n",
    "        \"\"\"An exporter that returns compiled and cached bytecode.\n",
    "        \n",
    "        >>> assert Compile().from_filename(Path(__file__).with_suffix('.ipynb'))\"\"\"        \n",
    "        def from_notebook_node(Compile, nb, resources: dict=None, **dict):\n",
    "            return Compile.compile(super().from_notebook_node(nb, resources, **dict))"
   ]
  },
  {
   "cell_type": "code",
   "execution_count": 7,
   "metadata": {
    "scrolled": false
   },
   "outputs": [],
   "source": [
    "    if __name__ ==  '__main__':\n",
    "        from pathlib import Path\n",
    "        from nbconvert.exporters.script import ScriptExporter\n",
    "        Path('exporter.py').write_text(ScriptExporter().from_filename('exporter.ipynb')[0])\n",
    "        __import__('doctest').testmod()"
   ]
  },
  {
   "cell_type": "code",
   "execution_count": null,
   "metadata": {},
   "outputs": [],
   "source": []
  }
 ],
 "metadata": {
  "kernelspec": {
   "display_name": "p6",
   "language": "python",
   "name": "other-env"
  },
  "language_info": {
   "codemirror_mode": {
    "name": "ipython",
    "version": 3
   },
   "file_extension": ".py",
   "mimetype": "text/x-python",
   "name": "python",
   "nbconvert_exporter": "python",
   "pygments_lexer": "ipython3",
   "version": "3.6.3"
  },
  "toc": {
   "colors": {
    "hover_highlight": "#DAA520",
    "running_highlight": "#FF0000",
    "selected_highlight": "#FFD700"
   },
   "moveMenuLeft": true,
   "nav_menu": {
    "height": "29px",
    "width": "252px"
   },
   "navigate_menu": true,
   "number_sections": true,
   "sideBar": true,
   "threshold": 4,
   "toc_cell": false,
   "toc_section_display": "block",
   "toc_window_display": false,
   "widenNotebook": false
  },
  "varInspector": {
   "cols": {
    "lenName": 16,
    "lenType": 16,
    "lenVar": 40
   },
   "kernels_config": {
    "python": {
     "delete_cmd_postfix": "",
     "delete_cmd_prefix": "del ",
     "library": "var_list.py",
     "varRefreshCmd": "print(var_dic_list())"
    },
    "r": {
     "delete_cmd_postfix": ") ",
     "delete_cmd_prefix": "rm(",
     "library": "var_list.r",
     "varRefreshCmd": "cat(var_dic_list()) "
    }
   },
   "types_to_exclude": [
    "module",
    "function",
    "builtin_function_or_method",
    "instance",
    "_Feature"
   ],
   "window_display": false
  }
 },
 "nbformat": 4,
 "nbformat_minor": 2
}
