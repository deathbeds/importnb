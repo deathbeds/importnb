{
 "cells": [
  {
   "cell_type": "code",
   "execution_count": null,
   "metadata": {},
   "outputs": [],
   "source": [
    "# Watchdog for modules\n",
    "\n",
    "Creates a module path from a source file to watch and execute file changes.\n",
    "\n",
    "    tricks:\n",
    "        patterns:\n",
    "        - *.ipynb\n",
    "        shell_command: ipython -m ${watch_dest_path}\n",
    "        "
   ]
  },
  {
   "cell_type": "code",
   "execution_count": 5,
   "metadata": {},
   "outputs": [],
   "source": [
    "import os\n",
    "from watchdog.tricks import ShellCommandTrick"
   ]
  },
  {
   "cell_type": "code",
   "execution_count": 6,
   "metadata": {},
   "outputs": [],
   "source": [
    "class ModuleTrick(ShellCommandTrick):\n",
    "    \"\"\"ModuleTrick is a watchdog trick that \"\"\"\n",
    "    def __init__(self, **kwargs):\n",
    "        super().__init__(**kwargs)\n",
    "        self._ignore_patterns = self._ignore_patterns or []\n",
    "        self._ignore_patterns.extend((\n",
    "            '*-checkpoint.ipynb', '.~*.ipynb'\n",
    "        ))\n",
    "    def on_any_event(self, event):\n",
    "        event.dest_path = event.src_path.lstrip('.').lstrip(os.sep).rstrip('.ipynb').rstrip('.py').replace(os.sep, '.')\n",
    "        super().on_any_event(event)"
   ]
  },
  {
   "cell_type": "code",
   "execution_count": 7,
   "metadata": {},
   "outputs": [],
   "source": [
    "if __name__ ==  '__main__':\n",
    "    try:\n",
    "        from .compiler_python import ScriptExporter\n",
    "    except:\n",
    "        from importnb.compiler_python import ScriptExporter\n",
    "    from pathlib import Path\n",
    "    Path('../../importnb/utils/watch.py').write_text(ScriptExporter().from_filename('watch.ipynb')[0])"
   ]
  },
  {
   "cell_type": "code",
   "execution_count": null,
   "metadata": {},
   "outputs": [],
   "source": []
  }
 ],
 "metadata": {
  "kernelspec": {
   "display_name": "p6",
   "language": "python",
   "name": "other-env"
  },
  "language_info": {
   "codemirror_mode": {
    "name": "ipython",
    "version": 3
   },
   "file_extension": ".py",
   "mimetype": "text/x-python",
   "name": "python",
   "nbconvert_exporter": "python",
   "pygments_lexer": "ipython3",
   "version": "3.6.3"
  }
 },
 "nbformat": 4,
 "nbformat_minor": 2
}
