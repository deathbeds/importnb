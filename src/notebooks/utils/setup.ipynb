{
 "cells": [
  {
   "cell_type": "code",
   "execution_count": 1,
   "metadata": {},
   "outputs": [],
   "source": [
    "try: \n",
    "    from .. import exporter\n",
    "except:\n",
    "    import importnb.exporter"
   ]
  },
  {
   "cell_type": "markdown",
   "metadata": {},
   "source": [
    "It is important to distribute notebooks in packages during the initial stages of code development.  This notebook creates a setuptools command class that allows for both python and notebook imports.  This was specifically created to allow notebooks as py_module imports, but could serve a greater purpose."
   ]
  },
  {
   "cell_type": "code",
   "execution_count": 2,
   "metadata": {},
   "outputs": [],
   "source": [
    "from setuptools.command.build_py import build_py\n",
    "import sys, os\n",
    "from pathlib import Path\n",
    "import importlib\n",
    "\n",
    "class build_ipynb(build_py):\n",
    "    def get_module_outfile(self, build_dir, package, module):\n",
    "        module_mapper = {module[1]: module[2] for module in self.find_all_modules()}\n",
    "        outfile_path = [build_dir] + list(package) + [module_mapper[module]]\n",
    "        return os.path.join(*outfile_path)\n",
    "\n",
    "    def find_modules(self):\n",
    "        packages, modules = {}, []\n",
    "\n",
    "        for module in self.py_modules:\n",
    "            path = module.split('.')\n",
    "            package = '.'.join(path[0:-1])\n",
    "            module_base = path[-1]\n",
    "\n",
    "            try:\n",
    "                (package_dir, checked) = packages[package]\n",
    "            except KeyError:\n",
    "                package_dir = self.get_package_dir(package)\n",
    "                checked = 0\n",
    "\n",
    "            if not checked:\n",
    "                init_py = self.check_package(package, package_dir)\n",
    "                packages[package] = (package_dir, 1)\n",
    "                if init_py:\n",
    "                    modules.append((package, \"__init__\", init_py))\n",
    "\n",
    "            module_file = os.path.join(package_dir, module_base + \".ipynb\")\n",
    "            \n",
    "            if Path(module_file).exists():\n",
    "                modules.append((package, module_base, str(module_file)))\n",
    "            else:\n",
    "                module_file = str(Path(module_file).with_suffix('.py'))\n",
    "                if self.check_module(module, module_file):\n",
    "                    modules.append((package, module_base, str(module_file)))            \n",
    "\n",
    "        return modules        "
   ]
  },
  {
   "cell_type": "code",
   "execution_count": 3,
   "metadata": {},
   "outputs": [],
   "source": [
    "    if __name__ ==  '__main__':\n",
    "        from pathlib import Path\n",
    "        try:\n",
    "            from ..compiler_python import ScriptExporter\n",
    "        except:\n",
    "            from importnb.compiler_python import ScriptExporter\n",
    "            \n",
    "        Path('../../importnb/utils/setup.py').write_text(ScriptExporter().from_filename('setup.ipynb')[0])"
   ]
  },
  {
   "cell_type": "code",
   "execution_count": null,
   "metadata": {},
   "outputs": [],
   "source": []
  }
 ],
 "metadata": {
  "kernelspec": {
   "display_name": "p6",
   "language": "python",
   "name": "other-env"
  },
  "language_info": {
   "codemirror_mode": {
    "name": "ipython",
    "version": 3
   },
   "file_extension": ".py",
   "mimetype": "text/x-python",
   "name": "python",
   "nbconvert_exporter": "python",
   "pygments_lexer": "ipython3",
   "version": "3.6.3"
  }
 },
 "nbformat": 4,
 "nbformat_minor": 2
}
