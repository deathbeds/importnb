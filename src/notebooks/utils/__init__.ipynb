{
 "cells": [
  {
   "cell_type": "code",
   "execution_count": 1,
   "metadata": {},
   "outputs": [],
   "source": [
    "__IPYTHON__ = False\n",
    "try:\n",
    "    try:\n",
    "        from . import ipython\n",
    "    except:\n",
    "        import ipython\n",
    "    if not ipython.get_ipython():\n",
    "        raise ValueError(\"\"\"There is no interactive IPython shell\"\"\")\n",
    "    __IPYTHON__ = True\n",
    "except: ...\n",
    "    \n",
    "from pathlib import Path"
   ]
  },
  {
   "cell_type": "code",
   "execution_count": 2,
   "metadata": {},
   "outputs": [],
   "source": [
    "try:\n",
    "    from ..compiler_python import ScriptExporter\n",
    "    \n",
    "except:\n",
    "    from importnb.compiler_python import ScriptExporter"
   ]
  },
  {
   "cell_type": "code",
   "execution_count": 3,
   "metadata": {},
   "outputs": [],
   "source": [
    "def export(src, dst):\n",
    "    Path(dst).write_text(ScriptExporter().from_filename(src)[0])"
   ]
  },
  {
   "cell_type": "code",
   "execution_count": 4,
   "metadata": {},
   "outputs": [],
   "source": [
    "if __name__ ==  '__main__':\n",
    "    \n",
    "    export('__init__.ipynb', '../../importnb/utils/__init__.py')\n",
    "    export('__init__.ipynb', '__init__.py')"
   ]
  }
 ],
 "metadata": {
  "kernelspec": {
   "display_name": "p6",
   "language": "python",
   "name": "other-env"
  },
  "language_info": {
   "codemirror_mode": {
    "name": "ipython",
    "version": 3
   },
   "file_extension": ".py",
   "mimetype": "text/x-python",
   "name": "python",
   "nbconvert_exporter": "python",
   "pygments_lexer": "ipython3",
   "version": "3.6.3"
  }
 },
 "nbformat": 4,
 "nbformat_minor": 2
}
