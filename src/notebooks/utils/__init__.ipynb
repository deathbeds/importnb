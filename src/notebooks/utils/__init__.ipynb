{
 "cells": [
  {
   "cell_type": "code",
   "execution_count": 1,
   "metadata": {},
   "outputs": [],
   "source": [
    "    __IPYTHON__ = False\n",
    "\n",
    "    try:\n",
    "        from IPython import get_ipython\n",
    "        if not get_ipython(): ...\n",
    "        else: __IPYTHON__ = True\n",
    "    except: ...\n",
    "\n",
    "    from pathlib import Path"
   ]
  },
  {
   "cell_type": "code",
   "execution_count": 2,
   "metadata": {},
   "outputs": [],
   "source": [
    "    try:\n",
    "        from ..compiler_python import ScriptExporter \n",
    "    except:\n",
    "        from importnb.compiler_python import ScriptExporter"
   ]
  },
  {
   "cell_type": "code",
   "execution_count": 3,
   "metadata": {},
   "outputs": [],
   "source": [
    "def export(src, dst, columns=100):\n",
    "    try:\n",
    "        from black import format_str\n",
    "    except:\n",
    "        format_str = lambda str, int: str\n",
    "    Path(dst).write_text(\n",
    "        format_str(ScriptExporter().from_filename(src)[0], columns))"
   ]
  },
  {
   "cell_type": "code",
   "execution_count": 4,
   "metadata": {},
   "outputs": [],
   "source": [
    "if __name__ ==  '__main__':   \n",
    "    export('__init__.ipynb', '../../importnb/utils/__init__.py')\n",
    "    export('__init__.ipynb', '__init__.py')"
   ]
  }
 ],
 "metadata": {
  "kernelspec": {
   "display_name": "p6",
   "language": "python",
   "name": "other-env"
  },
  "language_info": {
   "codemirror_mode": {
    "name": "ipython",
    "version": 3
   },
   "file_extension": ".py",
   "mimetype": "text/x-python",
   "name": "python",
   "nbconvert_exporter": "python",
   "pygments_lexer": "ipython3",
   "version": "3.6.3"
  }
 },
 "nbformat": 4,
 "nbformat_minor": 2
}
