{
 "cells": [
  {
   "cell_type": "code",
   "execution_count": 1,
   "metadata": {},
   "outputs": [],
   "source": [
    "def install(profile='profile_default'):\n",
    "    from IPython import get_ipython\n",
    "    from IPython.core.magics.execution import ExecutionMagics\n",
    "    from IPython.paths import get_ipython_dir\n",
    "\n",
    "    from pathlib import Path\n",
    "    startup = Path(get_ipython_dir()) / profile / 'startup'\n",
    "    startup.mkdir(exist_ok=True)\n",
    "    script = startup / 'importnb_startup.ipy'\n",
    "    script.write_text(\"\"\"%reload_ext importnb\"\"\")\n",
    "    ExecutionMagics(get_ipython()).run(str(script))\n",
    "    \n",
    "def load_ipython_extension(ip): install()"
   ]
  },
  {
   "cell_type": "code",
   "execution_count": 2,
   "metadata": {
    "scrolled": false
   },
   "outputs": [],
   "source": [
    "if __name__ ==  '__main__':\n",
    "    try:\n",
    "        from .compiler_python import ScriptExporter\n",
    "    except:\n",
    "        from importnb.compiler_python import ScriptExporter\n",
    "    from pathlib import Path\n",
    "    Path('../../importnb/utils/ipython.py').write_text(ScriptExporter().from_filename('ipython.ipynb')[0])"
   ]
  },
  {
   "cell_type": "code",
   "execution_count": null,
   "metadata": {},
   "outputs": [],
   "source": []
  }
 ],
 "metadata": {
  "kernelspec": {
   "display_name": "p6",
   "language": "python",
   "name": "other-env"
  },
  "language_info": {
   "codemirror_mode": {
    "name": "ipython",
    "version": 3
   },
   "file_extension": ".py",
   "mimetype": "text/x-python",
   "name": "python",
   "nbconvert_exporter": "python",
   "pygments_lexer": "ipython3",
   "version": "3.6.3"
  }
 },
 "nbformat": 4,
 "nbformat_minor": 2
}
