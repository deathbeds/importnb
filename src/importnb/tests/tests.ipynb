{
 "cells": [
  {
   "cell_type": "code",
   "execution_count": 2,
   "metadata": {},
   "outputs": [],
   "source": [
    "    from importnb import Notebook, Main, reload, parameterize, Parameterize\n",
    "    from importnb.helpers import IMPORTED, INTERACTIVE, CLI, MAIN\n",
    "    import sys\n",
    "    from pytest import fixture, raises, mark\n",
    "    import json, linecache, inspect, ast"
   ]
  },
  {
   "cell_type": "code",
   "execution_count": 8,
   "metadata": {},
   "outputs": [],
   "source": [
    "    try: from IPython import get_ipython\n",
    "    except: get_ipython = lambda: None"
   ]
  },
  {
   "cell_type": "code",
   "execution_count": 39,
   "metadata": {},
   "outputs": [],
   "source": [
    "    def test_basic():\n",
    "        with Notebook(): import foobar\n",
    "        assert isinstance(foobar.__loader__, Notebook)\n",
    "        del foobar"
   ]
  },
  {
   "cell_type": "code",
   "execution_count": 40,
   "metadata": {},
   "outputs": [],
   "source": [
    "    @fixture\n",
    "    def module():\n",
    "        sys.path_importer_cache.clear()\n",
    "        with Notebook(): import foobar\n",
    "        yield foobar\n",
    "        del foobar"
   ]
  },
  {
   "cell_type": "code",
   "execution_count": 41,
   "metadata": {},
   "outputs": [],
   "source": [
    "    @fixture\n",
    "    def package():\n",
    "        with Notebook(): \n",
    "            import foobaz.foobar\n",
    "        yield foobaz.foobar\n",
    "        del foobaz"
   ]
  },
  {
   "cell_type": "code",
   "execution_count": 42,
   "metadata": {},
   "outputs": [],
   "source": [
    "    def test_package(package, module):\n",
    "        assert not module.__package__\n",
    "        assert package.__package__"
   ]
  },
  {
   "cell_type": "code",
   "execution_count": 43,
   "metadata": {},
   "outputs": [],
   "source": [
    "    def test_main(module): \n",
    "        new = Main.load(module.__file__)\n",
    "        assert new is not module, \"\"\"A copy of the module was not made\"\"\"\n",
    "        assert new.__name__ == '__main__'\n",
    "        assert __import__(new.__name__) != new, \"\"\"The loader replaced main.\"\"\""
   ]
  },
  {
   "cell_type": "code",
   "execution_count": 44,
   "metadata": {},
   "outputs": [],
   "source": [
    "    def test_reload(module): \n",
    "        \"\"\"delete a method from the module and see if it is recovered\"\"\"\n",
    "        del module._repr_markdown_\n",
    "        \n",
    "        \"\"\"The contextmanager is required.\"\"\"\n",
    "        with Notebook():\n",
    "            reload(module)\n",
    "        assert hasattr(module, '_repr_markdown_')"
   ]
  },
  {
   "cell_type": "code",
   "execution_count": 45,
   "metadata": {},
   "outputs": [],
   "source": [
    "    def test_docstrings(module):\n",
    "        assert module.__doc__\n",
    "        assert module.function_with_markdown_docstring.__doc__\n",
    "        assert module.function_with_python_docstring.__doc__"
   ]
  },
  {
   "cell_type": "code",
   "execution_count": 46,
   "metadata": {},
   "outputs": [],
   "source": [
    "    def test_docstring_opts(module):\n",
    "        with Notebook(_markdown_docstring=False):\n",
    "            reload(module)\n",
    "        assert module.__doc__\n",
    "        assert not module.function_with_markdown_docstring.__doc__\n",
    "        assert module.function_with_python_docstring.__doc__"
   ]
  },
  {
   "cell_type": "code",
   "execution_count": 47,
   "metadata": {},
   "outputs": [],
   "source": [
    "    def test_from_file(module):\n",
    "        new = Notebook.load(module.__file__)\n",
    "        assert module is not new"
   ]
  },
  {
   "cell_type": "code",
   "execution_count": 48,
   "metadata": {},
   "outputs": [],
   "source": [
    "    def test_module_source(module): \n",
    "        with raises(json.JSONDecodeError):\n",
    "            json.loads(''.join(linecache.cache[module.__file__][2]))\n",
    "        assert inspect.getsource(module).strip() == ''.join(linecache.cache[module.__file__][2]).strip()"
   ]
  },
  {
   "cell_type": "code",
   "execution_count": 49,
   "metadata": {},
   "outputs": [],
   "source": [
    "    def test_object_source(module): \n",
    "        assert ast.parse(inspect.getsource(module.function_with_markdown_docstring)), \"\"\"The source is invalid\"\"\""
   ]
  },
  {
   "cell_type": "code",
   "execution_count": 50,
   "metadata": {},
   "outputs": [],
   "source": [
    "    @mark.skipif(not get_ipython(), reason=\"\"\"Not IPython.\"\"\")\n",
    "    def test_with_shell(module): \n",
    "        with Notebook(): reload(module)\n",
    "        assert not module.__loader__._shell\n",
    "        with Notebook(_shell=True): reload(module)\n",
    "        assert module.__loader__._shell"
   ]
  },
  {
   "cell_type": "code",
   "execution_count": 51,
   "metadata": {},
   "outputs": [],
   "source": [
    "    def test_python_file():\n",
    "        import foobar as module\n",
    "        assert reload(module).__file__.endswith('.py'), \"\"\"Python didn't take precedent.\"\"\"\n",
    "        with Notebook(): assert reload(module).__file__.endswith('.ipynb')\n",
    "        assert reload(module).__file__.endswith('.py')\n",
    "        with Notebook(): assert reload(module).__file__.endswith('.ipynb')"
   ]
  },
  {
   "cell_type": "code",
   "execution_count": 52,
   "metadata": {},
   "outputs": [],
   "source": [
    "    @mark.skipif(not get_ipython(), reason=\"\"\"Not IPython.\"\"\")\n",
    "    def test_cli(module): \n",
    "        !ipython -m $module.__name__"
   ]
  },
  {
   "cell_type": "code",
   "execution_count": 53,
   "metadata": {},
   "outputs": [],
   "source": [
    "    def test_parameterize(module):\n",
    "        f = parameterize(module)\n",
    "        assert 'a_parameter' in f.__signature__.parameters\n",
    "        assert 'not_a_parameter' not in f.__signature__.parameters\n",
    "        assert isinstance(f(), type(module))"
   ]
  },
  {
   "cell_type": "code",
   "execution_count": 54,
   "metadata": {},
   "outputs": [],
   "source": [
    "    def test_minified_json(module): \n",
    "        with open(module.__file__) as f, open('foobarmin.ipynb', 'w') as o: \n",
    "            json.dump(json.load(f), o, indent=None)\n",
    "            \n",
    "        with Notebook():\n",
    "            import foobarmin \n",
    "            \n",
    "        assert inspect.getsource(foobarmin.function_with_markdown_docstring)\n",
    "            \n",
    "        with open(foobarmin.__file__) as file:\n",
    "            assert json.load(file)"
   ]
  },
  {
   "cell_type": "code",
   "execution_count": 55,
   "metadata": {},
   "outputs": [],
   "source": [
    "    def test_fuzzy_finder(): \n",
    "        import __bar\n",
    "        assert __bar.__name__ == 'foobar'\n",
    "        del __bar"
   ]
  },
  {
   "cell_type": "code",
   "execution_count": 56,
   "metadata": {},
   "outputs": [],
   "source": [
    "    def test_remote():  \n",
    "        ...\n"
   ]
  },
  {
   "cell_type": "code",
   "execution_count": 57,
   "metadata": {},
   "outputs": [],
   "source": [
    "    def test_helpers():\n",
    "        assert IMPORTED\n",
    "        assert not any({CLI, INTERACTIVE, MAIN})"
   ]
  },
  {
   "cell_type": "code",
   "execution_count": 58,
   "metadata": {},
   "outputs": [
    {
     "name": "stdout",
     "output_type": "stream",
     "text": [
      "============================= test session starts =============================\n",
      "platform win32 -- Python 3.6.5, pytest-3.5.1, py-1.5.3, pluggy-0.6.0 -- C:\\Anaconda3\\python.exe\n",
      "cachedir: ..\\..\\..\\.pytest_cache\n",
      "rootdir: C:\\Users\\deathbeds\\importnb, inifile: tox.ini\n",
      "plugins: testmon-0.9.12, remotedata-0.2.1, openfiles-0.3.0, doctestplus-0.1.3, arraydiff-0.2, hypothesis-3.66.16\n",
      "collecting ... \n",
      "======================== no tests ran in 0.02 seconds =========================\n",
      "---------------------------------------------------------------------------\n",
      "SystemExit                                Traceback (most recent call last)\n",
      "C:\\Anaconda3\\lib\\runpy.py in run_module(mod_name, init_globals, run_name, alter_sys)\n",
      "    203         run_name = mod_name\n",
      "    204     if alter_sys:\n",
      "--> 205         return _run_module_code(code, init_globals, run_name, mod_spec)\n",
      "    206     else:\n",
      "    207         # Leave the sys module alone\n",
      "\n",
      "C:\\Anaconda3\\lib\\runpy.py in _run_module_code(code, init_globals, mod_name, mod_spec, pkg_name, script_name)\n",
      "     94         mod_globals = temp_module.module.__dict__\n",
      "     95         _run_code(code, mod_globals, init_globals,\n",
      "---> 96                   mod_name, mod_spec, pkg_name, script_name)\n",
      "     97     # Copy the globals of the temporary module, as they\n",
      "     98     # may be cleared when the temporary module goes away\n",
      "\n",
      "C:\\Anaconda3\\lib\\runpy.py in _run_code(code, run_globals, init_globals, mod_name, mod_spec, pkg_name, script_name)\n",
      "     83                        __package__ = pkg_name,\n",
      "     84                        __spec__ = mod_spec)\n",
      "---> 85     exec(code, run_globals)\n",
      "     86     return run_globals\n",
      "     87 \n",
      "\n",
      "C:\\Anaconda3\\lib\\site-packages\\pytest.py in <module>()\n",
      "     72     # we trigger the below \"else\" condition by the following import\n",
      "     73     import pytest\n",
      "---> 74     raise SystemExit(pytest.main())\n",
      "     75 else:\n",
      "     76 \n",
      "\n",
      "SystemExit: 4\n"
     ]
    },
    {
     "name": "stderr",
     "output_type": "stream",
     "text": [
      "ERROR: not found: C:\\Users\\deathbeds\\importnb\\src\\importnb\\tests\\tests.ipynb\n",
      "(no name 'C:\\\\Users\\\\deathbeds\\\\importnb\\\\src\\\\importnb\\\\tests\\\\tests.ipynb' in any of [])\n",
      "\n",
      "C:\\Anaconda3\\lib\\site-packages\\IPython\\core\\interactiveshell.py:2634: UserWarning: Unknown failure executing module: <pytest>\n",
      "  warn('Unknown failure executing module: <%s>' % mod_name)\n"
     ]
    }
   ],
   "source": [
    "    if __name__ == '__main__':\n",
    "        !ipython -m pytest -- -s -p no:pytest-importnb tests.ipynb"
   ]
  },
  {
   "cell_type": "code",
   "execution_count": null,
   "metadata": {},
   "outputs": [],
   "source": []
  },
  {
   "cell_type": "code",
   "execution_count": null,
   "metadata": {},
   "outputs": [],
   "source": []
  }
 ],
 "metadata": {
  "kernelspec": {
   "display_name": "Python 3",
   "language": "python",
   "name": "python3"
  },
  "language_info": {
   "codemirror_mode": {
    "name": "ipython",
    "version": 3
   },
   "file_extension": ".py",
   "mimetype": "text/x-python",
   "name": "python",
   "nbconvert_exporter": "python",
   "pygments_lexer": "ipython3",
   "version": "3.6.5"
  }
 },
 "nbformat": 4,
 "nbformat_minor": 2
}
