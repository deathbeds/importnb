{
 "cells": [
  {
   "cell_type": "code",
   "execution_count": 1,
   "metadata": {},
   "outputs": [],
   "source": [
    "    from unittest import TestCase, expectedFailure, skipUnless\n",
    "    IPY = False\n",
    "    try:\n",
    "        from IPython import get_ipython\n",
    "        from IPython.utils.capture import capture_output\n",
    "        IPY = get_ipython and get_ipython()\n",
    "    except: \n",
    "        get_ipython = None\n",
    "    from pathlib import Path\n",
    "    \n",
    "    try:\n",
    "        from importnb import *\n",
    "    except:\n",
    "        # install importnb if it doesn't exist, this makes the tests work on binder.\n",
    "        __import__('subprocess').check_call(\"pip install importnb\".split())\n",
    "        from importnb import *\n",
    "\n",
    "    __file__ = globals().get('__file__', 'unittests.ipynb')"
   ]
  },
  {
   "cell_type": "code",
   "execution_count": 5,
   "metadata": {},
   "outputs": [],
   "source": [
    "    class NullException(BaseException): ..."
   ]
  },
  {
   "cell_type": "code",
   "execution_count": 2,
   "metadata": {},
   "outputs": [],
   "source": [
    "    class TestExtension(TestCase): \n",
    "        def setUp(Test): load_ipython_extension()\n",
    "                \n",
    "        def test_import(Test):\n",
    "            try:\n",
    "                from . import import_this\n",
    "            except:\n",
    "                import import_this\n",
    "\n",
    "            assert import_this.__file__.endswith('.ipynb')\n",
    "            assert import_this.test is 42\n",
    "            assert isinstance(import_this, __import__('types').ModuleType)\n",
    "            \n",
    "        @expectedFailure\n",
    "        def test_failure(Test):\n",
    "            try:\n",
    "                from . import failure\n",
    "            except NullException:\n",
    "                import failure\n",
    "            \n",
    "        def tearDown(Test): unload_ipython_extension()\n"
   ]
  },
  {
   "cell_type": "code",
   "execution_count": 3,
   "metadata": {},
   "outputs": [],
   "source": [
    "    class TestContext(TestCase): \n",
    "        def setUp(Test): \n",
    "            with Notebook(): \n",
    "                try:\n",
    "                    from . import import_this\n",
    "                except:\n",
    "                    import import_this\n",
    "            Test.loader = import_this\n",
    "                  \n",
    "        def test_import(Test):\n",
    "            loader = Test.loader\n",
    "            assert loader.__file__.endswith('.ipynb')\n",
    "            assert loader.test is 42\n",
    "            assert isinstance(loader, __import__('types').ModuleType)\n",
    "            \n",
    "        @skipUnless(not IPY, \"\"\"importnb is probably installed\"\"\")\n",
    "        @expectedFailure\n",
    "        def test_reload_without_context(Test):\n",
    "            reload(Test.loader)\n",
    "            \n",
    "        def test_reload_with_context(Test):\n",
    "            with Notebook(): assert reload(Test.loader)"
   ]
  },
  {
   "cell_type": "code",
   "execution_count": 4,
   "metadata": {},
   "outputs": [],
   "source": [
    "    class TestPartial(TestCase): \n",
    "        def setUp(Test): \n",
    "            with Partial(stderr=True, stdout=True): \n",
    "                try:\n",
    "                    from . import failure\n",
    "                except:\n",
    "                    import failure\n",
    "            Test.failure = failure\n",
    "                  \n",
    "        def test_exception(Test):\n",
    "            assert Test.failure.a is 42\n",
    "            assert isinstance(Test.failure.__exception__, BaseException)\n",
    "            assert not hasattr(Test.failure, 'b')\n",
    "            \n",
    "        def test_traceback(Test):\n",
    "            from traceback import print_tb\n",
    "            from io import StringIO\n",
    "            s = StringIO()\n",
    "            print_tb(Test.failure.__exception__.__traceback__, file=s)\n",
    "            assert \"\"\"tests/failure.ipynb\", line 22, in <module>\\n    \"    assert False\\\\n\"\"\" in s.getvalue(), \"\"\"Traceback is not satisfied\"\"\""
   ]
  },
  {
   "cell_type": "code",
   "execution_count": 5,
   "metadata": {},
   "outputs": [],
   "source": [
    "    class TestRemote(TestCase): \n",
    "        @skipUnless(False and IPY\n",
    "             and (\n",
    "                Path(__file__).parent / 'PythonDataScienceHandbook').exists(), \n",
    "            \"\"\"requires IP\"\"\")\n",
    "        def test_imports(Test):\n",
    "            with capture_output(), Notebook():\n",
    "                try:\n",
    "                    from .PythonDataScienceHandbook.notebooks import _02_The_Basics_Of_NumPy_Arrays as tutorial\n",
    "                except:\n",
    "                    from PythonDataScienceHandbook.notebooks import _02_The_Basics_Of_NumPy_Arrays as tutorial\n",
    "            assert all(hasattr(tutorial, str) for str in ('grid', 'x', 'x1', 'x2'))"
   ]
  },
  {
   "cell_type": "code",
   "execution_count": 6,
   "metadata": {},
   "outputs": [],
   "source": [
    "    from pytest import mark"
   ]
  },
  {
   "cell_type": "markdown",
   "metadata": {},
   "source": [
    "    @mark.skipif(not IPY, reason=\"\"\"We need ipython\"\"\")\n",
    "    def test_readme():\n",
    "        get_ipython().system('jupyter nbconvert --to markdown --execute --ExecutePreprocessor.kernel_name=python ../../../readme.ipynb')\n",
    "        get_ipython().system('cd .. && ipython -m readme')"
   ]
  },
  {
   "cell_type": "code",
   "execution_count": 8,
   "metadata": {},
   "outputs": [
    {
     "name": "stderr",
     "output_type": "stream",
     "text": [
      "unittests.ipynb:5: ImportWarning: can't resolve package from __spec__ or __package__, falling back on __name__ and __path__\n",
      "..sunittests.ipynb:17: ImportWarning: can't resolve package from __spec__ or __package__, falling back on __name__ and __path__\n",
      "xunittests.ipynb:6: ImportWarning: can't resolve package from __spec__ or __package__, falling back on __name__ and __path__\n",
      "...s\n",
      "----------------------------------------------------------------------\n",
      "Ran 8 tests in 2.019s\n",
      "\n",
      "OK (skipped=2, expected failures=1)\n"
     ]
    }
   ],
   "source": [
    "    if __name__ == '__main__':\n",
    "        __import__('unittest').main(argv='discover'.split(), exit=False)"
   ]
  },
  {
   "cell_type": "code",
   "execution_count": 9,
   "metadata": {},
   "outputs": [
    {
     "name": "stdout",
     "output_type": "stream",
     "text": [
      "\u001b[1m============================= test session starts ==============================\u001b[0m\n",
      "platform darwin -- Python 3.5.4, pytest-3.5.1, py-1.5.3, pluggy-0.6.0\n",
      "benchmark: 3.1.1 (defaults: timer=time.perf_counter disable_gc=False min_rounds=5 min_time=0.000005 max_time=1.0 calibration_precision=10 warmup=False warmup_iterations=100000)\n",
      "rootdir: /Users/tonyfast/importnb, inifile:\n",
      "plugins: ignore-flaky-0.1.1, benchmark-3.1.1, importnb-0.2.5\n",
      "collected 16 items                                                             \u001b[0m\n",
      "\n",
      "test_importnb.ipynb .sxx..x.\u001b[36m                                             [ 50%]\u001b[0m\n",
      "test_unittests.ipynb ....xsF.\u001b[36m                                            [100%]\u001b[0m\n",
      "\n",
      "=================================== FAILURES ===================================\n",
      "\u001b[1m\u001b[31m__________________________ TestExtension.test_failure __________________________\u001b[0m\n",
      "Unexpected success\n",
      "\u001b[1m\u001b[31m=========== 1 failed, 9 passed, 2 skipped, 4 xfailed in 2.59 seconds ===========\u001b[0m\n"
     ]
    }
   ],
   "source": [
    "    if __name__ == '__main__':\n",
    "        get_ipython().system('python -m pytest ')"
   ]
  },
  {
   "cell_type": "code",
   "execution_count": null,
   "metadata": {},
   "outputs": [],
   "source": []
  }
 ],
 "metadata": {
  "kernelspec": {
   "display_name": "p6",
   "language": "python",
   "name": "other-env"
  },
  "language_info": {
   "codemirror_mode": {
    "name": "ipython",
    "version": 3
   },
   "file_extension": ".py",
   "mimetype": "text/x-python",
   "name": "python",
   "nbconvert_exporter": "python",
   "pygments_lexer": "ipython3",
   "version": "3.6.3"
  },
  "toc": {
   "colors": {
    "hover_highlight": "#DAA520",
    "running_highlight": "#FF0000",
    "selected_highlight": "#FFD700"
   },
   "moveMenuLeft": true,
   "nav_menu": {
    "height": "29px",
    "width": "252px"
   },
   "navigate_menu": true,
   "number_sections": true,
   "sideBar": true,
   "threshold": 4,
   "toc_cell": false,
   "toc_section_display": "block",
   "toc_window_display": false,
   "widenNotebook": false
  },
  "varInspector": {
   "cols": {
    "lenName": 16,
    "lenType": 16,
    "lenVar": 40
   },
   "kernels_config": {
    "python": {
     "delete_cmd_postfix": "",
     "delete_cmd_prefix": "del ",
     "library": "var_list.py",
     "varRefreshCmd": "print(var_dic_list())"
    },
    "r": {
     "delete_cmd_postfix": ") ",
     "delete_cmd_prefix": "rm(",
     "library": "var_list.r",
     "varRefreshCmd": "cat(var_dic_list()) "
    }
   },
   "types_to_exclude": [
    "module",
    "function",
    "builtin_function_or_method",
    "instance",
    "_Feature"
   ],
   "window_display": false
  }
 },
 "nbformat": 4,
 "nbformat_minor": 2
}
