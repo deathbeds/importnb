{
 "cells": [
  {
   "cell_type": "code",
   "execution_count": 1,
   "metadata": {},
   "outputs": [
    {
     "name": "stdout",
     "output_type": "stream",
     "text": [
      "True\n"
     ]
    }
   ],
   "source": [
    "from importnb import Notebook, reload, load_ipython_extension, unload_ipython_extension, Execute, Interactive\n",
    "from pathlib import Path\n",
    "import shutil, os, functools, sys\n",
    "from pytest import fixture, mark\n",
    "from functools import partial\n",
    "Lazy = partial(Notebook, lazy=True)\n",
    "Partial = partial(Notebook, exceptions=BaseException)\n",
    "import warnings\n",
    "try: __IPYTHON__\n",
    "except: __IPYTHON__ = False    \n",
    "print(__IPYTHON__)"
   ]
  },
  {
   "cell_type": "code",
   "execution_count": 2,
   "metadata": {},
   "outputs": [],
   "source": [
    "from collections import ChainMap"
   ]
  },
  {
   "cell_type": "code",
   "execution_count": 3,
   "metadata": {},
   "outputs": [],
   "source": [
    "try:\n",
    "    from nbformat.v4 import new_notebook, new_code_cell, new_markdown_cell, writes\n",
    "except:\n",
    "    from functools import partial\n",
    "    from json import dumps \n",
    "    writes = partial(dumps, indent=2)\n",
    "    def new_notebook(**kwargs):\n",
    "        return dict(ChainMap({\"nbformat\": 4, \"nbformat_minor\": 2, \"metadata\": {}}, kwargs))\n",
    "    def new_cell(type, source, **kwargs): return dict(ChainMap({\n",
    "        'cell_type': type, 'source': list(map(\"{}\\n\".format, source.splitlines())), 'metadata': {}}, kwargs))\n",
    "    new_markdown_cell = partial(new_cell, 'markdown')\n",
    "    new_code_cell = partial(new_cell, 'code')"
   ]
  },
  {
   "cell_type": "code",
   "execution_count": 4,
   "metadata": {},
   "outputs": [],
   "source": [
    "def atestnotebook(str='foo') -> str:\n",
    "    \"\"\"Stringify a new notebook to test with a simple set of instructions that may be formatter.\n",
    "    \n",
    "    >>> assert isinstance(atestnotebook(), str)\n",
    "    \"\"\"\n",
    "    nb = new_notebook(cells=[\n",
    "            new_markdown_cell(\"\"\"This is the docstring.\n",
    "                \n",
    "                >>> assert True\n",
    "            \"\"\"),\n",
    "            new_code_cell(\"\"\"foo = 42\\nassert {}\\nbar= 100\"\"\".format(str), outputs=[], execution_count=None),\n",
    "            new_code_cell(\"\"\"print(foo)\"\"\", outputs=[], execution_count=None),\n",
    "            new_markdown_cell(\"\"\"Markdown paragraph\"\"\"),\n",
    "            new_code_cell(\"\"\"_repr_markdown_ = lambda: 'a custom repr {foo}'.format(foo=foo)\"\"\", outputs=[], execution_count=None),\n",
    "    ])\n",
    "    return writes(nb)"
   ]
  },
  {
   "cell_type": "markdown",
   "metadata": {},
   "source": [
    "# Test Single File Modules\n",
    "\n",
    "Single file modules mimic common Untitled notebooks.  An author should be able to trivially import notebooks in their working directory."
   ]
  },
  {
   "cell_type": "markdown",
   "metadata": {},
   "source": [
    "## Single File Fixtures"
   ]
  },
  {
   "cell_type": "code",
   "execution_count": 5,
   "metadata": {},
   "outputs": [],
   "source": [
    "@fixture(scope='function')\n",
    "def single_file(request):\n",
    "    \"\"\"A fixture to write a new notebook to disk and delete after each function call.\"\"\"\n",
    "    name = Path('foobar.ipynb')\n",
    "    with name.open('w') as file:\n",
    "        file.write(atestnotebook())\n",
    "#     request.addfinalizer(functools.partial(os.remove, str(name)))\n",
    "    return file"
   ]
  },
  {
   "cell_type": "markdown",
   "metadata": {},
   "source": [
    "Each time a file is imported we should clear up the sys path to reset our imports and assure the validity of our tests."
   ]
  },
  {
   "cell_type": "code",
   "execution_count": 6,
   "metadata": {},
   "outputs": [],
   "source": [
    "@fixture\n",
    "def nb(single_file, request):\n",
    "    def clean_sys():\n",
    "        import sys\n",
    "        if 'foobar' in sys.modules:\n",
    "            del sys.modules['foobar']\n",
    "        sys.path_importer_cache.clear()\n",
    "    request.addfinalizer(clean_sys)"
   ]
  },
  {
   "cell_type": "markdown",
   "metadata": {},
   "source": [
    "`importnb`'s most generic use is as a context manager.  `with Notebook()` will update the `sys.path_hooks` to import notebooks as modules."
   ]
  },
  {
   "cell_type": "code",
   "execution_count": 7,
   "metadata": {},
   "outputs": [],
   "source": [
    "def test_single_file_with_context(nb):\n",
    "    with Notebook():\n",
    "        import foobar\n",
    "    assert foobar.foo == 42 and foobar.bar == 100\n",
    "    \n",
    "    validate_reload(foobar)"
   ]
  },
  {
   "cell_type": "markdown",
   "metadata": {},
   "source": [
    "Add tests for failure condition"
   ]
  },
  {
   "cell_type": "code",
   "execution_count": 8,
   "metadata": {},
   "outputs": [],
   "source": [
    "three_point_seven = mark.skipif(sys.version_info.major == 3 and sys.version_info.minor >= 7, reason=\"\"\"There is a new docstring parameter in the Module ast.\"\"\")"
   ]
  },
  {
   "cell_type": "code",
   "execution_count": 9,
   "metadata": {},
   "outputs": [],
   "source": [
    "@three_point_seven\n",
    "def test_from_filename(single_file):\n",
    "    foobar = Notebook(stdout=True).from_filename('foobar.ipynb')\n",
    "    assert foobar.foo == 42 and foobar.bar == 100\n",
    "    assert foobar.__name__ != '__main__'\n",
    "    assert foobar._capture.stdout\n",
    "    assert foobar.__doc__.strip().startswith(\"\"\"This is the docstring.\"\"\")"
   ]
  },
  {
   "cell_type": "code",
   "execution_count": 10,
   "metadata": {},
   "outputs": [],
   "source": [
    "from importnb.execute import new_stream"
   ]
  },
  {
   "cell_type": "code",
   "execution_count": 11,
   "metadata": {},
   "outputs": [],
   "source": [
    "@three_point_seven\n",
    "def test_from_execute(single_file):\n",
    "    foobar = Execute(stdout=True).from_filename('foobar.ipynb')\n",
    "    assert foobar.foo == 42 and foobar.bar == 100\n",
    "    assert foobar.__name__ != '__main__'\n",
    "    assert foobar._notebook\n",
    "    assert any(\n",
    "        any(set(output.items()).issubset(new_stream(\"42\\n\").items()) for output in object.get('outputs', [])) for object in foobar._notebook['cells']\n",
    "    )\n",
    "    assert foobar.__doc__.strip().startswith(\"\"\"This is the docstring.\"\"\")"
   ]
  },
  {
   "cell_type": "code",
   "execution_count": 12,
   "metadata": {},
   "outputs": [],
   "source": [
    "@three_point_seven\n",
    "def test_with_doctest(single_file):\n",
    "    foobar = Notebook(stdout=True).from_filename('foobar.ipynb')\n",
    "    import doctest\n",
    "    test = doctest.testmod(foobar)\n",
    "    assert test.attempted\n",
    "    assert not test.failed"
   ]
  },
  {
   "cell_type": "code",
   "execution_count": 13,
   "metadata": {},
   "outputs": [],
   "source": [
    "def test_from_filename_main(single_file):\n",
    "    foobar = Notebook('__main__', stdout=True).from_filename('foobar.ipynb')\n",
    "    assert foobar.foo == 42 and foobar.bar == 100\n",
    "    assert foobar.__name__ == '__main__'\n",
    "    assert foobar._capture.stdout\n",
    "    "
   ]
  },
  {
   "cell_type": "code",
   "execution_count": 14,
   "metadata": {},
   "outputs": [],
   "source": [
    "def test_parameterize(nb):\n",
    "    with Notebook():\n",
    "        import foobar\n",
    "    \n",
    "    from importnb.parameterize import Parameterize\n",
    "    \n",
    "    f = Parameterize(stdout=True).from_filename(foobar.__file__)\n",
    "    \n",
    "    foobar = f()\n",
    "    \n",
    "    assert foobar.foo == 42 and foobar.bar == 100\n",
    "    \n",
    "    foobar = f(foo=\"something\", bar=0)\n",
    "    print(foobar.foo, foobar.bar)\n",
    "    assert foobar.foo == \"something\" and foobar.bar == 0\n",
    "    \n",
    "    assert any(\n",
    "        any(set(output.items()).issubset(new_stream(\"something\\n\").items()) for output in object.get('outputs', [])) for object in foobar._notebook['cells']\n",
    "    )\n",
    "    # assert foobar.__doc__.strip().startswith(\"\"\"This is the docstring.\"\"\")"
   ]
  },
  {
   "cell_type": "code",
   "execution_count": 15,
   "metadata": {},
   "outputs": [],
   "source": [
    "def test_commandline(nb):\n",
    "    if __IPYTHON__:\n",
    "        from IPython import get_ipython\n",
    "        get_ipython().system('ipython -m importnb -- foobar.ipynb --foo=\"Another thing\"')\n",
    "    else:\n",
    "        from subprocess import call\n",
    "        call('python -m importnb foobar.ipynb --foo'.split() + [\"Another thing\"])"
   ]
  },
  {
   "cell_type": "code",
   "execution_count": 16,
   "metadata": {},
   "outputs": [],
   "source": [
    "def test_python_file(nb):\n",
    "    with Notebook(stdout=True):\n",
    "        from pyimport import foobar\n",
    "    assert foobar.foo == 42 and foobar.bar == 100\n",
    "#     assert foobar.__output__.stdout == \"42\\n\"\n",
    "    validate_reload(foobar)"
   ]
  },
  {
   "cell_type": "code",
   "execution_count": 17,
   "metadata": {},
   "outputs": [],
   "source": [
    "def test_single_file_with_capture(nb):\n",
    "    # I don't think i can test stderr with pytest\n",
    "    with Notebook(stdout=True, stderr=True):\n",
    "        import foobar\n",
    "    out = foobar._capture\n",
    "    assert foobar.foo == 42 and foobar.bar == 100\n",
    "    assert out.stdout\n",
    "#     assert out.stderr\n",
    "    assert out.stdout == \"42\\n\"\n",
    "    \n",
    "    validate_reload(foobar)"
   ]
  },
  {
   "cell_type": "code",
   "execution_count": 18,
   "metadata": {},
   "outputs": [],
   "source": [
    "def test_capturer():\n",
    "    from importnb.capture import capture_output\n",
    "    if __IPYTHON__:\n",
    "        from IPython.utils.capture import capture_output as ipython_version\n",
    "        assert capture_output is ipython_version"
   ]
  },
  {
   "cell_type": "code",
   "execution_count": 19,
   "metadata": {},
   "outputs": [],
   "source": [
    "@mark.skipif(sys.version_info.minor==4, reason=\"\"\"Requires > python 3.5\"\"\")\n",
    "def test_single_file_with_lazy(nb):\n",
    "    from importnb.capture import capture_output    \n",
    "    with Lazy(), capture_output(stdout=True) as out:\n",
    "        import foobar\n",
    "    assert not out.stdout\n",
    "    with capture_output() as out:\n",
    "        foobar.foo\n",
    "    assert out.stdout\n",
    "    validate_reload(foobar)"
   ]
  },
  {
   "cell_type": "markdown",
   "metadata": {},
   "source": [
    "Each time we test a notebook import we should test the ability to reload the module.  `importnb` expresses the ability to use the normal Python import system, and a notebook must reload for interactive development."
   ]
  },
  {
   "cell_type": "code",
   "execution_count": 20,
   "metadata": {},
   "outputs": [],
   "source": [
    "def validate_reload(module):\n",
    "    try:\n",
    "        reload(module)\n",
    "        assert False, \"\"\"The reload should have fail.\"\"\"\n",
    "    except:\n",
    "        assert True, \"\"\"Cannot reload a file outside of a context manager\"\"\"\n",
    "\n",
    "    with Notebook():\n",
    "        assert reload(module)"
   ]
  },
  {
   "cell_type": "markdown",
   "metadata": {},
   "source": [
    "A notebook will not import without the context manager or [IPython extension](#IPython-extension)."
   ]
  },
  {
   "cell_type": "code",
   "execution_count": 21,
   "metadata": {},
   "outputs": [],
   "source": [
    "@mark.xfail\n",
    "def test_single_file_without_context():\n",
    "    import foobar"
   ]
  },
  {
   "cell_type": "markdown",
   "metadata": {},
   "source": [
    "In the `__main__` context, relative imports are not allowed. "
   ]
  },
  {
   "cell_type": "code",
   "execution_count": 22,
   "metadata": {},
   "outputs": [],
   "source": [
    "@mark.xfail\n",
    "def test_single_file_relative(single_file):\n",
    "    with Notebook():\n",
    "        from . import foobar"
   ]
  },
  {
   "cell_type": "markdown",
   "metadata": {},
   "source": [
    "Commonly, we use the `try` statement to allow the ability to use relative imports in a package while developing interactively.\n",
    "\n",
    "    try:\n",
    "        from . import a_module\n",
    "    except:\n",
    "        import a_module"
   ]
  },
  {
   "cell_type": "markdown",
   "metadata": {},
   "source": [
    "## IPython extension\n",
    "\n",
    "In general, an author would use IPython sugar to load an extension\n",
    "\n",
    "    %load_ext importnb\n",
    "    \n",
    "For testing purposes we use the explicit functions to create the extensions"
   ]
  },
  {
   "cell_type": "code",
   "execution_count": 23,
   "metadata": {},
   "outputs": [],
   "source": [
    "@fixture\n",
    "def extension(nb, request):\n",
    "    load_ipython_extension()\n",
    "    request.addfinalizer(unload_ipython_extension)"
   ]
  },
  {
   "cell_type": "code",
   "execution_count": 24,
   "metadata": {},
   "outputs": [],
   "source": [
    "def test_single_with_extension(extension):\n",
    "    import foobar\n",
    "    assert foobar.foo == 42 and foobar.bar == 100"
   ]
  },
  {
   "cell_type": "code",
   "execution_count": 25,
   "metadata": {},
   "outputs": [],
   "source": [
    "@fixture\n",
    "def single_directory(request):\n",
    "    root = Path('a_test_package')\n",
    "    try:\n",
    "        root.mkdir(exist_ok=True)\n",
    "    except TypeError:\n",
    "        #py34\n",
    "        try:\n",
    "            root.mkdir(parents=True)\n",
    "        except FileExistsError: ...\n",
    "    with (root / 'foobar.ipynb').open('w') as file:\n",
    "        file.write(atestnotebook())\n",
    "    with (root / 'failure.ipynb').open('w') as file:\n",
    "        file.write(atestnotebook('False'))\n",
    "    with (root / 'py.py').open('w') as file:\n",
    "        file.write(\"\"\"from . import foobar\\nbaz = 'foobar'\"\"\")\n",
    "    request.addfinalizer(functools.partial(shutil.rmtree, str(root)))\n",
    "    return root"
   ]
  },
  {
   "cell_type": "code",
   "execution_count": 26,
   "metadata": {},
   "outputs": [],
   "source": [
    "def test_package(single_directory):\n",
    "    with Notebook():\n",
    "        from a_test_package import foobar, py\n",
    "        \n",
    "    assert foobar.foo == 42 and foobar.bar == 100\n",
    "    assert py.baz == 'foobar'\n",
    "    assert py.foobar is foobar\n",
    "    validate_reload(foobar)"
   ]
  },
  {
   "cell_type": "code",
   "execution_count": 27,
   "metadata": {},
   "outputs": [],
   "source": [
    "@mark.xfail\n",
    "def test_package_failure(single_directory):\n",
    "    with Notebook():\n",
    "        from a_test_package import failure"
   ]
  },
  {
   "cell_type": "markdown",
   "metadata": {},
   "source": [
    "## Partial Imports."
   ]
  },
  {
   "cell_type": "code",
   "execution_count": 28,
   "metadata": {},
   "outputs": [],
   "source": [
    "def test_package_failure_partial(single_directory):\n",
    "    with Partial():\n",
    "        from a_test_package import failure\n",
    "        \n",
    "    assert isinstance(failure._exception, AssertionError), \"\"\"\n",
    "    The wrong error was returned likely because of importnb.\"\"\"\n",
    "\n",
    "    from traceback import print_tb\n",
    "    from io import StringIO\n",
    "    s = StringIO()\n",
    "    with open(failure.__file__, 'r') as f:\n",
    "        line = list(i for i, line in enumerate(f.read().splitlines()) if 'assert False' in line)[0] + 1\n",
    "    print_tb(failure._exception.__traceback__, file=s)\n",
    "    assert \"\"\"a_test_package/failure.ipynb\", line {}, in <module>\\n\"\"\".format(line) in s.getvalue(), \"\"\"Traceback is not satisfied\"\"\""
   ]
  },
  {
   "cell_type": "code",
   "execution_count": 29,
   "metadata": {},
   "outputs": [],
   "source": [
    "def test_tmp_dir(single_file):\n",
    "    from shutil import copy\n",
    "    from tempfile import TemporaryDirectory\n",
    "    with TemporaryDirectory() as directory:\n",
    "        copy('foobar.ipynb', directory+'/foobar2.ipynb')\n",
    "        copied = Path(directory) / 'foobar2.ipynb'\n",
    "        with Notebook(dir=directory) as loader:\n",
    "            print(os.getcwd())\n",
    "            print(list(Path(os.getcwd()).glob('*')))\n",
    "            try:\n",
    "                from . import foobar2 as nb\n",
    "            except:\n",
    "                import foobar2 as nb\n",
    "            \n",
    "    print(nb.__file__)\n",
    "        \n",
    "    assert directory in nb.__file__"
   ]
  },
  {
   "cell_type": "code",
   "execution_count": 33,
   "metadata": {},
   "outputs": [],
   "source": [
    "def test_query_numeric_files():\n",
    "    with Notebook():\n",
    "        import __2018_06_01_A_Blog_Post\n",
    "    assert __2018_06_01_A_Blog_Post.__file__.endswith(\"\"\"2018-06-01-A Blog Post.ipynb\"\"\")"
   ]
  },
  {
   "cell_type": "code",
   "execution_count": null,
   "metadata": {},
   "outputs": [],
   "source": []
  }
 ],
 "metadata": {
  "kernelspec": {
   "display_name": "p6",
   "language": "python",
   "name": "other-env"
  },
  "language_info": {
   "codemirror_mode": {
    "name": "ipython",
    "version": 3
   },
   "file_extension": ".py",
   "mimetype": "text/x-python",
   "name": "python",
   "nbconvert_exporter": "python",
   "pygments_lexer": "ipython3",
   "version": "3.6.3"
  }
 },
 "nbformat": 4,
 "nbformat_minor": 2
}
