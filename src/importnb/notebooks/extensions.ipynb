{
 "cells": [
  {
   "cell_type": "markdown",
   "metadata": {},
   "source": [
    "# Jupyter magic extensions"
   ]
  },
  {
   "cell_type": "markdown",
   "metadata": {},
   "source": [
    "    %importnb --stdout --stderr --display --shell"
   ]
  },
  {
   "cell_type": "code",
   "execution_count": 1,
   "metadata": {},
   "outputs": [],
   "source": [
    "    import argparse\n",
    "    from importlib import import_module"
   ]
  },
  {
   "cell_type": "code",
   "execution_count": 2,
   "metadata": {},
   "outputs": [
    {
     "data": {
      "text/plain": [
       "_StoreTrueAction(option_strings=['--fuzzy'], dest='fuzzy', nargs=0, const=True, default=False, type=None, choices=None, help=None, metavar=None)"
      ]
     },
     "execution_count": 2,
     "metadata": {},
     "output_type": "execute_result"
    }
   ],
   "source": [
    "    def get_module_object(str):\n",
    "        module, object = str.split(':', 1) \n",
    "        return getattr(import_module(module), object)\n",
    "\n",
    "\n",
    "    parser = argparse.ArgumentParser(description=\"\"\"Define the importnb loader properties.\"\"\")\n",
    "    parser.add_argument('--stdout', action='store_false')\n",
    "    parser.add_argument('--stderr', action='store_false')\n",
    "    parser.add_argument('--display', action='store_false')\n",
    "    parser.add_argument('--cls', type=get_module_object, default='importnb.Notebook')\n",
    "    parser.add_argument('--fuzzy', action=\"store_true\")"
   ]
  },
  {
   "cell_type": "markdown",
   "metadata": {},
   "source": [
    "    parser.parse_args(\"--stdout --cls importnb.execute:Execute\".split())"
   ]
  },
  {
   "cell_type": "code",
   "execution_count": 3,
   "metadata": {},
   "outputs": [],
   "source": [
    "    try:\n",
    "        from IPython.core import magic_arguments\n",
    "        from IPython.core.magic import Magics, magics_class, line_magic, cell_magic, line_cell_magic\n",
    "        __IPYTHON__ = True\n",
    "    except: __IPYTHON__ = False"
   ]
  },
  {
   "cell_type": "code",
   "execution_count": 4,
   "metadata": {},
   "outputs": [],
   "source": [
    "    if __IPYTHON__:\n",
    "        @magics_class\n",
    "        class ImportNbExtension(Magics):\n",
    "            def __init__(self, shell):\n",
    "                super().__init__(shell)\n",
    "\n",
    "            @line_magic\n",
    "            def importnb(self, line):\n",
    "                args = parser.parse_args(line.split())\n",
    "                return line\n",
    "\n",
    "            @cell_magic\n",
    "            def cmagic(self, line, cell):\n",
    "                eval()\n",
    "                return line, cell\n",
    "\n",
    "            @line_cell_magic\n",
    "            def lcmagic(self, line, cell=None):\n",
    "                \"Magic that works both as %lcmagic and as %%lcmagic\"\n",
    "                if cell is None:\n",
    "                    print(\"Called as line magic\")\n",
    "                    return line\n",
    "                else:\n",
    "                    print(\"Called as cell magic\")\n",
    "                    return line, cell"
   ]
  },
  {
   "cell_type": "code",
   "execution_count": 5,
   "metadata": {},
   "outputs": [],
   "source": [
    "    def load_ipython_extension(ip=None):\n",
    "        from .loader import Notebook\n",
    "        loader = Notebook(shell=True)\n",
    "        if ip: ip.register_magics(ImportNbExtension)\n",
    "        loader.__enter__()\n",
    "\n",
    "    def unload_ipython_extension(ip=None):\n",
    "        from .loader import Notebook\n",
    "        Notebook(shell=True).__exit__(None, None, None)"
   ]
  },
  {
   "cell_type": "markdown",
   "metadata": {},
   "source": [
    "# Developer"
   ]
  },
  {
   "cell_type": "code",
   "execution_count": 6,
   "metadata": {},
   "outputs": [],
   "source": [
    "    if __name__ ==  '__main__':\n",
    "        try:  from utils.export import export\n",
    "        except: from .utils.export import export\n",
    "        export('extensions.ipynb', '../extensions.py')\n",
    "        #m = Notebook(shell=True).from_filename('extensions.ipynb')\n",
    "        #print(__import__('doctest').testmod(m, verbose=2))"
   ]
  },
  {
   "cell_type": "code",
   "execution_count": null,
   "metadata": {},
   "outputs": [],
   "source": []
  }
 ],
 "metadata": {
  "kernelspec": {
   "display_name": "p6",
   "language": "python",
   "name": "other-env"
  },
  "language_info": {
   "codemirror_mode": {
    "name": "ipython",
    "version": 3
   },
   "file_extension": ".py",
   "mimetype": "text/x-python",
   "name": "python",
   "nbconvert_exporter": "python",
   "pygments_lexer": "ipython3",
   "version": "3.6.3"
  },
  "toc": {
   "colors": {
    "hover_highlight": "#DAA520",
    "running_highlight": "#FF0000",
    "selected_highlight": "#FFD700"
   },
   "moveMenuLeft": true,
   "nav_menu": {
    "height": "29px",
    "width": "252px"
   },
   "navigate_menu": true,
   "number_sections": true,
   "sideBar": true,
   "threshold": 4,
   "toc_cell": false,
   "toc_section_display": "block",
   "toc_window_display": false,
   "widenNotebook": false
  },
  "varInspector": {
   "cols": {
    "lenName": 16,
    "lenType": 16,
    "lenVar": 40
   },
   "kernels_config": {
    "python": {
     "delete_cmd_postfix": "",
     "delete_cmd_prefix": "del ",
     "library": "var_list.py",
     "varRefreshCmd": "print(var_dic_list())"
    },
    "r": {
     "delete_cmd_postfix": ") ",
     "delete_cmd_prefix": "rm(",
     "library": "var_list.r",
     "varRefreshCmd": "cat(var_dic_list()) "
    }
   },
   "types_to_exclude": [
    "module",
    "function",
    "builtin_function_or_method",
    "instance",
    "_Feature"
   ],
   "window_display": false
  }
 },
 "nbformat": 4,
 "nbformat_minor": 2
}
