{
 "cells": [
  {
   "cell_type": "markdown",
   "metadata": {},
   "source": [
    "# Jupyter magic extensions"
   ]
  },
  {
   "cell_type": "markdown",
   "metadata": {},
   "source": [
    "    %importnb --stdout --stderr --display --shell"
   ]
  },
  {
   "cell_type": "code",
   "execution_count": 10,
   "metadata": {},
   "outputs": [],
   "source": [
    "    from .loader import Notebook\n",
    "    from IPython.core import magic_arguments\n",
    "    from IPython.core.magic import Magics, magics_class, line_magic, cell_magic, line_cell_magic"
   ]
  },
  {
   "cell_type": "code",
   "execution_count": 11,
   "metadata": {},
   "outputs": [],
   "source": [
    "@magics_class\n",
    "class ImportNbExtension(Magics):\n",
    "    \n",
    "    def __init__(self, shell, data):\n",
    "        super(StatefulMagics, self).__init__(shell)\n",
    "        self.data = data\n",
    "        \n",
    "    @line_magic\n",
    "    @magic_arguments.magic_arguments()\n",
    "    @magic_arguments.argument(\n",
    "        \"var_name\",\n",
    "        default=None,\n",
    "        nargs=\"?\",\n",
    "        help=\"\"\"Name of local variable to set to parsed value\"\"\"\n",
    "    )\n",
    "    @magic_arguments.argument(\n",
    "        \"-l\", \"--loader\",\n",
    "        default=\"yaml.SafeLoader\",\n",
    "        help=\"\"\"Dotted-notation class to use for loading\"\"\"\n",
    "    )\n",
    "    def importnb(self, line):\n",
    "        args = magic_arguments.parse_argstring(self.importnb, line)\n",
    "\n",
    "        \"my line magic\"\n",
    "        print(\"Full access to the main IPython object:\", self.shell)\n",
    "        print(\"Variables in the user namespace:\", list(self.shell.user_ns.keys()))\n",
    "        return line\n",
    "\n",
    "    @cell_magic\n",
    "    def cmagic(self, line, cell):\n",
    "        \"my cell magic\"\n",
    "        return line, cell\n",
    "\n",
    "    @line_cell_magic\n",
    "    def lcmagic(self, line, cell=None):\n",
    "        \"Magic that works both as %lcmagic and as %%lcmagic\"\n",
    "        if cell is None:\n",
    "            print(\"Called as line magic\")\n",
    "            return line\n",
    "        else:\n",
    "            print(\"Called as cell magic\")\n",
    "            return line, cell"
   ]
  },
  {
   "cell_type": "code",
   "execution_count": 12,
   "metadata": {},
   "outputs": [],
   "source": [
    "    def load_ipython_extension(ip=None):\n",
    "        add_path_hooks(Notebook(shell=True), Notebook.EXTENSION_SUFFIXES)\n",
    "        ip.register_magics(ImportNbExtension)\n",
    "\n",
    "    def unload_ipython_extension(ip=None):\n",
    "        remove_one_path_hook(Notebook)"
   ]
  },
  {
   "cell_type": "markdown",
   "metadata": {},
   "source": [
    "# Developer"
   ]
  },
  {
   "cell_type": "code",
   "execution_count": null,
   "metadata": {},
   "outputs": [],
   "source": []
  },
  {
   "cell_type": "code",
   "execution_count": 4,
   "metadata": {},
   "outputs": [
    {
     "name": "stdout",
     "output_type": "stream",
     "text": [
      "7 items had no tests:\n",
      "    extensions\n",
      "    extensions.ImportNbExtension\n",
      "    extensions.ImportNbExtension.cmagic\n",
      "    extensions.ImportNbExtension.lcmagic\n",
      "    extensions.ImportNbExtension.lmagic\n",
      "    extensions.load_ipython_extension\n",
      "    extensions.unload_ipython_extension\n",
      "0 tests in 7 items.\n",
      "0 passed and 0 failed.\n",
      "Test passed.\n",
      "TestResults(failed=0, attempted=0)\n"
     ]
    }
   ],
   "source": [
    "    if __name__ ==  '__main__':\n",
    "        try:  from utils.export import export\n",
    "        except: from .utils.export import export\n",
    "        export('extensions.ipynb', '../extensions.py')\n",
    "        m = Notebook(shell=True).from_filename('extensions.ipynb')\n",
    "        print(__import__('doctest').testmod(m, verbose=2))"
   ]
  }
 ],
 "metadata": {
  "kernelspec": {
   "display_name": "p6",
   "language": "python",
   "name": "other-env"
  },
  "language_info": {
   "codemirror_mode": {
    "name": "ipython",
    "version": 3
   },
   "file_extension": ".py",
   "mimetype": "text/x-python",
   "name": "python",
   "nbconvert_exporter": "python",
   "pygments_lexer": "ipython3",
   "version": "3.6.3"
  },
  "toc": {
   "colors": {
    "hover_highlight": "#DAA520",
    "running_highlight": "#FF0000",
    "selected_highlight": "#FFD700"
   },
   "moveMenuLeft": true,
   "nav_menu": {
    "height": "29px",
    "width": "252px"
   },
   "navigate_menu": true,
   "number_sections": true,
   "sideBar": true,
   "threshold": 4,
   "toc_cell": false,
   "toc_section_display": "block",
   "toc_window_display": false,
   "widenNotebook": false
  },
  "varInspector": {
   "cols": {
    "lenName": 16,
    "lenType": 16,
    "lenVar": 40
   },
   "kernels_config": {
    "python": {
     "delete_cmd_postfix": "",
     "delete_cmd_prefix": "del ",
     "library": "var_list.py",
     "varRefreshCmd": "print(var_dic_list())"
    },
    "r": {
     "delete_cmd_postfix": ") ",
     "delete_cmd_prefix": "rm(",
     "library": "var_list.r",
     "varRefreshCmd": "cat(var_dic_list()) "
    }
   },
   "types_to_exclude": [
    "module",
    "function",
    "builtin_function_or_method",
    "instance",
    "_Feature"
   ],
   "window_display": false
  }
 },
 "nbformat": 4,
 "nbformat_minor": 2
}
