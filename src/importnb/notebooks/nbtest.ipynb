{
 "cells": [
  {
   "cell_type": "markdown",
   "metadata": {},
   "source": [
    "# Load and test notebooks\n",
    "\n",
    "New ideas may include tests in a notebook.  The `importnb.test.Test` context will `doctest` and `unittest` a notebook.\n",
    "\n",
    "    >>> from importnb import NotebookTest\n",
    "    >>> assert NotebookTest"
   ]
  },
  {
   "cell_type": "code",
   "execution_count": 1,
   "metadata": {},
   "outputs": [],
   "source": [
    "    try:\n",
    "        from .loader import Notebook\n",
    "    except:\n",
    "        from loader import Notebook\n",
    "\n",
    "    from unittest import TestProgram, TestCase\n",
    "    from doctest import DocTestSuite\n",
    "    \n",
    "    __file__ = globals().get('__file__', 'nbtest.ipynb')"
   ]
  },
  {
   "cell_type": "code",
   "execution_count": 2,
   "metadata": {},
   "outputs": [],
   "source": [
    "    def attach_doctest(module):\n",
    "        \"\"\"A function to include doctests in a unittest suite.\n",
    "        \"\"\"\n",
    "        def load_tests(loader, tests, ignore):\n",
    "            tests.addTests(DocTestSuite(module))\n",
    "            return tests\n",
    "        module.load_tests = load_tests\n",
    "        return module"
   ]
  },
  {
   "cell_type": "code",
   "execution_count": 3,
   "metadata": {},
   "outputs": [],
   "source": [
    "    def testmod(module, extras=\"\", doctest=True, exit=True, verbosity=1, failfast=None, catchbreak=None):\n",
    "        \"\"\"Test a module using unittest, include the docstrings by default.\"\"\"\n",
    "        if doctest:\n",
    "            attach_doctest(module)\n",
    "        try:\n",
    "            TestProgram(module, argv=' '.join(('discover', extras)).split(), exit=exit, verbosity=verbosity, failfast=failfast, catchbreak=catchbreak)\n",
    "        except SystemExit: ...\n",
    "        return module"
   ]
  },
  {
   "cell_type": "code",
   "execution_count": 4,
   "metadata": {},
   "outputs": [],
   "source": [
    "    class NotebookTest(Notebook):\n",
    "        def exec_module(self, module):\n",
    "            super().exec_module(module)\n",
    "            testmod(module)"
   ]
  },
  {
   "cell_type": "code",
   "execution_count": 5,
   "metadata": {},
   "outputs": [],
   "source": [
    "    class _test(TestCase):\n",
    "        def test_importnb_test(self):\n",
    "            assert True"
   ]
  },
  {
   "cell_type": "code",
   "execution_count": 7,
   "metadata": {
    "scrolled": false
   },
   "outputs": [
    {
     "name": "stderr",
     "output_type": "stream",
     "text": [
      "..\n",
      "----------------------------------------------------------------------\n",
      "Ran 2 tests in 0.003s\n",
      "\n",
      "OK\n",
      "..\n",
      "----------------------------------------------------------------------\n",
      "Ran 2 tests in 0.003s\n",
      "\n",
      "OK\n"
     ]
    }
   ],
   "source": [
    "    if __name__ ==  '__main__':\n",
    "        export('nbtest.ipynb', '../nbtest.py')\n",
    "        __import__('doctest').testmod(Notebook().from_filename('nbtest.ipynb'))\n",
    "        m = NotebookTest().from_filename(__file__)\n",
    "        testmod(m, \"-f\")"
   ]
  },
  {
   "cell_type": "code",
   "execution_count": null,
   "metadata": {},
   "outputs": [],
   "source": []
  }
 ],
 "metadata": {
  "kernelspec": {
   "display_name": "p6",
   "language": "python",
   "name": "other-env"
  },
  "language_info": {
   "codemirror_mode": {
    "name": "ipython",
    "version": 3
   },
   "file_extension": ".py",
   "mimetype": "text/x-python",
   "name": "python",
   "nbconvert_exporter": "python",
   "pygments_lexer": "ipython3",
   "version": "3.6.3"
  }
 },
 "nbformat": 4,
 "nbformat_minor": 2
}
