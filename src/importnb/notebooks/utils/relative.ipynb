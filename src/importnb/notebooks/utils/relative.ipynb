{
 "cells": [
  {
   "cell_type": "markdown",
   "metadata": {},
   "source": [
    "An ast node transformer to allow relative imports in the notebook.\n",
    "\n",
    "This is generally meant to be used in the main context.\n",
    "\n",
    "    > %load_ext importnb.utils.relative\n",
    "    >>> if __name__ == '__main__':\n",
    "    ...     from .__tive import RelativeImport"
   ]
  },
  {
   "cell_type": "code",
   "execution_count": 1,
   "metadata": {},
   "outputs": [],
   "source": [
    "    import ast"
   ]
  },
  {
   "cell_type": "code",
   "execution_count": 2,
   "metadata": {},
   "outputs": [],
   "source": [
    "    class RelativeImport(ast.NodeTransformer):\n",
    "        def visit_Try(self, node): return node\n",
    "\n",
    "        visit_ClassDef = visit_FuntionDef = visit_Try\n",
    "\n",
    "        def visit_ImportFrom(self, node):\n",
    "            if node.level == 1:\n",
    "                if node.module:\n",
    "                    next = ast.ImportFrom(node.module, node.names, 0)\n",
    "                else:\n",
    "                    next = ast.Import(node.names)\n",
    "\n",
    "                node = ast.copy_location(ast.Try(\n",
    "                    [node], \n",
    "                    [ast.ExceptHandler(None, None, [ast.copy_location(next, node)])], \n",
    "                    [], []), node)\n",
    "\n",
    "            return node"
   ]
  },
  {
   "cell_type": "code",
   "execution_count": 3,
   "metadata": {},
   "outputs": [],
   "source": [
    "    def load_ipython_extension(ip=None):\n",
    "        if ip:\n",
    "            unload_ipython_extension(ip)\n",
    "            ip.ast_transformers += [RelativeImport()]"
   ]
  },
  {
   "cell_type": "code",
   "execution_count": 4,
   "metadata": {},
   "outputs": [],
   "source": [
    "    def unload_ipython_extension(ip):\n",
    "        if ip:\n",
    "            ip.ast_transformers = [\n",
    "                object for object in ip.ast_transformers if not isinstance(object, RelativeImport)\n",
    "            ] "
   ]
  },
  {
   "cell_type": "code",
   "execution_count": 5,
   "metadata": {
    "scrolled": false
   },
   "outputs": [],
   "source": [
    "    if __name__ ==  '__main__':\n",
    "        from importnb.utils.export import export\n",
    "        export('relative.ipynb', '../../utils/relative.py')"
   ]
  }
 ],
 "metadata": {
  "kernelspec": {
   "display_name": "p6",
   "language": "python",
   "name": "other-env"
  },
  "language_info": {
   "codemirror_mode": {
    "name": "ipython",
    "version": 3
   },
   "file_extension": ".py",
   "mimetype": "text/x-python",
   "name": "python",
   "nbconvert_exporter": "python",
   "pygments_lexer": "ipython3",
   "version": "3.6.3"
  }
 },
 "nbformat": 4,
 "nbformat_minor": 2
}
