{
 "cells": [
  {
   "cell_type": "markdown",
   "metadata": {},
   "source": [
    "# The `export` module\n",
    "\n",
    "...provides compatibility for Python and IPython through [`compile_python`](compile_python.ipynb) and [`compile_ipython`](compile_ipython.ipynb), respectively.  \n",
    "\n",
    "    >>> from importnb.utils.export import export"
   ]
  },
  {
   "cell_type": "code",
   "execution_count": 1,
   "metadata": {},
   "outputs": [],
   "source": [
    "    try:\n",
    "        from ..decoder import loads, transform_cells\n",
    "    except:\n",
    "        from importnb.decoder import loads, transform_cells"
   ]
  },
  {
   "cell_type": "code",
   "execution_count": 2,
   "metadata": {},
   "outputs": [],
   "source": [
    "    def export(file, to=None): \n",
    "        from pathlib import Path\n",
    "        try:\n",
    "            from black import format_str\n",
    "        except:\n",
    "            format_str = lambda x, i: x\n",
    "            format_str(code, 100)\n",
    "        \n",
    "        with open(str(file), 'r') as f:\n",
    "            code = '\\n'.join(\n",
    "                ''.join(cell['source'])\n",
    "                for cell in transform_cells(loads(f.read()))['cells']\n",
    "                if cell['cell_type'] == 'code')\n",
    "        to and Path(to).with_suffix('.py').write_text(code)\n",
    "        return code    "
   ]
  },
  {
   "cell_type": "code",
   "execution_count": 3,
   "metadata": {
    "scrolled": false
   },
   "outputs": [
    {
     "name": "stdout",
     "output_type": "stream",
     "text": [
      "Trying:\n",
      "    from importnb.utils.export import export\n",
      "Expecting nothing\n",
      "ok\n",
      "1 items had no tests:\n",
      "    export.export\n",
      "1 items passed all tests:\n",
      "   1 tests in export\n",
      "1 tests in 2 items.\n",
      "1 passed and 0 failed.\n",
      "Test passed.\n"
     ]
    }
   ],
   "source": [
    "    if __name__ ==  '__main__':\n",
    "        export('export.ipynb', '../../utils/export.py')\n",
    "        try: import export as this\n",
    "        except: from . import export as this\n",
    "        __import__('doctest').testmod(this, verbose=2)"
   ]
  },
  {
   "cell_type": "code",
   "execution_count": null,
   "metadata": {},
   "outputs": [],
   "source": []
  }
 ],
 "metadata": {
  "kernelspec": {
   "display_name": "p6",
   "language": "python",
   "name": "other-env"
  },
  "language_info": {
   "codemirror_mode": {
    "name": "ipython",
    "version": 3
   },
   "file_extension": ".py",
   "mimetype": "text/x-python",
   "name": "python",
   "nbconvert_exporter": "python",
   "pygments_lexer": "ipython3",
   "version": "3.6.3"
  }
 },
 "nbformat": 4,
 "nbformat_minor": 2
}
