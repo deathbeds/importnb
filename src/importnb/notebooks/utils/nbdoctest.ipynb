{
 "cells": [
  {
   "cell_type": "code",
   "execution_count": 5,
   "metadata": {},
   "outputs": [],
   "source": [
    "    from doctest import OPTIONFLAGS_BY_NAME, testfile, testmod, FAIL_FAST\n",
    "    import os, argparse\n",
    "    try:\n",
    "        from ..loader import Notebook\n",
    "    except:\n",
    "        from importnb import Notebook"
   ]
  },
  {
   "cell_type": "code",
   "execution_count": 6,
   "metadata": {},
   "outputs": [],
   "source": [
    "    def _test():\n",
    "        parser = argparse.ArgumentParser(description=\"doctest runner\")\n",
    "        parser.add_argument('-v', '--verbose', action='store_true', default=False,\n",
    "                            help='print very verbose output for all tests')\n",
    "        parser.add_argument('-o', '--option', action='append',\n",
    "                            choices=OPTIONFLAGS_BY_NAME.keys(), default=[],\n",
    "                            help=('specify a doctest option flag to apply'\n",
    "                                  ' to the test run; may be specified more'\n",
    "                                  ' than once to apply multiple options'))\n",
    "        parser.add_argument('-f', '--fail-fast', action='store_true',\n",
    "                            help=('stop running tests after first failure (this'\n",
    "                                  ' is a shorthand for -o FAIL_FAST, and is'\n",
    "                                  ' in addition to any other -o options)'))\n",
    "        parser.add_argument('file', nargs='+',\n",
    "                            help='file containing the tests to run')\n",
    "        args = parser.parse_args()\n",
    "        testfiles = args.file\n",
    "        # Verbose used to be handled by the \"inspect argv\" magic in DocTestRunner,\n",
    "        # but since we are using argparse we are passing it manually now.\n",
    "        verbose = args.verbose\n",
    "        options = 0\n",
    "        for option in args.option:\n",
    "            options |= OPTIONFLAGS_BY_NAME[option]\n",
    "        if args.fail_fast:\n",
    "            options |= FAIL_FAST\n",
    "        for filename in testfiles:\n",
    "            if any(map(filename.endswith, (\".py\", \".ipynb\"))):\n",
    "                # It is a module -- insert its dir into sys.path and try to\n",
    "                # import it. If it is part of a package, that possibly\n",
    "                # won't work because of package imports.\n",
    "                failures, _ = testmod(Notebook.load(filename), verbose=verbose, optionflags=options)\n",
    "            else:\n",
    "                failures, _ = testfile(filename, module_relative=False,\n",
    "                                         verbose=verbose, optionflags=options)\n",
    "            if failures:\n",
    "                return 1\n",
    "        return 0"
   ]
  },
  {
   "cell_type": "code",
   "execution_count": 7,
   "metadata": {},
   "outputs": [],
   "source": [
    "    if __name__ == '__main__':\n",
    "        _test()"
   ]
  },
  {
   "cell_type": "code",
   "execution_count": 8,
   "metadata": {},
   "outputs": [],
   "source": [
    "    if __name__ ==  '__main__':\n",
    "        from .export import export\n",
    "        export('nbdoctest.ipynb', '../../utils/nbdoctest.py')"
   ]
  },
  {
   "cell_type": "code",
   "execution_count": null,
   "metadata": {},
   "outputs": [],
   "source": []
  }
 ],
 "metadata": {
  "kernelspec": {
   "display_name": "Python 3",
   "language": "python",
   "name": "python3"
  },
  "language_info": {
   "codemirror_mode": {
    "name": "ipython",
    "version": 3
   },
   "file_extension": ".py",
   "mimetype": "text/x-python",
   "name": "python",
   "nbconvert_exporter": "python",
   "pygments_lexer": "ipython3",
   "version": "3.6.5"
  }
 },
 "nbformat": 4,
 "nbformat_minor": 2
}
