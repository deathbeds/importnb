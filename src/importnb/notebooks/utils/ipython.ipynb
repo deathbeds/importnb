{
 "cells": [
  {
   "cell_type": "code",
   "execution_count": 1,
   "metadata": {},
   "outputs": [],
   "source": [
    "    from IPython import paths, get_ipython"
   ]
  },
  {
   "cell_type": "code",
   "execution_count": 2,
   "metadata": {},
   "outputs": [],
   "source": [
    "    from pathlib import Path\n",
    "    import json, ast"
   ]
  },
  {
   "cell_type": "code",
   "execution_count": 3,
   "metadata": {},
   "outputs": [],
   "source": [
    "    def get_config():\n",
    "        ip = get_ipython()\n",
    "        return Path(ip.profile_dir.location if ip else paths.locate_profile()) /  \"ipython_config.json\"  "
   ]
  },
  {
   "cell_type": "code",
   "execution_count": 4,
   "metadata": {},
   "outputs": [],
   "source": [
    "    def load_config():\n",
    "        location = get_config()\n",
    "        try:\n",
    "            with location.open() as file:    \n",
    "                config = json.load(file)\n",
    "        except (FileNotFoundError, json.JSONDecodeError):\n",
    "            config = {}\n",
    "\n",
    "        if 'InteractiveShellApp' not in config:\n",
    "            config['InteractiveShellApp'] = {}\n",
    "\n",
    "        if 'extensions' not in config['InteractiveShellApp']:\n",
    "            config['InteractiveShellApp']['extensions'] = []\n",
    "\n",
    "        return config, location"
   ]
  },
  {
   "cell_type": "code",
   "execution_count": 5,
   "metadata": {},
   "outputs": [],
   "source": [
    "    def install(project='importnb'):\n",
    "        config, location = load_config()\n",
    "\n",
    "        if not installed(project):\n",
    "            config['InteractiveShellApp']['extensions'].append(project)\n",
    "\n",
    "        with location.open('w') as file: \n",
    "            json.dump(config, file)\n",
    "            \n",
    "        print(\"\"\"<3 {}\"\"\".format(project))"
   ]
  },
  {
   "cell_type": "code",
   "execution_count": 6,
   "metadata": {},
   "outputs": [],
   "source": [
    "    def installed(project):\n",
    "        config, location = load_config()\n",
    "        return project in config.get('InteractiveShellApp', {}).get('extensions', [])"
   ]
  },
  {
   "cell_type": "code",
   "execution_count": 7,
   "metadata": {},
   "outputs": [],
   "source": [
    "    def uninstall(project='importnb'):\n",
    "        config, location = load_config()\n",
    "\n",
    "        config['InteractiveShellApp']['extensions'] = [\n",
    "            ext for ext in config['InteractiveShellApp']['extensions'] \n",
    "            if ext != project\n",
    "        ]\n",
    "\n",
    "        with location.open('w') as file:  json.dump(config, file)\n",
    "        print(\"\"\"</3 {}.\"\"\".format(project))"
   ]
  },
  {
   "cell_type": "code",
   "execution_count": 8,
   "metadata": {
    "scrolled": false
   },
   "outputs": [],
   "source": [
    "    if __name__ ==  '__main__':\n",
    "        from importnb.utils.export import export\n",
    "        export('ipython.ipynb', '../../utils/ipython.py')"
   ]
  },
  {
   "cell_type": "code",
   "execution_count": null,
   "metadata": {},
   "outputs": [],
   "source": []
  }
 ],
 "metadata": {
  "kernelspec": {
   "display_name": "Python 3",
   "language": "python",
   "name": "python3"
  },
  "language_info": {
   "codemirror_mode": {
    "name": "ipython",
    "version": 3
   },
   "file_extension": ".py",
   "mimetype": "text/x-python",
   "name": "python",
   "nbconvert_exporter": "python",
   "pygments_lexer": "ipython3",
   "version": "3.6.5"
  }
 },
 "nbformat": 4,
 "nbformat_minor": 2
}
