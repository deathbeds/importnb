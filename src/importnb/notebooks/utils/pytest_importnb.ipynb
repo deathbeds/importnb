{
 "cells": [
  {
   "cell_type": "markdown",
   "metadata": {},
   "source": [
    "A `pytest` plugin for importing notebooks as modules and using standard test discovered.\n",
    "\n",
    "The `AlternativeModule` is reusable.  See `pidgin` for an example."
   ]
  },
  {
   "cell_type": "code",
   "execution_count": 32,
   "metadata": {},
   "outputs": [],
   "source": [
    "    from importnb import Notebook"
   ]
  },
  {
   "cell_type": "code",
   "execution_count": 33,
   "metadata": {},
   "outputs": [],
   "source": [
    "    import importlib, pytest, abc, pathlib, _pytest, functools"
   ]
  },
  {
   "cell_type": "code",
   "execution_count": 34,
   "metadata": {},
   "outputs": [],
   "source": [
    "    def pytest_addoption(parser):\n",
    "        group = parser.getgroup(\"general\")\n",
    "        group.addoption('--main', action='store_true', help=\"Run in the main context.\")        \n",
    "        group.addoption('--monotonic', action='store_true', help=\n",
    "                        \"\"\"Notebook source code has monotonically increasing execution result\n",
    "    values and a leading Markdown string is the docstring.\"\"\")\n",
    "        "
   ]
  },
  {
   "cell_type": "markdown",
   "metadata": {},
   "source": [
    "`assert_execution_order` are the notebook outputs monotonically increasing.  This assists in more consistent state."
   ]
  },
  {
   "cell_type": "code",
   "execution_count": 48,
   "metadata": {},
   "outputs": [],
   "source": [
    "    def assert_execution_order(nb, file=None):\n",
    "        shift = 1\n",
    "        for id, object in enumerate(\n",
    "            object for object in nb['cells'] if object['cell_type'] == 'code'):\n",
    "            id += shift\n",
    "            source = ''.join(object['source'])\n",
    "            if object['execution_count'] is None:\n",
    "                assert not source.strip(), \"\"\"{file} has an unexecuted with the source:\\n{source}.\"\"\".format(**locals())\n",
    "                shift -= 1\n",
    "            else:\n",
    "                assert object['execution_count'] == id, \"\"\"{file} has been executed out of order.\"\"\".format(**locals())\n",
    "               \n",
    "        return True"
   ]
  },
  {
   "cell_type": "markdown",
   "metadata": {},
   "source": [
    "`MonotonicExecution` wiil `assert_execution_order`  of a notebook."
   ]
  },
  {
   "cell_type": "code",
   "execution_count": 49,
   "metadata": {},
   "outputs": [],
   "source": [
    "    class MonotonicExecution(pytest.File):\n",
    "        def collect(self):\n",
    "            nb = __import__('json').load(self.fspath.open())\n",
    "            yield _pytest.python.Function(assert_execution_order.__name__, self, callobj=functools.partial(\n",
    "                assert_execution_order, nb, file=self.fspath\n",
    "            ))"
   ]
  },
  {
   "cell_type": "markdown",
   "metadata": {},
   "source": [
    "`AlternativeModule` is an alternative `pytest.Module` loader that can enable `pytest.Doctest`."
   ]
  },
  {
   "cell_type": "code",
   "execution_count": 50,
   "metadata": {},
   "outputs": [],
   "source": [
    "    class AlternativeModule(pytest.Module):\n",
    "        def _getobj(self):\n",
    "            return self.loader(\n",
    "                getattr(self.parent.config.option, 'main', None) and \"__main__\" or None\n",
    "            ).load(str(self.fspath))\n",
    "        \n",
    "        def collect(self):\n",
    "            if self.parent.config.option.monotonic:      \n",
    "                yield from MonotonicExecution.collect(self)\n",
    "            yield from super().collect()\n",
    "            if self.parent.config.option.doctestmodules:\n",
    "                self.fspath.pyimport = functools.partial(self.fspath.pyimport, modname=self._obj.__name__)\n",
    "                yield from _pytest.doctest.DoctestModule.collect(self)"
   ]
  },
  {
   "cell_type": "markdown",
   "metadata": {},
   "source": [
    "`NotebookModule` is an `AlternativeModule` to load `Notebook`s."
   ]
  },
  {
   "cell_type": "code",
   "execution_count": 51,
   "metadata": {},
   "outputs": [],
   "source": [
    "    class NotebookModule(AlternativeModule): \n",
    "        loader = Notebook"
   ]
  },
  {
   "cell_type": "code",
   "execution_count": 39,
   "metadata": {},
   "outputs": [],
   "source": [
    "    class AlternativeSourceText(abc.ABCMeta):\n",
    "        def __call__(self, parent, path):\n",
    "            for module in self.modules:\n",
    "                if ''.join(pathlib.Path(str(path)).suffixes) in module.loader.extensions:\n",
    "                    if not parent.session.isinitpath(path):\n",
    "                        for pat in parent.config.getini('python_files'):\n",
    "                            if path.fnmatch(pat.rstrip('.py') + path.ext): break\n",
    "                        else: return\n",
    "                    return module(path, parent)"
   ]
  },
  {
   "cell_type": "code",
   "execution_count": 40,
   "metadata": {},
   "outputs": [],
   "source": [
    "    class NotebookTests(metaclass=AlternativeSourceText):\n",
    "        modules = NotebookModule,\n",
    "\n",
    "    pytest_collect_file = NotebookTests.__call__"
   ]
  },
  {
   "cell_type": "code",
   "execution_count": 41,
   "metadata": {
    "scrolled": false
   },
   "outputs": [],
   "source": [
    "    if __name__ ==  '__main__':\n",
    "        from importnb.utils.export import export\n",
    "        export('pytest_importnb.ipynb', '../../utils/pytest_importnb.py')"
   ]
  },
  {
   "cell_type": "code",
   "execution_count": null,
   "metadata": {},
   "outputs": [],
   "source": []
  }
 ],
 "metadata": {
  "kernelspec": {
   "display_name": "Python 3",
   "language": "python",
   "name": "python3"
  },
  "language_info": {
   "codemirror_mode": {
    "name": "ipython",
    "version": 3
   },
   "file_extension": ".py",
   "mimetype": "text/x-python",
   "name": "python",
   "nbconvert_exporter": "python",
   "pygments_lexer": "ipython3",
   "version": "3.6.6"
  }
 },
 "nbformat": 4,
 "nbformat_minor": 2
}
