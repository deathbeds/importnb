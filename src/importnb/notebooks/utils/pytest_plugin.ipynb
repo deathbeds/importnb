{
 "cells": [
  {
   "cell_type": "code",
   "execution_count": 1,
   "metadata": {},
   "outputs": [],
   "source": [
    "    import importlib, pytest, abc, pathlib"
   ]
  },
  {
   "cell_type": "code",
   "execution_count": 2,
   "metadata": {},
   "outputs": [],
   "source": [
    "    from importnb import Notebook"
   ]
  },
  {
   "cell_type": "code",
   "execution_count": 3,
   "metadata": {},
   "outputs": [],
   "source": [
    "    def pytest_addoption(parser):\n",
    "        group = parser.getgroup(\"general\")\n",
    "        group.addoption('--main', action='store_true',\n",
    "                        help=\"Run in the main context.\")"
   ]
  },
  {
   "cell_type": "code",
   "execution_count": 4,
   "metadata": {},
   "outputs": [],
   "source": [
    "    class AlternativeModule(pytest.Module):\n",
    "        def _getobj(self):\n",
    "            return self.loader(self.parent.config.option.main and \"__main__\" or None).load(str(self.fspath))"
   ]
  },
  {
   "cell_type": "code",
   "execution_count": 5,
   "metadata": {},
   "outputs": [],
   "source": [
    "    class NotebookModule(AlternativeModule): \n",
    "        loader = Notebook"
   ]
  },
  {
   "cell_type": "code",
   "execution_count": 6,
   "metadata": {},
   "outputs": [],
   "source": [
    "    class AlternativeSourceText(abc.ABCMeta):\n",
    "        def __call__(self, parent, path):\n",
    "            for module in self.modules:\n",
    "                if ''.join(pathlib.Path(str(path)).suffixes) in module.loader.extensions:\n",
    "                    if not parent.session.isinitpath(path):\n",
    "                        for pat in parent.config.getini('python_files'):\n",
    "                            if path.fnmatch(pat.rstrip('.py') + path.ext): break\n",
    "                        else: return\n",
    "                    return module(path, parent)"
   ]
  },
  {
   "cell_type": "code",
   "execution_count": 7,
   "metadata": {},
   "outputs": [],
   "source": [
    "    class NotebookTests(metaclass=AlternativeSourceText):\n",
    "        modules = NotebookModule,\n",
    "\n",
    "    pytest_collect_file = NotebookTests.__call__"
   ]
  },
  {
   "cell_type": "code",
   "execution_count": 8,
   "metadata": {
    "scrolled": false
   },
   "outputs": [],
   "source": [
    "    if __name__ ==  '__main__':\n",
    "        from importnb.utils.export import export\n",
    "        export('pytest_plugin.ipynb', '../../utils/pytest_plugin.py')"
   ]
  }
 ],
 "metadata": {
  "kernelspec": {
   "display_name": "Python 3",
   "language": "python",
   "name": "python3"
  },
  "language_info": {
   "codemirror_mode": {
    "name": "ipython",
    "version": 3
   },
   "file_extension": ".py",
   "mimetype": "text/x-python",
   "name": "python",
   "nbconvert_exporter": "python",
   "pygments_lexer": "ipython3",
   "version": "3.6.6"
  }
 },
 "nbformat": 4,
 "nbformat_minor": 2
}
