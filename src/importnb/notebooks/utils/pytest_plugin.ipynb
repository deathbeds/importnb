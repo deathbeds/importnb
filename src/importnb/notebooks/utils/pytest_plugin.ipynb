{
 "cells": [
  {
   "cell_type": "code",
   "execution_count": 1,
   "metadata": {},
   "outputs": [],
   "source": [
    "    import pytest\n",
    "    try:\n",
    "        from .. import Notebook\n",
    "    except:\n",
    "        from importnb import Notebook\n",
    "    from pathlib import Path\n",
    "    loader = Notebook\n",
    "    \n",
    "    def pytest_addoption(parser):\n",
    "        group = parser.getgroup(\"general\")\n",
    "        group.addoption('--main', action='store_true',\n",
    "                        help=\"Run in the main context.\")\n",
    "\n",
    "    def pytest_collect_file(parent, path):\n",
    "        if ''.join(Path(str(path)).suffixes) in ('.ipynb',):\n",
    "            if not parent.session.isinitpath(path):\n",
    "                for pat in parent.config.getini('python_files'):\n",
    "                    if path.fnmatch(pat.rstrip('.py') + path.ext):\n",
    "                        break\n",
    "                else:\n",
    "                    return\n",
    "            return PytestModule(path, parent)\n",
    "\n",
    "    class PytestModule(pytest.Module):\n",
    "        def collect(self):\n",
    "            global loader\n",
    "            with loader(\n",
    "                self.parent.config.option.main and '__main__' or None\n",
    "            ): return super().collect()"
   ]
  },
  {
   "cell_type": "code",
   "execution_count": 2,
   "metadata": {
    "scrolled": false
   },
   "outputs": [],
   "source": [
    "    if __name__ ==  '__main__':\n",
    "        from importnb.utils.export import export\n",
    "        export('pytest_plugin.ipynb', '../../utils/pytest_plugin.py')"
   ]
  },
  {
   "cell_type": "code",
   "execution_count": null,
   "metadata": {},
   "outputs": [],
   "source": []
  },
  {
   "cell_type": "code",
   "execution_count": null,
   "metadata": {},
   "outputs": [],
   "source": []
  }
 ],
 "metadata": {
  "kernelspec": {
   "display_name": "Python 3",
   "language": "python",
   "name": "python3"
  },
  "language_info": {
   "codemirror_mode": {
    "name": "ipython",
    "version": 3
   },
   "file_extension": ".py",
   "mimetype": "text/x-python",
   "name": "python",
   "nbconvert_exporter": "python",
   "pygments_lexer": "ipython3",
   "version": "3.6.6"
  }
 },
 "nbformat": 4,
 "nbformat_minor": 2
}
