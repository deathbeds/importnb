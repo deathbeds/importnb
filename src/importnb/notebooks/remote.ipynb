{
 "cells": [
  {
   "cell_type": "markdown",
   "metadata": {},
   "source": [
    "# A reloadable remote notebook importer"
   ]
  },
  {
   "cell_type": "markdown",
   "metadata": {},
   "source": [
    "        # Run this cell to use on binder then re run the notebook\n",
    "        !importnb-install"
   ]
  },
  {
   "cell_type": "markdown",
   "metadata": {},
   "source": [
    "    >>> with remote(\"https://gist.githubusercontent.com/tonyfast/e7fb55934168744926961f02f6171c6a/raw/*.ipynb\"):\n",
    "    ...     import black_formatter  #doctest: +ELLIPSIS\n",
    "\n",
    "    >>> with black_formatter.__loader__:\n",
    "    ...     importlib.reload(black_formatter) #doctest: +ELLIPSIS\n",
    "\n",
    "    >>> black_formatter2 = Remote().from_filename(black_formatter.__file__)\n",
    "\n",
    "    >>> with black_formatter.__loader__:\n",
    "    ...    importlib.reload(black_formatter2) #doctest: +ELLIPSIS"
   ]
  },
  {
   "cell_type": "markdown",
   "metadata": {},
   "source": [
    "    >>> with remote(\"\"\"https://raw.githubusercontent.com/deathbeds/importnb/master/src/importnb/tests/*.ipynb\"\"\"):\n",
    "    ...     import test_importnb"
   ]
  },
  {
   "cell_type": "markdown",
   "metadata": {},
   "source": [
    "The dependencies don't exist on binder for the examples below."
   ]
  },
  {
   "cell_type": "markdown",
   "metadata": {},
   "source": [
    "    >>> Remote(exceptions=BaseException).from_filename(\n",
    "    \"https://raw.githubusercontent.com/jakevdp/PythonDataScienceHandbook/master/notebooks/06.00-Figure-Code.ipynb\")\n",
    "\n",
    "    >>> with rempte(\"https://raw.githubusercontent.com/bloomberg/bqplot/master/examples/Marks/Object%20Model/*.ipynb\"):\n",
    "    ...     import Hist\n",
    "\n",
    "    >>> Hist.Figure(marks=[Hist.hist], axes=[Hist.ax_x, Hist.ax_y], padding_y=0)\n",
    "    "
   ]
  },
  {
   "cell_type": "code",
   "execution_count": 1,
   "metadata": {},
   "outputs": [],
   "source": [
    "    from .loader import Notebook, FileModuleSpec\n",
    "    from .decoder import LineCacheNotebookDecoder\n",
    "    from importlib.util import decode_source\n",
    "    import sys\n",
    "    import importlib.util, importlib.machinery, inspect, sys, types, urllib.error, urllib.request\n",
    "\n",
    "    cache = {}"
   ]
  },
  {
   "cell_type": "code",
   "execution_count": 2,
   "metadata": {},
   "outputs": [],
   "source": [
    "    def urlopen(path):\n",
    "        try:\n",
    "            return urllib.request.urlopen(path)\n",
    "        except urllib.error.HTTPError as Exception:  ..."
   ]
  },
  {
   "cell_type": "code",
   "execution_count": 3,
   "metadata": {},
   "outputs": [],
   "source": [
    "    class RemoteMixin:        \n",
    "        def get_data(self, path):\n",
    "            global cache\n",
    "            return LineCacheNotebookDecoder(code=self.format).decode(\n",
    "                decode_source(cache.pop(path, urlopen(path)).read()), self.path)\n",
    "\n",
    "        def __enter__(self):\n",
    "            super().__enter__()\n",
    "            sys.meta_path.append(self)\n",
    "            return self\n",
    "\n",
    "        def __exit__(self, *args):\n",
    "            sys.meta_path.pop(sys.meta_path.index(self))\n",
    "            super().__exit__(*args)\n",
    "\n",
    "        def find_spec(self, fullname, path=None, *args, **kwargs):\n",
    "            global cache\n",
    "            #if '.' in fullname and fullname.split('.', 1)[0] in sys.modules:\n",
    "            #    return\n",
    "\n",
    "            url = self.path.replace('*', fullname)\n",
    "            if fullname in sys.modules: \n",
    "                return sys.modules[fullname].__spec__\n",
    "            if url not in cache:\n",
    "                cache[url] = urlopen(url)\n",
    "                if cache[url]:\n",
    "                    spec = FileModuleSpec(fullname, type(self)(fullname, url), origin=url)\n",
    "                    spec._set_fileattr = True\n",
    "                    return spec"
   ]
  },
  {
   "cell_type": "code",
   "execution_count": 4,
   "metadata": {},
   "outputs": [],
   "source": [
    "    class RemoteBase(RemoteMixin, Notebook): ..."
   ]
  },
  {
   "cell_type": "code",
   "execution_count": 5,
   "metadata": {},
   "outputs": [],
   "source": [
    "    def Remote(path=None, loader=Notebook, **globals):\n",
    "        \"\"\"A remote notebook finder.  Place a `*` into a url\n",
    "        to generalize the finder.  It returns a context manager\n",
    "        \"\"\"\n",
    "        class Remote(RemoteMixin, loader): ...\n",
    "        return Remote(path=path, **globals)"
   ]
  },
  {
   "cell_type": "code",
   "execution_count": 6,
   "metadata": {},
   "outputs": [],
   "source": [
    "    if __name__ ==  '__main__':\n",
    "        try:  from utils.export import export\n",
    "        except: from .utils.export import export\n",
    "        export('remote.ipynb', '../remote.py')"
   ]
  },
  {
   "cell_type": "code",
   "execution_count": null,
   "metadata": {},
   "outputs": [],
   "source": []
  }
 ],
 "metadata": {
  "kernelspec": {
   "display_name": "Python 3",
   "language": "python",
   "name": "python3"
  },
  "language_info": {
   "codemirror_mode": {
    "name": "ipython",
    "version": 3
   },
   "file_extension": ".py",
   "mimetype": "text/x-python",
   "name": "python",
   "nbconvert_exporter": "python",
   "pygments_lexer": "ipython3",
   "version": "3.6.5"
  },
  "varInspector": {
   "cols": {
    "lenName": 16,
    "lenType": 16,
    "lenVar": 40
   },
   "kernels_config": {
    "python": {
     "delete_cmd_postfix": "",
     "delete_cmd_prefix": "del ",
     "library": "var_list.py",
     "varRefreshCmd": "print(var_dic_list())"
    },
    "r": {
     "delete_cmd_postfix": ") ",
     "delete_cmd_prefix": "rm(",
     "library": "var_list.r",
     "varRefreshCmd": "cat(var_dic_list()) "
    }
   },
   "types_to_exclude": [
    "module",
    "function",
    "builtin_function_or_method",
    "instance",
    "_Feature"
   ],
   "window_display": false
  }
 },
 "nbformat": 4,
 "nbformat_minor": 2
}
