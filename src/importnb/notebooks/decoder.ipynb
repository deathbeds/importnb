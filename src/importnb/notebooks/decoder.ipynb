{
 "cells": [
  {
   "cell_type": "markdown",
   "metadata": {},
   "source": [
    "# Decoding\n",
    "\n",
    "If a notebook is imported, it should provide a natural __traceback__ experience similar to python imports.  The `importnb` importer creates a just decoder object that retains line numbers to the raw json when the notebook is imported."
   ]
  },
  {
   "cell_type": "code",
   "execution_count": 1,
   "metadata": {},
   "outputs": [],
   "source": [
    "    from functools import singledispatch\n",
    "    from json.decoder import JSONObject, JSONDecoder, WHITESPACE, WHITESPACE_STR\n",
    "    from json import load as _load, loads as _loads\n",
    "    from functools import partial\n",
    "    \n",
    "    try:\n",
    "        from IPython.core.inputsplitter import IPythonInputSplitter\n",
    "        dedent = IPythonInputSplitter().transform_cell\n",
    "    except:\n",
    "        from textwrap import dedent"
   ]
  },
  {
   "cell_type": "code",
   "execution_count": 2,
   "metadata": {},
   "outputs": [],
   "source": [
    "    def identity(*x): return x[0]"
   ]
  },
  {
   "cell_type": "code",
   "execution_count": 3,
   "metadata": {},
   "outputs": [],
   "source": [
    "    class LineNumberDecoder(JSONDecoder):\n",
    "        \"\"\"A JSON Decoder to return a NotebookNode with lines numbers in the metadata.\"\"\"\n",
    "        def __init__(self, *, object_hook=None, parse_float=None, parse_int=None, parse_constant=None, strict=True, object_pairs_hook=None):\n",
    "            from json.scanner import py_make_scanner\n",
    "            super().__init__(object_hook=object_hook, parse_float=parse_float, parse_int=parse_int, parse_constant=parse_constant, strict=strict, \n",
    "                             object_pairs_hook=object_pairs_hook)\n",
    "            self.parse_object = self._parse_object\n",
    "            self.scan_once = py_make_scanner(self)\n",
    "            \n",
    "        def _parse_object(\n",
    "            self, \n",
    "            s_and_end, \n",
    "            strict, scan_once, object_hook, object_pairs_hook, memo=None, _w=WHITESPACE.match, _ws=WHITESPACE_STR\n",
    "        ) -> (dict, int):\n",
    "            object, next = JSONObject(s_and_end, strict, scan_once, object_hook, object_pairs_hook, memo=memo, _w=_w, _ws=_ws)\n",
    "            if 'cell_type' in object: \n",
    "                object['metadata'].update({\n",
    "                    'lineno':  len(s_and_end[0][:next].rsplit('\"source\":', 1)[0].splitlines())\n",
    "                })\n",
    "                \n",
    "                if object['cell_type'] == 'markdown':\n",
    "                    object['source'] = codify_markdown(object['source'])\n",
    "                    object['outputs'] = []\n",
    "                    object['cell_type'] = 'code'\n",
    "                    object['execution_count'] = None\n",
    "                \n",
    "            for key in ('source', 'text'): \n",
    "                if key in object: object[key] = ''.join(object[key])\n",
    "                    \n",
    "            return object, next"
   ]
  },
  {
   "cell_type": "code",
   "execution_count": 4,
   "metadata": {},
   "outputs": [],
   "source": [
    "    @singledispatch\n",
    "    def codify_markdown(string_or_list): raise TypeError(\"Markdown must be a string or a list.\")\n",
    "\n",
    "    @codify_markdown.register(str)\n",
    "    def codify_markdown_string(str):\n",
    "        if '\"\"\"' in str: str = \"'''{}\\n'''\".format(str)\n",
    "        else: str = '\"\"\"{}\\n\"\"\"'.format(str)\n",
    "        return str\n",
    "\n",
    "    @codify_markdown.register(list)\n",
    "    def codify_markdown_list(str):\n",
    "        return list(\n",
    "            map(\"{}\\n\".format, codify_markdown_string(\n",
    "                ''.join(str)\n",
    "            ).splitlines())\n",
    "        )\n",
    "\n",
    "    \n",
    "    load = partial(_load, cls=LineNumberDecoder)\n",
    "    loads = partial(_loads, cls=LineNumberDecoder)"
   ]
  },
  {
   "cell_type": "code",
   "execution_count": 5,
   "metadata": {},
   "outputs": [],
   "source": [
    "    def transform_cells(object, transform=dedent):\n",
    "        for cell in object['cells']:\n",
    "            if 'source' in cell:\n",
    "                cell['source'] = transform(''.join(cell['source']))\n",
    "        return object\n",
    "    \n",
    "    def ast_from_cells(object, transform=identity):\n",
    "        import ast\n",
    "        module = ast.Module(body=[])\n",
    "        for cell in object['cells']:\n",
    "            module.body.extend(\n",
    "                ast.fix_missing_locations(\n",
    "                    ast.increment_lineno(\n",
    "                        ast.parse(''.join(cell['source'])), \n",
    "                    cell['metadata'].get('lineno', 1)\n",
    "                )\n",
    "            ).body)\n",
    "        return module"
   ]
  },
  {
   "cell_type": "code",
   "execution_count": 6,
   "metadata": {},
   "outputs": [],
   "source": [
    "    def loads_ast(object, loads=loads, transform=dedent, ast_transform=identity):\n",
    "        if isinstance(object, str):\n",
    "            object = loads(object)\n",
    "        object = transform_cells(object, transform)\n",
    "        return ast_from_cells(object, ast_transform)"
   ]
  },
  {
   "cell_type": "code",
   "execution_count": 12,
   "metadata": {
    "scrolled": false
   },
   "outputs": [],
   "source": [
    "    if __name__ ==  '__main__':\n",
    "        try: from .utils.export import export\n",
    "        except: from utils.export import export        \n",
    "        export('decoder.ipynb', '../decoder.py')\n",
    "\n",
    "        __import__('doctest').testmod()"
   ]
  },
  {
   "cell_type": "code",
   "execution_count": null,
   "metadata": {},
   "outputs": [],
   "source": []
  }
 ],
 "metadata": {
  "kernelspec": {
   "display_name": "p6",
   "language": "python",
   "name": "other-env"
  },
  "language_info": {
   "codemirror_mode": {
    "name": "ipython",
    "version": 3
   },
   "file_extension": ".py",
   "mimetype": "text/x-python",
   "name": "python",
   "nbconvert_exporter": "python",
   "pygments_lexer": "ipython3",
   "version": "3.6.3"
  },
  "toc": {
   "colors": {
    "hover_highlight": "#DAA520",
    "running_highlight": "#FF0000",
    "selected_highlight": "#FFD700"
   },
   "moveMenuLeft": true,
   "nav_menu": {
    "height": "29px",
    "width": "252px"
   },
   "navigate_menu": true,
   "number_sections": true,
   "sideBar": true,
   "threshold": 4,
   "toc_cell": false,
   "toc_section_display": "block",
   "toc_window_display": false,
   "widenNotebook": false
  },
  "varInspector": {
   "cols": {
    "lenName": 16,
    "lenType": 16,
    "lenVar": 40
   },
   "kernels_config": {
    "python": {
     "delete_cmd_postfix": "",
     "delete_cmd_prefix": "del ",
     "library": "var_list.py",
     "varRefreshCmd": "print(var_dic_list())"
    },
    "r": {
     "delete_cmd_postfix": ") ",
     "delete_cmd_prefix": "rm(",
     "library": "var_list.r",
     "varRefreshCmd": "cat(var_dic_list()) "
    }
   },
   "types_to_exclude": [
    "module",
    "function",
    "builtin_function_or_method",
    "instance",
    "_Feature"
   ],
   "window_display": false
  }
 },
 "nbformat": 4,
 "nbformat_minor": 2
}
