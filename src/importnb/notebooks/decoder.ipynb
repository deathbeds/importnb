{
 "cells": [
  {
   "cell_type": "markdown",
   "metadata": {},
   "source": [
    "# Decode `nbformat` with line numbers\n",
    "\n",
    "`importnb` decodes notebooks with the `nbformat` in valid source code.\n",
    "\n",
    "We consider three kinds of cells."
   ]
  },
  {
   "cell_type": "code",
   "execution_count": 1,
   "metadata": {},
   "outputs": [],
   "source": [
    "    from json.decoder import JSONObject, JSONDecoder, WHITESPACE, WHITESPACE_STR\n",
    "    from json import load as _load, loads as _loads\n",
    "    from functools import partial\n",
    "    from json.scanner import py_make_scanner\n",
    "    from json.decoder import JSONDecoder, WHITESPACE, WHITESPACE_STR, JSONObject, py_scanstring\n",
    "    import linecache, textwrap"
   ]
  },
  {
   "cell_type": "markdown",
   "metadata": {},
   "source": [
    "Output the strings slice that the source came from."
   ]
  },
  {
   "cell_type": "code",
   "execution_count": 3,
   "metadata": {},
   "outputs": [],
   "source": [
    "    def scanstring(s, end, strict=True, **kwargs):\n",
    "        s, id = py_scanstring(s, end, strict, **kwargs)\n",
    "        return (slice(end, id), s), id"
   ]
  },
  {
   "cell_type": "code",
   "execution_count": 4,
   "metadata": {},
   "outputs": [],
   "source": [
    "    def quote(object, *, quotes = \"'''\" ):\n",
    "        if quotes in object: quotes = '\"\"\"'\n",
    "        return quotes + object + '\\n'+ quotes"
   ]
  },
  {
   "cell_type": "code",
   "execution_count": 5,
   "metadata": {},
   "outputs": [],
   "source": [
    "    def object_pairs_hook(object) -> (slice, str):\n",
    "        object = dict(object)\n",
    "        if 'cells' in object: return object['cells']\n",
    "        \n",
    "        if 'cell_type' in object: \n",
    "            _, object['cell_type'] = object['cell_type']\n",
    "        \n",
    "        for key in ['text', 'source']:\n",
    "            if key in object:\n",
    "                if object[key]:\n",
    "                    return (\n",
    "                        slice(object[key][0][0].start, object[key][-1][0].stop), \n",
    "                        object, ''.join(_[1] for _ in object[key])\n",
    "                    )\n",
    "        return slice(None), None, None"
   ]
  },
  {
   "cell_type": "code",
   "execution_count": 6,
   "metadata": {},
   "outputs": [],
   "source": [
    "    class LineCacheNotebookDecoder(JSONDecoder):\n",
    "        def __init__(self, markdown=quote, code=textwrap.dedent, \n",
    "                raw=partial(textwrap.indent, prefix='# '), **kwargs):\n",
    "            super().__init__(**kwargs)\n",
    "            \n",
    "            for key in ('markdown', 'code', 'raw'):\n",
    "                setattr(self, 'transform_'+key, locals().get(key))\n",
    "            \n",
    "            self.parse_string = scanstring\n",
    "            self.object_pairs_hook = object_pairs_hook \n",
    "            self.scan_once = py_make_scanner(self)\n",
    "                    \n",
    "        def decode(self, object, filename):\n",
    "            lines = []\n",
    "            \n",
    "            linecache.updatecache(filename)\n",
    "            if filename in linecache.cache:\n",
    "                linecache.cache[filename] = linecache.cache[filename][0], linecache.cache[filename][1], lines, filename\n",
    "            last, new, old = slice(0, 0), 0, 0 \n",
    "            for current, cell, source in super().decode(object):\n",
    "                if cell:\n",
    "                    lines += ['\\n'] * (object[last.stop:current.start].splitlines().__len__() - 1 + (old-new))\n",
    "                    \n",
    "                    source = getattr(self, \"transform_\"+cell['cell_type'])(source)\n",
    "\n",
    "                    lines += list(map(\"{}\\n\".format, source.splitlines()))\n",
    "                    new, old = map(len, map(str.splitlines, (source, object[current])))\n",
    "                    if not lines[-1]: lines.pop()\n",
    "                    last = current\n",
    "                \n",
    "            return ''.join(lines)"
   ]
  },
  {
   "cell_type": "code",
   "execution_count": 7,
   "metadata": {},
   "outputs": [],
   "source": [
    "    decoder = LineCacheNotebookDecoder()"
   ]
  },
  {
   "cell_type": "code",
   "execution_count": 8,
   "metadata": {},
   "outputs": [],
   "source": [
    "    if __name__ ==  '__main__':\n",
    "        try:  from utils.export import export\n",
    "        except: from .utils.export import export\n",
    "        export('decoder.ipynb', '../decoder.py')"
   ]
  },
  {
   "cell_type": "code",
   "execution_count": null,
   "metadata": {},
   "outputs": [],
   "source": []
  },
  {
   "cell_type": "code",
   "execution_count": null,
   "metadata": {},
   "outputs": [],
   "source": []
  }
 ],
 "metadata": {
  "kernelspec": {
   "display_name": "Python 3",
   "language": "python",
   "name": "python3"
  },
  "language_info": {
   "codemirror_mode": {
    "name": "ipython",
    "version": 3
   },
   "file_extension": ".py",
   "mimetype": "text/x-python",
   "name": "python",
   "nbconvert_exporter": "python",
   "pygments_lexer": "ipython3",
   "version": "3.6.5"
  },
  "toc": {
   "colors": {
    "hover_highlight": "#DAA520",
    "running_highlight": "#FF0000",
    "selected_highlight": "#FFD700"
   },
   "moveMenuLeft": true,
   "nav_menu": {
    "height": "29px",
    "width": "252px"
   },
   "navigate_menu": true,
   "number_sections": true,
   "sideBar": true,
   "threshold": 4,
   "toc_cell": false,
   "toc_section_display": "block",
   "toc_window_display": false,
   "widenNotebook": false
  },
  "varInspector": {
   "cols": {
    "lenName": 16,
    "lenType": 16,
    "lenVar": 40
   },
   "kernels_config": {
    "python": {
     "delete_cmd_postfix": "",
     "delete_cmd_prefix": "del ",
     "library": "var_list.py",
     "varRefreshCmd": "print(var_dic_list())"
    },
    "r": {
     "delete_cmd_postfix": ") ",
     "delete_cmd_prefix": "rm(",
     "library": "var_list.r",
     "varRefreshCmd": "cat(var_dic_list()) "
    }
   },
   "types_to_exclude": [
    "module",
    "function",
    "builtin_function_or_method",
    "instance",
    "_Feature"
   ],
   "window_display": false
  }
 },
 "nbformat": 4,
 "nbformat_minor": 2
}
