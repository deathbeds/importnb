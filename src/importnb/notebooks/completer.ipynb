{
 "cells": [
  {
   "cell_type": "markdown",
   "metadata": {},
   "source": [
    "# Fuzzy completion\n",
    "\n",
    "The fuzzy importer could be confusing and perhaps a completer could help.\n",
    "\n",
    "    \n",
    "    >>> ip = __import__(\"IPython\").get_ipython(); load_ipython_extension(ip)\n",
    "    >>> assert ip.complete('importnb.__pleter', 'import importnb.__pleter')[1]\n",
    "    >>> assert ip.complete('__find__', 'import __find__')[1]\n",
    "    >>> assert ip.complete('IPy', '\\timport IPy')[1]\n",
    "    >>> assert ip.complete('_______________plet__', 'from importnb import _______________plet__')[1]"
   ]
  },
  {
   "cell_type": "code",
   "execution_count": 8,
   "metadata": {},
   "outputs": [],
   "source": [
    "    from .finder import fuzzy_file_search\n",
    "    from fnmatch import fnmatch\n",
    "    from pathlib import Path\n",
    "    import string"
   ]
  },
  {
   "cell_type": "markdown",
   "metadata": {},
   "source": [
    "To provide the most reliable fuzzy imports `fuzzify_string` replaces the imported with one that complies with the fuzzy finder."
   ]
  },
  {
   "cell_type": "code",
   "execution_count": 3,
   "metadata": {},
   "outputs": [],
   "source": [
    "    def fuzzify_string(str):\n",
    "        return (str[0] in string.ascii_letters + '_' and str[0] or '_') \\\n",
    "        + ''.join(letter if letter in string.ascii_letters+'_'+string.digits else '_' for letter in str[1:])"
   ]
  },
  {
   "cell_type": "markdown",
   "metadata": {},
   "source": [
    "`align_match` replaces the the begining of the match with a prefix that matches that completer query name."
   ]
  },
  {
   "cell_type": "code",
   "execution_count": 4,
   "metadata": {},
   "outputs": [],
   "source": [
    "    def align_match(match, prefix, *, i=0):\n",
    "        pattern = prefix.replace('__','*').replace('_', '?').strip()\n",
    "        for i in range(len(match)): \n",
    "            if fnmatch(match[:i], pattern): break\n",
    "        else: i += 1\n",
    "        return prefix + match[i:]"
   ]
  },
  {
   "cell_type": "markdown",
   "metadata": {},
   "source": [
    "* `predict_fuzzy` will take a fully qualified fuzzy name completions.  This is the main function for the completer."
   ]
  },
  {
   "cell_type": "code",
   "execution_count": 5,
   "metadata": {},
   "outputs": [],
   "source": [
    "    def predict_fuzzy(fullname):\n",
    "        package, paths, specs,extras = '', [], [], []\n",
    "        if '.' in fullname:\n",
    "            package, fullname = fullname.rsplit('.', 1)\n",
    "            fullname = fullname.strip()\n",
    "            try:\n",
    "                module = __import__('importlib').import_module(package)\n",
    "                paths.append(Path(module.__file__).parent)\n",
    "                extras = [object for object in dir(module) if object.startswith('fullname')]\n",
    "            except: ...\n",
    "        else: paths = map(Path, __import__('sys').path)\n",
    "        query = fullname\n",
    "        while not query.endswith('__'): query += '_'\n",
    "        for path in paths: specs.extend(\n",
    "            str(object.relative_to(path).with_suffix('')) \n",
    "            for object in fuzzy_file_search(path, query)\n",
    "        )\n",
    "            \n",
    "        return set(\n",
    "            (package and package + '.' or '') + align_match(fuzzify_string(spec), fullname) for spec in specs\n",
    "        ).union(set(extras))"
   ]
  },
  {
   "cell_type": "code",
   "execution_count": 6,
   "metadata": {},
   "outputs": [],
   "source": [
    "    def fuzzy_complete_event(self, event):\n",
    "        event.line = event.line.lstrip()\n",
    "        symbol = event.symbol\n",
    "        if event.line.startswith('from'):\n",
    "            package = event.line.split(' import ', 1)[0].lstrip().lstrip('from').lstrip()\n",
    "            if ' import' in event.line:\n",
    "                symbol = (package+'.'+symbol).lstrip('.')\n",
    "                return [\n",
    "                    object.lstrip(package).lstrip('.') \n",
    "                    for object in predict_fuzzy(symbol)\n",
    "                ]\n",
    "            \n",
    "        return predict_fuzzy(symbol)"
   ]
  },
  {
   "cell_type": "markdown",
   "metadata": {},
   "source": [
    "* The extension adds the new fuzzy completer.  Our completer has a higher priority than the default completers.  Since we stripped the leading whitespace from the completion line event; the extension will permit completion on tabbed lines."
   ]
  },
  {
   "cell_type": "code",
   "execution_count": 7,
   "metadata": {},
   "outputs": [],
   "source": [
    "    def load_ipython_extension(ip): \n",
    "        ip.set_hook('complete_command', fuzzy_complete_event, str_key=\"aimport\", priority=25)       \n",
    "        ip.set_hook('complete_command', fuzzy_complete_event, str_key=\"import\", priority=25)       \n",
    "        ip.set_hook('complete_command', fuzzy_complete_event, str_key=\"%reload_ext\", priority=25)       \n",
    "        ip.set_hook('complete_command', fuzzy_complete_event, str_key=\"%load_ext\", priority=25)\n",
    "        ip.set_hook('complete_command', fuzzy_complete_event, str_key=\"from\", priority=25)"
   ]
  },
  {
   "cell_type": "code",
   "execution_count": 8,
   "metadata": {},
   "outputs": [
    {
     "name": "stdout",
     "output_type": "stream",
     "text": [
      "6 items had no tests:\n",
      "    completer\n",
      "    completer.align_match\n",
      "    completer.fuzzify_string\n",
      "    completer.fuzzy_complete_event\n",
      "    completer.load_ipython_extension\n",
      "    completer.predict_fuzzy\n",
      "0 tests in 6 items.\n",
      "0 passed and 0 failed.\n",
      "Test passed.\n",
      "TestResults(failed=0, attempted=0)\n"
     ]
    }
   ],
   "source": [
    "    if __name__ ==  '__main__':\n",
    "        from .utils.export import export\n",
    "        from importnb import Notebook\n",
    "        export('completer.ipynb', '../completer.py')\n",
    "        ip = get_ipython()\n",
    "        m = Notebook.load('completer.ipynb')\n",
    "        print(__import__('doctest').testmod(m, verbose=2))"
   ]
  },
  {
   "cell_type": "code",
   "execution_count": null,
   "metadata": {},
   "outputs": [],
   "source": []
  },
  {
   "cell_type": "code",
   "execution_count": null,
   "metadata": {},
   "outputs": [],
   "source": []
  }
 ],
 "metadata": {
  "kernelspec": {
   "display_name": "Python 3",
   "language": "python",
   "name": "python3"
  },
  "language_info": {
   "codemirror_mode": {
    "name": "ipython",
    "version": 3
   },
   "file_extension": ".py",
   "mimetype": "text/x-python",
   "name": "python",
   "nbconvert_exporter": "python",
   "pygments_lexer": "ipython3",
   "version": "3.6.6"
  }
 },
 "nbformat": 4,
 "nbformat_minor": 2
}
