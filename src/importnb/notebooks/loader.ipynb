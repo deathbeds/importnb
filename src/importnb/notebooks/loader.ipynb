{
 "cells": [
  {
   "cell_type": "markdown",
   "metadata": {},
   "source": [
    "# `loader`\n",
    "\n",
    "Combine the __import__ finder with the loader.\n",
    "\n",
    "    >>> with Notebook():\n",
    "    ...      from importnb.notebooks import loader"
   ]
  },
  {
   "cell_type": "code",
   "execution_count": 1,
   "metadata": {},
   "outputs": [],
   "source": [
    "    try:\n",
    "        from .finder import get_loader_details, FuzzySpec, FuzzyFinder\n",
    "        from .ipython_extension import load_ipython_extension, unload_ipython_extension\n",
    "        from .decoder import LineCacheNotebookDecoder, quote\n",
    "        from .docstrings import update_docstring\n",
    "    except:\n",
    "        from finder import get_loader_details, FuzzySpec, FuzzyFinder\n",
    "        from ipython_extension import load_ipython_extension, unload_ipython_extension\n",
    "        from decoder import LineCacheNotebookDecoder, quote\n",
    "        from docstrings import update_docstring \n",
    "\n",
    "    import sys, ast, json, inspect, os, types\n",
    "    from importlib import reload\n",
    "    from importlib.machinery import SourceFileLoader, ModuleSpec\n",
    "    from importlib.util import spec_from_loader\n",
    "    from importlib._bootstrap import _installed_safely, _requires_builtin\n",
    "\n",
    "    from functools import partial\n",
    "    try:  \n",
    "        from importlib._bootstrap_external import decode_source, FileFinder\n",
    "        from importlib.util import module_from_spec\n",
    "        from importlib._bootstrap import _init_module_attrs\n",
    "        from importlib.util import LazyLoader\n",
    "    except:\n",
    "        #python 3.4\n",
    "        from importlib._bootstrap import _SpecMethods\n",
    "        from importlib.util import decode_source\n",
    "        from importlib.machinery import FileFinder\n",
    "        \n",
    "        def module_from_spec(spec): \n",
    "            return _SpecMethods(spec).create()\n",
    "        def _init_module_attrs(spec, module):\n",
    "            return _SpecMethods(spec).init_module_attrs(module)\n",
    "    \n",
    "    from pathlib import Path\n",
    "    from inspect import signature\n",
    "    from contextlib import contextmanager, ExitStack\n",
    "    from functools import partialmethod\n",
    "    import textwrap\n",
    "\n",
    "    try:\n",
    "        import IPython\n",
    "        from IPython.core.inputsplitter import IPythonInputSplitter\n",
    "        dedent = IPythonInputSplitter(\n",
    "            line_input_checker=False,  physical_line_transforms = [\n",
    "                 IPython.core.inputsplitter.leading_indent(),\n",
    "                 IPython.core.inputsplitter.ipy_prompt(),\n",
    "                 IPython.core.inputsplitter.cellmagic(end_on_blank_line=False),\n",
    "            ]\n",
    "        ).transform_cell\n",
    "    except:\n",
    "        from textwrap import dedent\n",
    "        \n",
    "    __all__ = 'Notebook', 'reload', "
   ]
  },
  {
   "cell_type": "code",
   "execution_count": 2,
   "metadata": {},
   "outputs": [],
   "source": [
    "    class FinderContextManager:\n",
    "        \"\"\"\n",
    "        FinderContextManager is the base class for the notebook loader.  It provides\n",
    "        a context manager that replaces `FileFinder` in the `sys.path_hooks` to include \n",
    "        an instance of the class in the python findering system.\n",
    "\n",
    "        >>> with FinderContextManager() as f:\n",
    "        ...      id, ((loader_cls, _), *_) = get_loader_details()\n",
    "        ...      assert issubclass(loader_cls, FinderContextManager)\n",
    "        >>> id, ((loader_cls, _), *_) = get_loader_details()\n",
    "        >>> loader_cls = inspect.unwrap(loader_cls)\n",
    "        >>> assert not (isinstance(loader_cls, type) and issubclass(loader_cls, FinderContextManager))\n",
    "        \"\"\"\n",
    "        extensions = tuple() \n",
    "        _position = 0\n",
    "        \n",
    "        finder = FileFinder    \n",
    "        \n",
    "        @property\n",
    "        def loader(self): return type(self)\n",
    "        \n",
    "        def __enter__(self):  \n",
    "            id, details = get_loader_details()\n",
    "            details.insert(self._position, (self.loader, self.extensions))\n",
    "            sys.path_hooks[id] = self.finder.path_hook(*details)\n",
    "            sys.path_importer_cache.clear()\n",
    "            return self\n",
    "                \n",
    "        def __exit__(self, *excepts): \n",
    "            id, details = get_loader_details()\n",
    "            details.pop(self._position)\n",
    "            sys.path_hooks[id] = self.finder.path_hook(*details)\n",
    "            sys.path_importer_cache.clear()  "
   ]
  },
  {
   "cell_type": "markdown",
   "metadata": {},
   "source": [
    "## The basic loader\n",
    "\n",
    "The loader uses the import systems `get_source`, `get_data`, and `create_module` methods to import notebook files."
   ]
  },
  {
   "cell_type": "code",
   "execution_count": 3,
   "metadata": {},
   "outputs": [],
   "source": [
    "    class ModuleType(types.ModuleType, getattr(os, 'PathLike', object)): \n",
    "        \"\"\"ModuleType combines a module with a PathLike access to simplify access.\"\"\"\n",
    "        def __fspath__(self): return self.__file__"
   ]
  },
  {
   "cell_type": "code",
   "execution_count": 4,
   "metadata": {},
   "outputs": [],
   "source": [
    "    class ImportLibMixin(SourceFileLoader):\n",
    "        \"\"\"ImportLibMixin is a SourceFileLoader for loading source code from JSON (e.g. notebooks).\n",
    "        \n",
    "        `get_data` assures consistent line numbers between the file s representatio and source.\"\"\"\n",
    "        def create_module(self, spec):\n",
    "            module = ModuleType(spec.name)\n",
    "            _init_module_attrs(spec, module)\n",
    "            if isinstance(spec, FuzzySpec): sys.modules[spec.alias] = module\n",
    "            if self.name: module.__name__ = self.name\n",
    "            return module\n",
    "\n",
    "        def decode(self): return decode_source(super().get_data(self.path))\n",
    "        \n",
    "        def get_data(self, path): \n",
    "            \"\"\"Needs to return the string source for the module.\"\"\"\n",
    "            return LineCacheNotebookDecoder(code=self.code, raw=self.raw, markdown=self.markdown).decode(\n",
    "                self.decode(), self.path)\n",
    "        \n",
    "        @classmethod\n",
    "        @_requires_builtin\n",
    "        def is_package(cls, fullname):\n",
    "            \"\"\"Return False as built-in modules are never packages.\"\"\"\n",
    "            if '.' not in fullname:\n",
    "                return True\n",
    "            return super().is_package(fullname)\n",
    "                        \n",
    "        get_source = get_data"
   ]
  },
  {
   "cell_type": "code",
   "execution_count": 5,
   "metadata": {},
   "outputs": [],
   "source": [
    "    class NotebookBaseLoader(ImportLibMixin, FinderContextManager):\n",
    "        \"\"\"The simplest implementation of a Notebook Source File Loader.\n",
    "        >>> with NotebookBaseLoader():\n",
    "        ...    from importnb.notebooks import loader\n",
    "        >>> assert loader.__file__.endswith('.ipynb')\n",
    "        \"\"\"\n",
    "        extensions = '.ipynb',        \n",
    "        __slots__ = '_lazy', '_fuzzy', '_markdown_docstring', '_position'\n",
    "        \n",
    "        def __init__(\n",
    "            self, fullname=None, path=None, *,\n",
    "            lazy=False, fuzzy=True, position=0,\n",
    "            markdown_docstring = True\n",
    "        ):\n",
    "            super().__init__(fullname, path)        \n",
    "            self._lazy = lazy\n",
    "            self._fuzzy = fuzzy\n",
    "            self._markdown_docstring = markdown_docstring\n",
    "            self._position = position\n",
    "                  \n",
    "        @property\n",
    "        def loader(self): \n",
    "            \"\"\"Create a lazy loader source file loader.\"\"\"\n",
    "            loader = super().loader\n",
    "            if self._lazy and (sys.version_info.major, sys.version_info.minor) != (3, 4): \n",
    "                loader = LazyLoader.factory(loader)\n",
    "            # Strip the leading underscore from slots\n",
    "            return partial(loader, **{object.lstrip('_'): getattr(self, object) for object in self.__slots__})\n",
    "        \n",
    "        @property\n",
    "        def finder(self): \n",
    "            \"\"\"Permit fuzzy finding of files with special characters.\"\"\"\n",
    "            return self._fuzzy and FuzzyFinder or super().finder"
   ]
  },
  {
   "cell_type": "code",
   "execution_count": 6,
   "metadata": {},
   "outputs": [],
   "source": [
    "    class FileModuleSpec(ModuleSpec):\n",
    "        def __init__(self, *args, **kwargs):\n",
    "            super().__init__(*args, **kwargs)\n",
    "            self._set_fileattr = True"
   ]
  },
  {
   "cell_type": "markdown",
   "metadata": {},
   "source": [
    "## notebooks most be loadable from files."
   ]
  },
  {
   "cell_type": "code",
   "execution_count": 7,
   "metadata": {},
   "outputs": [],
   "source": [
    "    class FromFileMixin:\n",
    "        \"\"\"FromFileMixin adds a classmethod to load a notebooks from files.\n",
    "        \"\"\"\n",
    "        @classmethod\n",
    "        def load(cls, filename, dir=None, main=False, **kwargs):\n",
    "            \"\"\"Import a notebook as a module from a filename.\n",
    "            \n",
    "            dir: The directory to load the file from.\n",
    "            main: Load the module in the __main__ context.\n",
    "            \n",
    "            > assert Notebook.load('loader.ipynb')\n",
    "            \"\"\"\n",
    "            name = main and '__main__' or Path(filename).stem\n",
    "            loader = cls(name, str(filename), **kwargs)\n",
    "            module = module_from_spec(FileModuleSpec(name, loader, origin=loader.path))     \n",
    "            cwd = str(Path(loader.path).parent)\n",
    "            try:\n",
    "                with ExitStack() as stack:\n",
    "                    sys.path.append(cwd)\n",
    "                    loader.name != '__main__' and stack.enter_context(_installed_safely(module))\n",
    "                    loader.exec_module(module)\n",
    "            finally: sys.path.pop()\n",
    "                        \n",
    "            return module"
   ]
  },
  {
   "cell_type": "markdown",
   "metadata": {},
   "source": [
    "* Sometimes folks may want to use the current IPython shell to manage the code and input transformations."
   ]
  },
  {
   "cell_type": "markdown",
   "metadata": {},
   "source": [
    "Use the `IPythonInputSplitter` to dedent and process magic functions."
   ]
  },
  {
   "cell_type": "code",
   "execution_count": 8,
   "metadata": {},
   "outputs": [],
   "source": [
    "    class TransformerMixin:\n",
    "        def code(self, str):\n",
    "            return dedent(str)\n",
    "        \n",
    "        def markdown(self, str):\n",
    "            return quote(str)\n",
    "        \n",
    "        def raw(self, str):\n",
    "            return textwrap.indent(str, '# ')\n",
    "        \n",
    "        def visit(self, node):\n",
    "            return node        "
   ]
  },
  {
   "cell_type": "markdown",
   "metadata": {},
   "source": [
    "## The `Notebook` finder & loader"
   ]
  },
  {
   "cell_type": "code",
   "execution_count": 9,
   "metadata": {},
   "outputs": [],
   "source": [
    "    class Notebook(TransformerMixin, FromFileMixin, NotebookBaseLoader):\n",
    "        \"\"\"Notebook is a user friendly file finder and module loader for notebook source code.\n",
    "        \n",
    "        > Remember, restart and run all or it didn't happen.\n",
    "        \n",
    "        Notebook provides several useful options.\n",
    "        \n",
    "        * Lazy module loading.  A module is executed the first time it is used in a script.\n",
    "        \"\"\"\n",
    "        __slots__ = NotebookBaseLoader.__slots__ + (\"_main\", )\n",
    "\n",
    "        def __init__(\n",
    "            self,\n",
    "            fullname=None, path=None, lazy=False, position=0,\n",
    "            fuzzy=True, markdown_docstring=True, main=False,\n",
    "        ):\n",
    "            self._main = bool(main) or fullname == \"__main__\"\n",
    "            super().__init__(\n",
    "                self._main and \"__main__\" or fullname,\n",
    "                path, lazy=lazy, fuzzy=fuzzy, position=position,\n",
    "                markdown_docstring=markdown_docstring,)\n",
    "                        \n",
    "        def source_to_code(self, nodes, path, *, _optimize=-1):\n",
    "            \"\"\"* Convert the current source to ast \n",
    "            * Apply ast transformers.\n",
    "            * Compile the code.\"\"\"\n",
    "            if not isinstance(nodes, ast.Module):\n",
    "                nodes = ast.parse(nodes, self.path)\n",
    "            if self._markdown_docstring: nodes = update_docstring(nodes)\n",
    "            return super().source_to_code(ast.fix_missing_locations(self.visit(nodes)), path, _optimize=_optimize)"
   ]
  },
  {
   "cell_type": "markdown",
   "metadata": {},
   "source": [
    "# Developer"
   ]
  },
  {
   "cell_type": "markdown",
   "metadata": {},
   "source": [
    "    Notebook.load('loader.ipynb')\n",
    "    "
   ]
  },
  {
   "cell_type": "code",
   "execution_count": 10,
   "metadata": {},
   "outputs": [
    {
     "name": "stdout",
     "output_type": "stream",
     "text": [
      "Trying:\n",
      "    with Notebook():\n",
      "         from importnb.notebooks import loader\n",
      "Expecting nothing\n",
      "ok\n",
      "Trying:\n",
      "    with FinderContextManager() as f:\n",
      "         id, ((loader_cls, _), *_) = get_loader_details()\n",
      "         assert issubclass(loader_cls, FinderContextManager)\n",
      "Expecting nothing\n",
      "ok\n",
      "Trying:\n",
      "    id, ((loader_cls, _), *_) = get_loader_details()\n",
      "Expecting nothing\n",
      "ok\n",
      "Trying:\n",
      "    loader_cls = inspect.unwrap(loader_cls)\n",
      "Expecting nothing\n",
      "ok\n",
      "Trying:\n",
      "    assert not (isinstance(loader_cls, type) and issubclass(loader_cls, FinderContextManager))\n",
      "Expecting nothing\n",
      "ok\n",
      "Trying:\n",
      "    with NotebookBaseLoader():\n",
      "       from importnb.notebooks import loader\n",
      "Expecting nothing\n",
      "ok\n",
      "Trying:\n",
      "    assert loader.__file__.endswith('.ipynb')\n",
      "Expecting nothing\n",
      "ok\n",
      "31 items had no tests:\n",
      "    loader.FileModuleSpec\n",
      "    loader.FileModuleSpec.__init__\n",
      "    loader.FinderContextManager.__enter__\n",
      "    loader.FinderContextManager.__exit__\n",
      "    loader.FinderContextManager.loader\n",
      "    loader.FromFileMixin\n",
      "    loader.FromFileMixin.load\n",
      "    loader.ImportLibMixin\n",
      "    loader.ImportLibMixin.create_module\n",
      "    loader.ImportLibMixin.decode\n",
      "    loader.ImportLibMixin.get_data\n",
      "    loader.ImportLibMixin.is_package\n",
      "    loader.ModuleType\n",
      "    loader.ModuleType.__fspath__\n",
      "    loader.Notebook\n",
      "    loader.Notebook.__init__\n",
      "    loader.Notebook.source_to_code\n",
      "    loader.NotebookBaseLoader.__init__\n",
      "    loader.NotebookBaseLoader.finder\n",
      "    loader.NotebookBaseLoader.loader\n",
      "    loader.TransformerMixin\n",
      "    loader.TransformerMixin.code\n",
      "    loader.TransformerMixin.markdown\n",
      "    loader.TransformerMixin.raw\n",
      "    loader.TransformerMixin.visit\n",
      "    loader.__test__.string-128\n",
      "    loader.__test__.string-239\n",
      "    loader.__test__.string-280\n",
      "    loader.__test__.string-317\n",
      "    loader.__test__.string-364\n",
      "    loader.__test__.string-373\n",
      "3 items passed all tests:\n",
      "   1 tests in loader\n",
      "   4 tests in loader.FinderContextManager\n",
      "   2 tests in loader.NotebookBaseLoader\n",
      "7 tests in 34 items.\n",
      "7 passed and 0 failed.\n",
      "Test passed.\n",
      "TestResults(failed=0, attempted=7)\n"
     ]
    }
   ],
   "source": [
    "    if __name__ ==  '__main__':\n",
    "        try:  from utils.export import export\n",
    "        except: from .utils.export import export\n",
    "        export('loader.ipynb', '../loader.py')\n",
    "        print(__import__('doctest').testmod(Notebook.load('loader.ipynb'), verbose=2))"
   ]
  },
  {
   "cell_type": "code",
   "execution_count": null,
   "metadata": {},
   "outputs": [],
   "source": []
  }
 ],
 "metadata": {
  "kernelspec": {
   "display_name": "Python 3",
   "language": "python",
   "name": "python3"
  },
  "language_info": {
   "codemirror_mode": {
    "name": "ipython",
    "version": 3
   },
   "file_extension": ".py",
   "mimetype": "text/x-python",
   "name": "python",
   "nbconvert_exporter": "python",
   "pygments_lexer": "ipython3",
   "version": "3.6.6"
  },
  "toc": {
   "colors": {
    "hover_highlight": "#DAA520",
    "running_highlight": "#FF0000",
    "selected_highlight": "#FFD700"
   },
   "moveMenuLeft": true,
   "nav_menu": {
    "height": "29px",
    "width": "252px"
   },
   "navigate_menu": true,
   "number_sections": true,
   "sideBar": true,
   "threshold": 4,
   "toc_cell": false,
   "toc_section_display": "block",
   "toc_window_display": false,
   "widenNotebook": false
  },
  "varInspector": {
   "cols": {
    "lenName": 16,
    "lenType": 16,
    "lenVar": 40
   },
   "kernels_config": {
    "python": {
     "delete_cmd_postfix": "",
     "delete_cmd_prefix": "del ",
     "library": "var_list.py",
     "varRefreshCmd": "print(var_dic_list())"
    },
    "r": {
     "delete_cmd_postfix": ") ",
     "delete_cmd_prefix": "rm(",
     "library": "var_list.r",
     "varRefreshCmd": "cat(var_dic_list()) "
    }
   },
   "types_to_exclude": [
    "module",
    "function",
    "builtin_function_or_method",
    "instance",
    "_Feature"
   ],
   "window_display": false
  }
 },
 "nbformat": 4,
 "nbformat_minor": 2
}
