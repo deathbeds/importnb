{
 "cells": [
  {
   "cell_type": "markdown",
   "metadata": {},
   "source": [
    "# `loader`\n",
    "\n",
    "Combine the __import__ finder with the loader.\n",
    "\n",
    "    >>> with Notebook():\n",
    "    ...      from importnb.notebooks import loader"
   ]
  },
  {
   "cell_type": "code",
   "execution_count": 30,
   "metadata": {},
   "outputs": [],
   "source": [
    "    from .finder import get_loader_details, FuzzySpec, FuzzyFinder\n",
    "    from .extensions import load_ipython_extension, unload_ipython_extension\n",
    "    from .decoder import LineCacheNotebookDecoder\n",
    "    from .docstrings import update_docstring\n",
    "\n",
    "    import sys, ast, json, inspect, os\n",
    "    from importlib import reload\n",
    "    from importlib.machinery import SourceFileLoader, ModuleSpec\n",
    "    from importlib.util import spec_from_loader\n",
    "    from importlib._bootstrap import _new_module, _installed_safely\n",
    "\n",
    "    from functools import partial\n",
    "    try:  \n",
    "        from importlib._bootstrap_external import decode_source, FileFinder\n",
    "        from importlib.util import module_from_spec\n",
    "        from importlib._bootstrap import _init_module_attrs\n",
    "        from importlib.util import LazyLoader\n",
    "    except:\n",
    "        #python 3.4\n",
    "        from importlib._bootstrap import _SpecMethods\n",
    "        from importlib.util import decode_source\n",
    "        from importlib.machinery import FileFinder\n",
    "        \n",
    "        def module_from_spec(spec): \n",
    "            return _SpecMethods(spec).create()\n",
    "        def _init_module_attrs(spec, module):\n",
    "            return _SpecMethods(spec).init_module_attrs(module)\n",
    "    \n",
    "    try: from importlib.resources import path\n",
    "    except: from importlib_resources import path\n",
    "        \n",
    "    from pathlib import Path\n",
    "    from inspect import signature\n",
    "    from contextlib import contextmanager, ExitStack\n",
    "    from functools import partialmethod\n",
    "    \n",
    "    __all__ = 'Notebook', 'reload', \n",
    "    \n",
    "    decoder = LineCacheNotebookDecoder()"
   ]
  },
  {
   "cell_type": "code",
   "execution_count": 31,
   "metadata": {},
   "outputs": [],
   "source": [
    "    class FinderContextManager:\n",
    "        \"\"\"\n",
    "        FinderContextManager is the base class for the notebook loader.  It provides\n",
    "        a context manager that replaces `FileFinder` in the `sys.path_hooks` to include \n",
    "        an instance of the class in the python findering system.\n",
    "\n",
    "        >>> with FinderContextManager() as f:\n",
    "        ...      id, ((loader_cls, _), *_) = get_loader_details()\n",
    "        ...      assert issubclass(loader_cls, FinderContextManager)\n",
    "        >>> id, ((loader_cls, _), *_) = get_loader_details()\n",
    "        >>> loader_cls = inspect.unwrap(loader_cls)\n",
    "        >>> assert not (isinstance(loader_cls, type) and issubclass(loader_cls, FinderContextManager))\n",
    "        \"\"\"\n",
    "        extensions = tuple() \n",
    "        _position = 0\n",
    "        \n",
    "        def __enter__(self):  \n",
    "            id, details = get_loader_details()\n",
    "            details.insert(self._position, (self.loader_cls(), self.extensions))\n",
    "            sys.path_hooks[id] = self.finder_cls.path_hook(*details)\n",
    "            sys.path_importer_cache.clear()\n",
    "            return self\n",
    "                \n",
    "        def __exit__(self, *excepts): \n",
    "            id, details = get_loader_details()\n",
    "            details.pop(self._position)\n",
    "            sys.path_hooks[id] = self.finder_cls.path_hook(*details)\n",
    "            sys.path_importer_cache.clear()\n",
    "            \n",
    "            \n",
    "        def loader_cls(self): return type(self)\n",
    "               \n",
    "        @property\n",
    "        def finder_cls(self): return FileFinder            \n",
    "        \n",
    "        @staticmethod\n",
    "        def _unwrap_loader(loader): \n",
    "            loader = inspect.unwrap(loader)\n",
    "            try: loader = inspect.getclosurevars(loader).nonlocals.get('loader', loader)\n",
    "            finally: return loader\n"
   ]
  },
  {
   "cell_type": "markdown",
   "metadata": {},
   "source": [
    "## The basic loader\n",
    "\n",
    "The loader uses the import systems `get_source`, `get_data`, and `create_module` methods to import notebook files."
   ]
  },
  {
   "cell_type": "code",
   "execution_count": 32,
   "metadata": {},
   "outputs": [],
   "source": [
    "    class ImportLibMixin:\n",
    "        def create_module(self, spec):\n",
    "            module = _new_module(spec.name)\n",
    "            _init_module_attrs(spec, module)\n",
    "            if isinstance(spec, FuzzySpec): sys.modules[spec.alias] = module\n",
    "            if self.name: module.__name__ = self.name\n",
    "            return module\n",
    "\n",
    "        def get_data(self, path): \n",
    "            return LineCacheNotebookDecoder(code=self.format).decode(\n",
    "                decode_source(super().get_data(self.path)), self.path)\n",
    "                        \n",
    "        get_source = get_data"
   ]
  },
  {
   "cell_type": "code",
   "execution_count": 41,
   "metadata": {},
   "outputs": [],
   "source": [
    "    class NotebookBaseLoader(ImportLibMixin, SourceFileLoader, FinderContextManager):\n",
    "        \"\"\"The simplest implementation of a Notebook Source File Loader.\n",
    "        >>> with NotebookBaseLoader():\n",
    "        ...    from importnb.notebooks import loader\n",
    "        >>> assert loader.__file__.endswith('.ipynb')\n",
    "        \"\"\"\n",
    "        extensions = '.ipynb',        \n",
    "        __slots__ = '_lazy', '_fuzzy', '_markdown_docstring', '_position'\n",
    "        \n",
    "        def __init__(\n",
    "            self, fullname=None, path=None, *,\n",
    "            _lazy=False, _fuzzy=True, _position=0,\n",
    "            _markdown_docstring = True\n",
    "        ):\n",
    "            super().__init__(fullname, path)        \n",
    "            self._lazy = _lazy\n",
    "            self._fuzzy = _fuzzy\n",
    "            self._markdown_docstring = _markdown_docstring\n",
    "            self._position = _position\n",
    "            \n",
    "        def format(self, str): return dedent(str)\n",
    "        \n",
    "        def loader_cls(self): \n",
    "            \"\"\"Create a lazy loader source file loader.\"\"\"\n",
    "            loader = super().loader_cls()\n",
    "            if self._lazy: loader = LazyLoader.factory(loader)\n",
    "            return partial(loader, _markdown_docstring=self._markdown_docstring)\n",
    "        \n",
    "        @property\n",
    "        def finder_cls(self): \n",
    "            \"\"\"Permit fuzzy finding of files with special characters.\"\"\"\n",
    "            return self._fuzzy and FuzzyFinder or super().finder_cls"
   ]
  },
  {
   "cell_type": "code",
   "execution_count": 42,
   "metadata": {},
   "outputs": [],
   "source": [
    "    @contextmanager\n",
    "    def cd(dir):\n",
    "        \"\"\"A context manager to change the current working directory.\"\"\"\n",
    "        next, dir = os.getcwd(), Path(dir or '.')\n",
    "        if dir.is_file(): dir = dir.parent\n",
    "        if dir.absolute() != next:\n",
    "            yield os.chdir(str(dir))\n",
    "        else: yield None\n",
    "        os.chdir(str(next))"
   ]
  },
  {
   "cell_type": "code",
   "execution_count": 43,
   "metadata": {},
   "outputs": [],
   "source": [
    "    class FileModuleSpec(ModuleSpec):\n",
    "        def __init__(self, *args, **kwargs):\n",
    "            super().__init__(*args, **kwargs)\n",
    "            self._set_fileattr = True"
   ]
  },
  {
   "cell_type": "markdown",
   "metadata": {},
   "source": [
    "## notebooks most be loadable from files."
   ]
  },
  {
   "cell_type": "code",
   "execution_count": 44,
   "metadata": {},
   "outputs": [],
   "source": [
    "    class FromFileMixin:\n",
    "        \"\"\"FromFileMixin adds a classmethod to load a notebooks from files.\n",
    "        \"\"\"\n",
    "        @classmethod\n",
    "        def load(cls, filename, dir=None, shell=True, main=False, **kwargs):\n",
    "            \"\"\"Import a notebook as a module from a filename.\n",
    "            \n",
    "            dir: The directory to load the file from.\n",
    "            shell: Use the existing IPython shell.\n",
    "            main: Load the module in the __main__ context.\n",
    "            \n",
    "            > assert Notebook.load('loader.ipynb')\n",
    "            \"\"\"\n",
    "            name = main and '__main__' or Path(filename).stem\n",
    "            loader = cls(name, str(filename), _shell=shell, **kwargs)\n",
    "            module = module_from_spec(FileModuleSpec(name, loader, origin=loader.path))     \n",
    "            with ExitStack() as stack:\n",
    "                stack.enter_context(cd(dir))\n",
    "                main or stack.enter_context(_installed_safely(module))\n",
    "                loader.exec_module(module)\n",
    "            return module"
   ]
  },
  {
   "cell_type": "markdown",
   "metadata": {},
   "source": [
    "* Sometimes folks may want to use the current IPython shell to manage the code and input transformations."
   ]
  },
  {
   "cell_type": "code",
   "execution_count": 45,
   "metadata": {},
   "outputs": [],
   "source": [
    "    try:\n",
    "        from IPython.core.inputsplitter import IPythonInputSplitter\n",
    "        dedent = IPythonInputSplitter(line_input_checker=False).transform_cell\n",
    "    except:\n",
    "        from textwrap import dedent\n",
    "\n",
    "    class ShellMixin:\n",
    "        \"\"\"ShellMixin allows the current IPython ast and input transformers to be used\n",
    "        while loading the module.\"\"\"\n",
    "        def _get_ipython(self):\n",
    "            try: return __import__('IPython').get_ipython()\n",
    "            except: ... \n",
    "        \n",
    "        def format(self, str): \n",
    "            shell = self._get_ipython()\n",
    "            return (\n",
    "                shell.input_transformer_manager.transform_cell \n",
    "                if self._shell and shell else dedent)(str)\n",
    "        \n",
    "        def visit(self, node):\n",
    "            shell = self._get_ipython()\n",
    "            if self._shell and shell:\n",
    "                for visitor in shell.ast_transformers:\n",
    "                    node = visitor.visit(node)\n",
    "            return node        "
   ]
  },
  {
   "cell_type": "markdown",
   "metadata": {},
   "source": [
    "## The `Notebook` finder & loader"
   ]
  },
  {
   "cell_type": "code",
   "execution_count": 46,
   "metadata": {},
   "outputs": [],
   "source": [
    "    class Notebook(ShellMixin, FromFileMixin, NotebookBaseLoader):\n",
    "        \"\"\"Notebook is a user friendly file finder and module loader for notebook source code.\n",
    "        \n",
    "        > Remember, restart and run all or it didn't happen.\n",
    "        \n",
    "        Notebook provides several useful options.\n",
    "        \n",
    "        * Lazy module loading.  A module is executed the first time it is used in a script.\n",
    "        \"\"\"\n",
    "        __slots__ = NotebookBaseLoader.__slots__  + ('_shell',)\n",
    "        \n",
    "        def __init__(self, fullname=None, path=None, _lazy=False, _position=0, _shell=False, _fuzzy=True, _markdown_docstring=True): \n",
    "            super().__init__(fullname, path, _lazy=_lazy, _fuzzy=_fuzzy, _position=_position, _markdown_docstring=_markdown_docstring)\n",
    "            self._shell = _shell\n",
    "                        \n",
    "        def source_to_code(self, nodes, path, *, _optimize=-1):\n",
    "            \"\"\"* Convert the current source to ast \n",
    "            * Apply ast transformers.\n",
    "            * Compile the code.\"\"\"\n",
    "            if not isinstance(nodes, ast.Module):\n",
    "                nodes = ast.parse(nodes)\n",
    "            if self._markdown_docstring: nodes = update_docstring(nodes)\n",
    "            return super().source_to_code(ast.fix_missing_locations(self.visit(nodes)), path, _optimize=_optimize)\n",
    "        \n",
    "        def loader_cls(self): return partial(super().loader_cls(), **{\n",
    "            object: getattr(self, object) for object in self.__slots__\n",
    "        })\n",
    "    "
   ]
  },
  {
   "cell_type": "code",
   "execution_count": 47,
   "metadata": {},
   "outputs": [],
   "source": [
    "    class Main(Notebook):\n",
    "        def __init__(self, name, path, **kwargs): super().__init__('__main__', path, **kwargs)\n",
    "        __signature__ = signature(Notebook)"
   ]
  },
  {
   "cell_type": "markdown",
   "metadata": {},
   "source": [
    "# Developer"
   ]
  },
  {
   "cell_type": "markdown",
   "metadata": {},
   "source": [
    "    Notebook.load('loader.ipynb')\n",
    "    "
   ]
  },
  {
   "cell_type": "code",
   "execution_count": 48,
   "metadata": {},
   "outputs": [
    {
     "name": "stdout",
     "output_type": "stream",
     "text": [
      "Trying:\n",
      "    with Notebook():\n",
      "         from importnb.notebooks import loader\n",
      "Expecting nothing\n",
      "ok\n",
      "Trying:\n",
      "    with FinderContextManager() as f:\n",
      "         id, ((loader_cls, _), *_) = get_loader_details()\n",
      "         assert issubclass(loader_cls, FinderContextManager)\n",
      "Expecting nothing\n",
      "ok\n",
      "Trying:\n",
      "    id, ((loader_cls, _), *_) = get_loader_details()\n",
      "Expecting nothing\n",
      "ok\n",
      "Trying:\n",
      "    loader_cls = inspect.unwrap(loader_cls)\n",
      "Expecting nothing\n",
      "ok\n",
      "Trying:\n",
      "    assert not (isinstance(loader_cls, type) and issubclass(loader_cls, FinderContextManager))\n",
      "Expecting nothing\n",
      "ok\n",
      "Trying:\n",
      "    with NotebookBaseLoader():\n",
      "       from importnb.notebooks import loader\n",
      "Expecting nothing\n",
      "ok\n",
      "Trying:\n",
      "    assert loader.__file__.endswith('.ipynb')\n",
      "Expecting nothing\n",
      "ok\n",
      "27 items had no tests:\n",
      "    loader.FileModuleSpec\n",
      "    loader.FileModuleSpec.__init__\n",
      "    loader.FinderContextManager.__enter__\n",
      "    loader.FinderContextManager.__exit__\n",
      "    loader.FinderContextManager._unwrap_loader\n",
      "    loader.FinderContextManager.finder_cls\n",
      "    loader.FinderContextManager.loader_cls\n",
      "    loader.FromFileMixin\n",
      "    loader.FromFileMixin.load\n",
      "    loader.ImportLibMixin\n",
      "    loader.ImportLibMixin.create_module\n",
      "    loader.ImportLibMixin.get_data\n",
      "    loader.Main\n",
      "    loader.Main.__init__\n",
      "    loader.Notebook\n",
      "    loader.Notebook.__init__\n",
      "    loader.Notebook.loader_cls\n",
      "    loader.Notebook.source_to_code\n",
      "    loader.NotebookBaseLoader.__init__\n",
      "    loader.NotebookBaseLoader.finder_cls\n",
      "    loader.NotebookBaseLoader.format\n",
      "    loader.NotebookBaseLoader.loader_cls\n",
      "    loader.ShellMixin\n",
      "    loader.ShellMixin._get_ipython\n",
      "    loader.ShellMixin.format\n",
      "    loader.ShellMixin.visit\n",
      "    loader.cd\n",
      "3 items passed all tests:\n",
      "   1 tests in loader\n",
      "   4 tests in loader.FinderContextManager\n",
      "   2 tests in loader.NotebookBaseLoader\n",
      "7 tests in 30 items.\n",
      "7 passed and 0 failed.\n",
      "Test passed.\n",
      "TestResults(failed=0, attempted=7)\n"
     ]
    }
   ],
   "source": [
    "    if __name__ ==  '__main__':\n",
    "        try:  from utils.export import export\n",
    "        except: from .utils.export import export\n",
    "        export('loader.ipynb', '../loader.py')\n",
    "        print(__import__('doctest').testmod(Notebook.load('loader.ipynb'), verbose=2))"
   ]
  }
 ],
 "metadata": {
  "kernelspec": {
   "display_name": "Python 3",
   "language": "python",
   "name": "python3"
  },
  "language_info": {
   "codemirror_mode": {
    "name": "ipython",
    "version": 3
   },
   "file_extension": ".py",
   "mimetype": "text/x-python",
   "name": "python",
   "nbconvert_exporter": "python",
   "pygments_lexer": "ipython3",
   "version": "3.6.5"
  },
  "toc": {
   "colors": {
    "hover_highlight": "#DAA520",
    "running_highlight": "#FF0000",
    "selected_highlight": "#FFD700"
   },
   "moveMenuLeft": true,
   "nav_menu": {
    "height": "29px",
    "width": "252px"
   },
   "navigate_menu": true,
   "number_sections": true,
   "sideBar": true,
   "threshold": 4,
   "toc_cell": false,
   "toc_section_display": "block",
   "toc_window_display": false,
   "widenNotebook": false
  },
  "varInspector": {
   "cols": {
    "lenName": 16,
    "lenType": 16,
    "lenVar": 40
   },
   "kernels_config": {
    "python": {
     "delete_cmd_postfix": "",
     "delete_cmd_prefix": "del ",
     "library": "var_list.py",
     "varRefreshCmd": "print(var_dic_list())"
    },
    "r": {
     "delete_cmd_postfix": ") ",
     "delete_cmd_prefix": "rm(",
     "library": "var_list.r",
     "varRefreshCmd": "cat(var_dic_list()) "
    }
   },
   "types_to_exclude": [
    "module",
    "function",
    "builtin_function_or_method",
    "instance",
    "_Feature"
   ],
   "window_display": false
  }
 },
 "nbformat": 4,
 "nbformat_minor": 2
}
