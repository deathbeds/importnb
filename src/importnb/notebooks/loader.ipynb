{
 "cells": [
  {
   "cell_type": "markdown",
   "metadata": {},
   "source": [
    "# The [Import Loader](https://docs.python.org/3/reference/import.html#loaders)\n",
    "\n",
    "`importnb` uses context manager to import Notebooks as Python packages and modules.  `importnb.Notebook` simplest context manager.  It will find and load any notebook as a module.\n",
    "\n",
    "    >>> m = Notebook().from_filename('loader.ipynb', 'importnb.notebooks')\n",
    "    >>> assert m and m.Notebook\n",
    " \n",
    "     \n",
    "### `importnb.Partial` \n",
    "\n",
    "    >>> with Notebook(exceptions=BaseException): \n",
    "    ...     from importnb.notebooks import loader\n",
    "    >>> assert loader._exception is None\n",
    "    \n",
    "## There is a [lazy importer]()\n",
    "\n",
    "The Lazy importer will delay the module execution until it is used the first time.  It is a useful approach for delaying visualization or data loading.\n",
    "\n",
    "    >>> with Notebook(lazy=True): \n",
    "    ...     from importnb.notebooks import loader\n",
    "    \n",
    "## Loading from resources\n",
    "\n",
    "Not all notebooks may be loaded as modules throught the standard python import finder.  `from_resource`, or the uncomfortably named `Notebook.from_filename` attributes, support [`importlib_resources`]() style imports and raw file imports.\n",
    "\n",
    "    >>> from importnb.loader import from_resource\n",
    "    >>> assert from_resource(Notebook(), 'loader.ipynb', 'importnb.notebooks')\n",
    "    >>> assert Notebook().from_filename('loader.ipynb', 'importnb.notebooks')\n",
    "    >>> assert Notebook().from_filename(m.__file__)\n",
    "    \n",
    "\n",
    "## Capturing stdin, stdout, and display objects\n",
    "\n",
    "    >>> with Notebook(stdout=True, stderr=True, display=True, globals=dict(show=True)):\n",
    "    ...     from importnb.notebooks import loader\n",
    "    >>> assert loader._capture\n",
    "\n",
    "## Assigning globals\n",
    "\n",
    "    >>> nb = Notebook(stdout=True, globals={'show': True}).from_filename('loader.ipynb', 'importnb.notebooks')\n",
    "    >>> assert nb._capture.stdout"
   ]
  },
  {
   "cell_type": "code",
   "execution_count": 1,
   "metadata": {},
   "outputs": [],
   "source": [
    "    if globals().get('show', None): print(\"Catch me if you can\")"
   ]
  },
  {
   "cell_type": "code",
   "execution_count": 2,
   "metadata": {},
   "outputs": [],
   "source": [
    "    from .capture import capture_output\n",
    "    from .finder import BaseFinder, FileModuleSpec, FuzzySpec\n",
    "    from .extensions import load_ipython_extension, unload_ipython_extension\n",
    "    from .shell import ShellMixin, dedent\n",
    "    from .decoder import loads\n",
    "\n",
    "    import ast, sys, json\n",
    "    from copy import copy\n",
    "    from importlib.machinery import SourceFileLoader, ModuleSpec\n",
    "    from importlib.util import spec_from_loader\n",
    "    from importlib._bootstrap import _installed_safely\n",
    "    \n",
    "    try:  \n",
    "        from importlib._bootstrap_external import decode_source\n",
    "        from importlib.util import module_from_spec\n",
    "    except:\n",
    "        #python 3.4\n",
    "        from importlib._bootstrap import _SpecMethods\n",
    "        from importlib.util import decode_source\n",
    "        \n",
    "        def module_from_spec(spec): \n",
    "            return _SpecMethods(spec).create()\n",
    "    \n",
    "    from importlib import reload\n",
    "    from contextlib import contextmanager, ExitStack\n",
    "    from pathlib import Path\n",
    "    try:\n",
    "        from importlib.resources import path\n",
    "    except:\n",
    "        from importlib_resources import path\n",
    "        \n",
    "    from json.decoder import JSONObject, JSONDecoder, WHITESPACE, WHITESPACE_STR\n",
    "        \n",
    "    __all__ = 'Notebook', 'reload', "
   ]
  },
  {
   "cell_type": "code",
   "execution_count": 3,
   "metadata": {},
   "outputs": [],
   "source": [
    "    class ImportNbException(BaseException):\n",
    "        \"\"\"ImportNbException allows all exceptions to be raised, a null except statement always passes.\"\"\""
   ]
  },
  {
   "cell_type": "markdown",
   "metadata": {},
   "source": [
    "## Converting cells to code\n",
    "\n",
    "These functions are attached to the loaders."
   ]
  },
  {
   "cell_type": "markdown",
   "metadata": {},
   "source": [
    "## Loading from resources"
   ]
  },
  {
   "cell_type": "code",
   "execution_count": 4,
   "metadata": {},
   "outputs": [],
   "source": [
    "    def from_resource(loader, file=None, resource=None, exec=True, **globals):\n",
    "        \"\"\"Load a python module or notebook from a file location.\n",
    "\n",
    "        from_filename is not reloadable because it is not in the sys.modules.\n",
    "\n",
    "        This still needs some work for packages.\n",
    "        \n",
    "        file: A file name to a notebook \n",
    "        resource: A dotted path to a module containing the notebook file.\n",
    "        \n",
    "        >> assert from_resource(Notebook(), 'loader.ipynb', 'importnb.notebooks')\n",
    "        \"\"\"\n",
    "        with ExitStack() as stack:\n",
    "            if resource is not None:\n",
    "                file = Path(stack.enter_context(path(resource, file)))\n",
    "            else:\n",
    "                file = Path(file or loader.path)            \n",
    "                \n",
    "            name = (getattr(loader, 'name', False) == '__main__' and '__main__') or file.stem\n",
    "            name = name.replace('.', '_')                \n",
    "                        \n",
    "            if file.suffixes[-1] == '.ipynb':  \n",
    "                if any(map(str(file).startswith, ('http:', 'https:'))):\n",
    "                    file = str(file)\n",
    "                    if '://' not in file:\n",
    "                        file = file.replace(':/', '://')\n",
    "\n",
    "                loader = loader(name, file)\n",
    "            else:  \n",
    "                loader = SourceFileLoader(name, str(file))\n",
    "\n",
    "            lazy = getattr(loader, 'lazy', False)\n",
    "            if lazy: \n",
    "                try:\n",
    "                    from importlib.util import LazyLoader\n",
    "                    loader = LazyLoader(loader)\n",
    "                except:\n",
    "                    ImportWarning(\"\"\"LazyLoading is only available in > Python 3.5\"\"\")\n",
    "\n",
    "            spec = FileModuleSpec(name, loader, origin=loader.path)\n",
    "            module = module_from_spec(spec)            \n",
    "            if exec:\n",
    "                stack.enter_context(_installed_safely(module))\n",
    "                module.__loader__.exec_module(module, **globals)\n",
    "                \n",
    "        return module"
   ]
  },
  {
   "cell_type": "markdown",
   "metadata": {},
   "source": [
    "# The Notebook Loader"
   ]
  },
  {
   "cell_type": "code",
   "execution_count": 5,
   "metadata": {},
   "outputs": [],
   "source": [
    "    def assign_line_numbers(cell, node): \n",
    "        return ast.fix_missing_locations(ast.increment_lineno(node, cell[\"metadata\"].get(\"lineno\", 1)))"
   ]
  },
  {
   "cell_type": "code",
   "execution_count": 6,
   "metadata": {},
   "outputs": [],
   "source": [
    "    from importlib._bootstrap import _new_module\n",
    "    try:  \n",
    "        from importlib._bootstrap import _init_module_attrs\n",
    "    except:\n",
    "        #python 3.4\n",
    "        from importlib._bootstrap import _SpecMethods\n",
    "        def _init_module_attrs(spec, module):\n",
    "            return _SpecMethods(spec).init_module_attrs(module)\n"
   ]
  },
  {
   "cell_type": "code",
   "execution_count": 7,
   "metadata": {},
   "outputs": [],
   "source": [
    "    class NotebookLoader(SourceFileLoader, BaseFinder):\n",
    "        \"\"\"The simplest implementation of a Notebook Source File Loader.\n",
    "        >>> with NotebookLoader():\n",
    "        ...    from importnb.notebooks import loader\n",
    "        >>> assert loader.__file__.endswith('.ipynb')\n",
    "        \"\"\"\n",
    "        extensions = '.ipynb',        \n",
    "        __slots__ = 'name', 'path', 'finder', 'lazy'\n",
    "        \n",
    "        def __init__(\n",
    "            self, fullname=None, path=None, *, \n",
    "            fuzzy=True, lazy=False, extensions=None\n",
    "        ):\n",
    "            super().__init__(fullname, path)\n",
    "            BaseFinder.__init__(self, fuzzy=fuzzy, lazy=lazy, extensions=extensions)\n",
    "        \n",
    "        def format(self, str): \n",
    "            \"\"\"The default transformer dedents the code cell to make indented code \n",
    "            valid Python.\n",
    "            \"\"\"\n",
    "            return dedent(str)\n",
    "        \n",
    "        def create_module(self, spec):\n",
    "            module = _new_module(spec.name)\n",
    "            _init_module_attrs(spec, module)\n",
    "            if isinstance(spec, FuzzySpec):\n",
    "                sys.modules[spec.alias] = module\n",
    "            if self.name:\n",
    "                module.__name__ = self.name\n",
    "            return module\n",
    "\n",
    "        def visit(self, node):\n",
    "            \"\"\"A method that allows a NodeTransformer to modify code.\"\"\"\n",
    "            return node\n",
    "\n",
    "        from_filename = from_resource\n",
    "    \n",
    "        def __call__(self, fullname=None, path=None): \n",
    "            \"\"\"The PathFinder calls this when looking for objects \n",
    "            on the path.\"\"\"\n",
    "            self= copy(self)\n",
    "            return SourceFileLoader.__init__(self, str(self.name or fullname), str(path)) or self\n",
    "        \n",
    "        def parse_cells(self, nb, **kwargs):\n",
    "            for i, cell in enumerate(nb['cells']):\n",
    "                node = None\n",
    "                if cell['cell_type'] == 'markdown':\n",
    "                    node = self.parse_markdown_cell(cell, **kwargs)\n",
    "                if cell['cell_type'] == 'code':\n",
    "                    node = self.parse_code_cell(cell, **kwargs)\n",
    "                if node is not None:\n",
    "                    yield cell, assign_line_numbers(cell, self.visit(node))\n",
    "                    \n",
    "        def parse_markdown_cell(self, cell, **kwargs):\n",
    "             return ast.Module(body=[ast.Expr(ast.Str(s=''.join(cell['source'])))])\n",
    "            \n",
    "        def parse_code_cell(self, cell, **kwargs):\n",
    "             return ast.parse(self.format(''.join(cell['source'])))\n",
    "            \n",
    "\n",
    "        def nb_to_ast(self, nb):\n",
    "            module = ast.Module(body=[])\n",
    "            for i, (cell, node) in enumerate(self.parse_cells(nb)):\n",
    "                module.body.extend(node.body)\n",
    "            return module\n",
    "        \n",
    "        def source_to_code(self, object, path):\n",
    "            \"\"\"Notebook uses source_to_code to get notebooks, while Interactive\n",
    "            objects use get_notebook.\n",
    "            \"\"\"\n",
    "            source = decode_source(object)\n",
    "            if path.endswith('.py') or path.endswith('.pyi'):\n",
    "                source = '''{[{\"source\": \"'''+ json.dumps(source) +''', \"cell_type\": \"code\"}]}'''\n",
    "            if path.endswith('.ipynb'):\n",
    "                nb = loads(source)\n",
    "            module = self.nb_to_ast(nb)\n",
    "            return compile(module, path or \"<importnb>\", 'exec')"
   ]
  },
  {
   "cell_type": "markdown",
   "metadata": {},
   "source": [
    "## An advanced `exec_module` decorator."
   ]
  },
  {
   "cell_type": "code",
   "execution_count": 8,
   "metadata": {},
   "outputs": [],
   "source": [
    "    def advanced_exec_module(exec_module):\n",
    "        \"\"\"Decorate `SourceFileLoader.exec_module` objects with abilities to:\n",
    "        * Capture output in Python and IPython\n",
    "        * Prepopulate a model namespace.\n",
    "        * Allow exceptions while notebooks are loading.\n",
    "        \n",
    "        >>> assert advanced_exec_module(SourceFileLoader.exec_module)\n",
    "        \"\"\"\n",
    "        def _exec_module(loader, module, **globals):\n",
    "            module._exception = None\n",
    "            module.__dict__.update(getattr(loader, 'globals', {}))\n",
    "            module.__dict__.update(globals)\n",
    "            with capture_output(stdout=loader.stdout, stderr=loader.stderr, display=loader.display) as out:\n",
    "                module._capture = out\n",
    "                try: \n",
    "                    exec_module(loader, module)\n",
    "                except loader.exceptions as Exception: \n",
    "                    module._exception = Exception\n",
    "                    \n",
    "        return _exec_module\n",
    "\n"
   ]
  },
  {
   "cell_type": "markdown",
   "metadata": {},
   "source": [
    "# The Advanced Notebook loader"
   ]
  },
  {
   "cell_type": "code",
   "execution_count": 9,
   "metadata": {},
   "outputs": [],
   "source": [
    "    class Notebook(ShellMixin, NotebookLoader):\n",
    "        \"\"\"The Notebook loader is an advanced loader for IPython notebooks:\n",
    "        \n",
    "        * Capture stdout, stderr, and display objects.\n",
    "        * Partially evaluate notebook with known exceptions.\n",
    "        * Supply extra global values into notebooks.\n",
    "        \n",
    "        >>> assert Notebook().from_filename('loader.ipynb', 'importnb.notebooks')\n",
    "        \"\"\"\n",
    "        EXTENSION_SUFFIXES = '.ipynb',\n",
    "    \n",
    "        __slots__ = 'stdout', 'stderr', 'display', 'lazy', 'exceptions', 'globals', 'dir', 'shell', 'finder'\n",
    "        \n",
    "        def __init__(\n",
    "            self, fullname=None, path=None, *, \n",
    "            stdout=False, stderr=False, display=False,\n",
    "            lazy=False, globals=None, exceptions=ImportNbException, \n",
    "            dir=None, shell=False, fuzzy=True, extensions=None\n",
    "        ): \n",
    "            super().__init__(fullname, path, fuzzy=fuzzy, extensions=None)\n",
    "            self.stdout = stdout\n",
    "            self.stderr = stderr\n",
    "            self.display = display\n",
    "            self.lazy = lazy\n",
    "            self.globals = {} if globals is None else globals\n",
    "            self.exceptions = exceptions\n",
    "            self.dir = dir\n",
    "            self.shell = shell\n",
    "                        \n",
    "        exec_module = advanced_exec_module(NotebookLoader.exec_module)\n"
   ]
  },
  {
   "cell_type": "markdown",
   "metadata": {},
   "source": [
    "# Developer"
   ]
  },
  {
   "cell_type": "code",
   "execution_count": 10,
   "metadata": {},
   "outputs": [
    {
     "name": "stdout",
     "output_type": "stream",
     "text": [
      "Trying:\n",
      "    assert Notebook().from_filename('loader.ipynb', 'importnb.notebooks')\n",
      "Expecting nothing\n",
      "ok\n",
      "Trying:\n",
      "    with NotebookLoader():\n",
      "       from importnb.notebooks import loader\n",
      "Expecting nothing\n",
      "ok\n",
      "Trying:\n",
      "    assert loader.__file__.endswith('.ipynb')\n",
      "Expecting nothing\n",
      "ok\n",
      "Trying:\n",
      "    assert advanced_exec_module(SourceFileLoader.exec_module)\n",
      "Expecting nothing\n",
      "ok\n",
      "16 items had no tests:\n",
      "    __main__\n",
      "    __main__.ImportNbException\n",
      "    __main__.Notebook.__init__\n",
      "    __main__.Notebook.exec_module\n",
      "    __main__.NotebookLoader.__call__\n",
      "    __main__.NotebookLoader.__init__\n",
      "    __main__.NotebookLoader.create_module\n",
      "    __main__.NotebookLoader.format\n",
      "    __main__.NotebookLoader.nb_to_ast\n",
      "    __main__.NotebookLoader.parse_cells\n",
      "    __main__.NotebookLoader.parse_code_cell\n",
      "    __main__.NotebookLoader.parse_markdown_cell\n",
      "    __main__.NotebookLoader.source_to_code\n",
      "    __main__.NotebookLoader.visit\n",
      "    __main__.assign_line_numbers\n",
      "    __main__.from_resource\n",
      "3 items passed all tests:\n",
      "   1 tests in __main__.Notebook\n",
      "   2 tests in __main__.NotebookLoader\n",
      "   1 tests in __main__.advanced_exec_module\n",
      "4 tests in 19 items.\n",
      "4 passed and 0 failed.\n",
      "Test passed.\n",
      "TestResults(failed=0, attempted=4)\n"
     ]
    }
   ],
   "source": [
    "    if __name__ ==  '__main__':\n",
    "        try:  from utils.export import export\n",
    "        except: from .utils.export import export\n",
    "        export('loader.ipynb', '../loader.py')\n",
    "        m = Notebook().from_filename('loader.ipynb')\n",
    "        print(__import__('doctest').testmod(__import__(__name__), verbose=2))"
   ]
  },
  {
   "cell_type": "markdown",
   "metadata": {},
   "source": [
    "# More Information\n",
    "\n",
    "The `importnb.loader` module recreates basic Python importing abilities.  Have a look at [`execute.ipynb`](execute.ipynb) for more advanced usages."
   ]
  },
  {
   "cell_type": "code",
   "execution_count": null,
   "metadata": {},
   "outputs": [],
   "source": []
  },
  {
   "cell_type": "code",
   "execution_count": null,
   "metadata": {},
   "outputs": [],
   "source": []
  }
 ],
 "metadata": {
  "kernelspec": {
   "display_name": "Python 3",
   "language": "python",
   "name": "python3"
  },
  "language_info": {
   "codemirror_mode": {
    "name": "ipython",
    "version": 3
   },
   "file_extension": ".py",
   "mimetype": "text/x-python",
   "name": "python",
   "nbconvert_exporter": "python",
   "pygments_lexer": "ipython3",
   "version": "3.6.5"
  },
  "toc": {
   "colors": {
    "hover_highlight": "#DAA520",
    "running_highlight": "#FF0000",
    "selected_highlight": "#FFD700"
   },
   "moveMenuLeft": true,
   "nav_menu": {
    "height": "29px",
    "width": "252px"
   },
   "navigate_menu": true,
   "number_sections": true,
   "sideBar": true,
   "threshold": 4,
   "toc_cell": false,
   "toc_section_display": "block",
   "toc_window_display": false,
   "widenNotebook": false
  },
  "varInspector": {
   "cols": {
    "lenName": 16,
    "lenType": 16,
    "lenVar": 40
   },
   "kernels_config": {
    "python": {
     "delete_cmd_postfix": "",
     "delete_cmd_prefix": "del ",
     "library": "var_list.py",
     "varRefreshCmd": "print(var_dic_list())"
    },
    "r": {
     "delete_cmd_postfix": ") ",
     "delete_cmd_prefix": "rm(",
     "library": "var_list.r",
     "varRefreshCmd": "cat(var_dic_list()) "
    }
   },
   "types_to_exclude": [
    "module",
    "function",
    "builtin_function_or_method",
    "instance",
    "_Feature"
   ],
   "window_display": false
  }
 },
 "nbformat": 4,
 "nbformat_minor": 2
}
