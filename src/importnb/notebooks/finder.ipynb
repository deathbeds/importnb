{
 "cells": [
  {
   "cell_type": "markdown",
   "metadata": {},
   "source": [
    "# `sys.path_hook` modifiers\n",
    "\n",
    "Many suggestions for importing notebooks use `sys.meta_paths`, but `importnb` relies on the `sys.path_hooks` to load any notebook in the path. `PathHooksContext` is a base class for the `importnb.Notebook` `SourceFileLoader`."
   ]
  },
  {
   "cell_type": "code",
   "execution_count": 1,
   "metadata": {},
   "outputs": [],
   "source": [
    "    import inspect, sys, ast, os\n",
    "    from pathlib import Path\n",
    "    try:  \n",
    "        from importlib._bootstrap_external import FileFinder\n",
    "    except:\n",
    "        #python 3.4\n",
    "        from importlib.machinery import FileFinder\n",
    "        \n",
    "    from contextlib import contextmanager, ExitStack\n",
    "\n",
    "    from itertools import chain\n",
    "\n",
    "    from importlib.machinery import SourceFileLoader, ModuleSpec"
   ]
  },
  {
   "cell_type": "code",
   "execution_count": 2,
   "metadata": {},
   "outputs": [],
   "source": [
    "    class FileModuleSpec(ModuleSpec):\n",
    "        def __init__(self, *args, **kwargs):\n",
    "            super().__init__(*args, **kwargs)\n",
    "            self._set_fileattr = True"
   ]
  },
  {
   "cell_type": "code",
   "execution_count": 3,
   "metadata": {},
   "outputs": [],
   "source": [
    "    class FuzzySpec(FileModuleSpec):\n",
    "        def __init__(self, name, loader, *, alias=None, origin=None, loader_state=None, is_package=None):\n",
    "            super().__init__(name, loader, origin=origin, loader_state=loader_state, is_package=is_package)\n",
    "            self.alias = alias"
   ]
  },
  {
   "cell_type": "code",
   "execution_count": 4,
   "metadata": {},
   "outputs": [],
   "source": [
    "    def fuzzy_query(str): \n",
    "        new = \"\"\n",
    "        for chr in str: new += (not new.endswith('__') or chr != '_') and chr or ''\n",
    "        return new.replace('__', '*').replace('_', '?')"
   ]
  },
  {
   "cell_type": "code",
   "execution_count": 5,
   "metadata": {},
   "outputs": [],
   "source": [
    "    def fuzzy_file_search(path, fullname):\n",
    "        results = []\n",
    "        id, details = get_loader_details()\n",
    "        for ext in sum((list(object[1]) for object in details), []):\n",
    "            results.extend(Path(path).glob(fullname + ext))\n",
    "            '_' in fullname and results.extend(\n",
    "                Path(path).glob(fuzzy_query(fullname) + ext))\n",
    "        return results\n"
   ]
  },
  {
   "cell_type": "code",
   "execution_count": 15,
   "metadata": {},
   "outputs": [],
   "source": [
    "    class FuzzyFinder(FileFinder):\n",
    "        \"\"\"Adds the ability to open file names with special characters using underscores.\"\"\"\n",
    "        def find_spec(self, fullname, target=None):\n",
    "            \"\"\"Try to finder the spec and if it cannot be found, use the underscore starring syntax\n",
    "            to identify potential matches.\n",
    "            \"\"\"\n",
    "            spec = super().find_spec(fullname, target=target)\n",
    "            \n",
    "            if spec is None:\n",
    "                original = fullname\n",
    "\n",
    "                if '.' in fullname:\n",
    "                    original, fullname = fullname.rsplit('.', 1)\n",
    "                else:\n",
    "                    original, fullname = '', original\n",
    "\n",
    "                if '_' in fullname:\n",
    "                    files = fuzzy_file_search(self.path, fullname)\n",
    "                    if files:           \n",
    "                        file = Path(sorted(files)[0])\n",
    "                        spec = super().find_spec((\n",
    "                            original + \".\" + file.stem.split('.', 1)[0]\n",
    "                        ).lstrip('.'), target=target)\n",
    "                        fullname = (original + \".\" + fullname).lstrip('.')\n",
    "                        if spec and fullname != spec.name:\n",
    "                            spec = FuzzySpec(\n",
    "                                spec.name, spec.loader, \n",
    "                                origin=spec.origin, loader_state=spec.loader_state,\n",
    "                                alias=fullname,\n",
    "                                is_package=bool(spec.submodule_search_locations)\n",
    "                                )\n",
    "            return spec\n",
    "            \n"
   ]
  },
  {
   "cell_type": "code",
   "execution_count": 16,
   "metadata": {},
   "outputs": [],
   "source": [
    "    def get_loader_details():\n",
    "        for id, path_hook in enumerate(sys.path_hooks):\n",
    "            try: return id, list(inspect.getclosurevars(path_hook).nonlocals['loader_details'])\n",
    "            except: continue"
   ]
  },
  {
   "cell_type": "markdown",
   "metadata": {},
   "source": [
    "# Developer"
   ]
  },
  {
   "cell_type": "code",
   "execution_count": 17,
   "metadata": {},
   "outputs": [],
   "source": [
    "    if __name__ ==  '__main__':\n",
    "        try:  from utils.export import export\n",
    "        except: from .utils.export import export\n",
    "        export('finder.ipynb', '../finder.py')"
   ]
  },
  {
   "cell_type": "code",
   "execution_count": null,
   "metadata": {},
   "outputs": [],
   "source": []
  },
  {
   "cell_type": "code",
   "execution_count": null,
   "metadata": {},
   "outputs": [],
   "source": []
  },
  {
   "cell_type": "code",
   "execution_count": null,
   "metadata": {},
   "outputs": [],
   "source": []
  }
 ],
 "metadata": {
  "kernelspec": {
   "display_name": "Python 3",
   "language": "python",
   "name": "python3"
  },
  "language_info": {
   "codemirror_mode": {
    "name": "ipython",
    "version": 3
   },
   "file_extension": ".py",
   "mimetype": "text/x-python",
   "name": "python",
   "nbconvert_exporter": "python",
   "pygments_lexer": "ipython3",
   "version": "3.6.5"
  },
  "toc": {
   "colors": {
    "hover_highlight": "#DAA520",
    "running_highlight": "#FF0000",
    "selected_highlight": "#FFD700"
   },
   "moveMenuLeft": true,
   "nav_menu": {
    "height": "29px",
    "width": "252px"
   },
   "navigate_menu": true,
   "number_sections": true,
   "sideBar": true,
   "threshold": 4,
   "toc_cell": false,
   "toc_section_display": "block",
   "toc_window_display": false,
   "widenNotebook": false
  },
  "varInspector": {
   "cols": {
    "lenName": 16,
    "lenType": 16,
    "lenVar": 40
   },
   "kernels_config": {
    "python": {
     "delete_cmd_postfix": "",
     "delete_cmd_prefix": "del ",
     "library": "var_list.py",
     "varRefreshCmd": "print(var_dic_list())"
    },
    "r": {
     "delete_cmd_postfix": ") ",
     "delete_cmd_prefix": "rm(",
     "library": "var_list.r",
     "varRefreshCmd": "cat(var_dic_list()) "
    }
   },
   "types_to_exclude": [
    "module",
    "function",
    "builtin_function_or_method",
    "instance",
    "_Feature"
   ],
   "window_display": false
  }
 },
 "nbformat": 4,
 "nbformat_minor": 2
}
