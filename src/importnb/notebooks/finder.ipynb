{
 "cells": [
  {
   "cell_type": "markdown",
   "metadata": {},
   "source": [
    "# `sys.path_hook` modifiers\n",
    "\n",
    "Many suggestions for importing notebooks use `sys.meta_paths`, but `importnb` relies on the `sys.path_hooks` to load any notebook in the path. `PathHooksContext` is a base class for the `importnb.Notebook` `SourceFileLoader`."
   ]
  },
  {
   "cell_type": "code",
   "execution_count": 55,
   "metadata": {},
   "outputs": [],
   "source": [
    "    import inspect, sys, ast, os\n",
    "    from pathlib import Path\n",
    "    try:  \n",
    "        from importlib._bootstrap_external import FileFinder\n",
    "    except:\n",
    "        #python 3.4\n",
    "        from importlib.machinery import FileFinder\n",
    "        \n",
    "    from contextlib import contextmanager, ExitStack\n",
    "\n",
    "    from itertools import chain\n",
    "\n",
    "    from importlib.machinery import SourceFileLoader, ModuleSpec"
   ]
  },
  {
   "cell_type": "code",
   "execution_count": 56,
   "metadata": {},
   "outputs": [],
   "source": [
    "    class FileModuleSpec(ModuleSpec):\n",
    "        def __init__(self, *args, **kwargs):\n",
    "            super().__init__(*args, **kwargs)\n",
    "            self._set_fileattr = True"
   ]
  },
  {
   "cell_type": "code",
   "execution_count": 57,
   "metadata": {},
   "outputs": [],
   "source": [
    "    class FuzzySpec(FileModuleSpec):\n",
    "        def __init__(self, name, loader, *, alias=None, origin=None, loader_state=None, is_package=None):\n",
    "            super().__init__(name, loader, origin=origin, loader_state=loader_state, is_package=is_package)\n",
    "            self.alias = alias"
   ]
  },
  {
   "cell_type": "code",
   "execution_count": 71,
   "metadata": {},
   "outputs": [],
   "source": [
    "    def fuzzy_query(str): \n",
    "        new = \"\"\n",
    "        for chr in str: new += (not new.endswith('__') or chr != '_') and chr or ''\n",
    "        return new.replace('__', '*').replace('_', '?')"
   ]
  },
  {
   "cell_type": "code",
   "execution_count": 72,
   "metadata": {},
   "outputs": [],
   "source": [
    "    def fuzzy_file_search(path, fullname):\n",
    "        results = []\n",
    "        with modify_file_finder_details(None) as details:\n",
    "            for ext in sum((list(object[1]) for object in details), []):\n",
    "                results.extend(Path(path).glob(fullname + ext))\n",
    "                '_' in fullname and results.extend(\n",
    "                    Path(path).glob(\n",
    "                        fuzzy_query(fullname) + ext\n",
    "                    ))\n",
    "        return results\n"
   ]
  },
  {
   "cell_type": "code",
   "execution_count": 59,
   "metadata": {},
   "outputs": [],
   "source": [
    "    class FuzzyFinder(FileFinder):\n",
    "        \"\"\"Adds the ability to open file names with special characters using underscores.\"\"\"\n",
    "        def find_spec(self, fullname, target=None):\n",
    "            \"\"\"Try to finder the spec and if it cannot be found, use the underscore starring syntax\n",
    "            to identify potential matches.\n",
    "            \"\"\"\n",
    "            spec = super().find_spec(fullname, target=target)\n",
    "            \n",
    "            if spec is None:\n",
    "                original = fullname\n",
    "\n",
    "                if '.' in fullname:\n",
    "                    original, fullname = fullname.rsplit('.', 1)\n",
    "                else:\n",
    "                    original, fullname = '', original\n",
    "\n",
    "                if '_' in fullname:\n",
    "                    files = fuzzy_file_search(self.path, fullname)\n",
    "                    if files:           \n",
    "                        files = sorted(files)\n",
    "                        spec = super().find_spec((\n",
    "                            original + \".\" + Path(files[0]).stem.split('.', 1)[0]\n",
    "                        ).lstrip('.'), target=target)\n",
    "                        fullname = (original + \".\" + fullname).lstrip('.')\n",
    "                        if spec and fullname != spec.name:\n",
    "                            spec = FuzzySpec(\n",
    "                                spec.name, spec.loader, \n",
    "                                origin=spec.origin, loader_state=spec.loader_state,\n",
    "                                alias=fullname,\n",
    "                                is_package=bool(spec.submodule_search_locations)\n",
    "                                )\n",
    "            return spec\n",
    "            \n"
   ]
  },
  {
   "cell_type": "code",
   "execution_count": 60,
   "metadata": {},
   "outputs": [],
   "source": [
    "    @contextmanager\n",
    "    def modify_file_finder_details(finder=FileFinder):\n",
    "        \"\"\"yield the FileFinder in the sys.path_hooks that loads Python files and assure\n",
    "        the import cache is cleared afterwards.  \n",
    "        \n",
    "        * Everything goes to shit if the import cache is not cleared.\n",
    "        * This function is independent\n",
    "        \n",
    "        When finder is None we just recieve the details\n",
    "        \n",
    "        \"\"\"\n",
    "        \n",
    "        for id, hook in enumerate(sys.path_hooks):\n",
    "            try:\n",
    "                closure = inspect.getclosurevars(hook).nonlocals\n",
    "            except TypeError: continue\n",
    "            if issubclass(closure['cls'], FileFinder):\n",
    "                finder and sys.path_hooks.pop(id)\n",
    "                details = list(closure['loader_details'])\n",
    "                yield details\n",
    "                break\n",
    "                \n",
    "        if finder:\n",
    "            # This repetition may eventually become a problem\n",
    "            sys.path_hooks.insert(id, finder.path_hook(*details))\n",
    "            sys.path_importer_cache.clear()"
   ]
  },
  {
   "cell_type": "markdown",
   "metadata": {},
   "source": [
    "Update the file_finder details with functions to append and remove the [loader details](https://docs.python.org/3.7/library/importlib.html#importlib.machinery.FileFinder)."
   ]
  },
  {
   "cell_type": "code",
   "execution_count": 61,
   "metadata": {},
   "outputs": [],
   "source": [
    "    def unwrap_loader(loader):\n",
    "        \"\"\"Extract the loader contents of a lazy loader in the import path.\"\"\"\n",
    "        try:\n",
    "            return inspect.getclosurevars(loader).nonlocals.get('cls', loader)\n",
    "        except:\n",
    "            return loader"
   ]
  },
  {
   "cell_type": "markdown",
   "metadata": {},
   "source": [
    "The Finder with add a finder factory the sys.path closure containing the filefinder."
   ]
  },
  {
   "cell_type": "code",
   "execution_count": 62,
   "metadata": {},
   "outputs": [],
   "source": [
    "    class BaseFinder(ExitStack):\n",
    "        __slots__ = 'finder', 'lazy'\n",
    "        \n",
    "        def __init__(self, *, fuzzy=True, lazy=False, extensions=None):\n",
    "            self.finder = fuzzy and FuzzyFinder or FileFinder\n",
    "            self.lazy = lazy\n",
    "            self.extensions = extensions or self.extensions or tuple()\n",
    "            super().__init__()\n",
    "            \n",
    "        def __enter__(self, position=0):  \n",
    "            self = super().__enter__()\n",
    "            self.add_path_hooks(self.prepare(self), self.extensions, position=position)\n",
    "            if getattr(self, 'dir', None):\n",
    "                self.enter_context(change_dir(self.dir))\n",
    "                self.enter_context(modify_sys_path(self.dir))\n",
    "            return self\n",
    "        \n",
    "        def __exit__(self, *excepts): \n",
    "            self.remove_one_path_hook(self)\n",
    "            super().__exit__(*excepts)\n",
    "\n",
    "        def prepare(self, loader):\n",
    "            \"\"\"Wrap the loader in a LazyLoader.\"\"\"\n",
    "            if getattr(self, 'lazy', None): \n",
    "                try:\n",
    "                    from importlib.util import LazyLoader\n",
    "                    if self.lazy: \n",
    "                        loader = LazyLoader.factory(loader)\n",
    "                except:\n",
    "                    ImportWarning(\"\"\"LazyLoading is only available in > Python 3.5\"\"\")\n",
    "            return loader\n",
    "\n",
    "        def add_path_hooks(self, loader, extensions, *, position=0):\n",
    "            \"\"\"Update the FileFinder loader in sys.path_hooks to accomodate a {loader} with the {extensions}\"\"\"\n",
    "            with modify_file_finder_details(self.finder) as details:\n",
    "                if position == -1:\n",
    "                    position = len(details)\n",
    "                details.insert(position, (loader, extensions))\n",
    "\n",
    "        def remove_one_path_hook(self, loader):\n",
    "            loader = unwrap_loader(loader)\n",
    "            with modify_file_finder_details(self.finder) as details:\n",
    "                _details = list(details)\n",
    "                for ct, (cls, ext) in enumerate(_details):\n",
    "                    cls = unwrap_loader(cls)\n",
    "                    if cls == loader:\n",
    "                        details.pop(ct)\n",
    "                        break"
   ]
  },
  {
   "cell_type": "code",
   "execution_count": 63,
   "metadata": {},
   "outputs": [],
   "source": [
    "    @contextmanager\n",
    "    def change_dir(dir):\n",
    "        next = Path().absolute()\n",
    "        dir = Path(dir)\n",
    "        if dir.absolute() != next:\n",
    "            yield os.chdir(str(dir))\n",
    "            os.chdir(str(next))\n",
    "        else:\n",
    "            yield None\n",
    "        "
   ]
  },
  {
   "cell_type": "code",
   "execution_count": 69,
   "metadata": {},
   "outputs": [],
   "source": [
    "    @contextmanager\n",
    "    def modify_sys_path(file):\n",
    "        \"\"\"This is only invoked when using from_resource.\"\"\"\n",
    "        path = str(Path(file).parent)\n",
    "        if path not in map(str, map(Path, sys.path)):\n",
    "            yield sys.path.insert(0, path)\n",
    "            sys.path = [object for object in sys.path if str(Path(object)) != path]\n",
    "        else: yield"
   ]
  },
  {
   "cell_type": "markdown",
   "metadata": {},
   "source": [
    "# Developer"
   ]
  },
  {
   "cell_type": "code",
   "execution_count": 70,
   "metadata": {},
   "outputs": [],
   "source": [
    "    if __name__ ==  '__main__':\n",
    "        try:  from utils.export import export\n",
    "        except: from .utils.export import export\n",
    "        export('finder.ipynb', '../finder.py')"
   ]
  },
  {
   "cell_type": "code",
   "execution_count": null,
   "metadata": {},
   "outputs": [],
   "source": []
  },
  {
   "cell_type": "code",
   "execution_count": null,
   "metadata": {},
   "outputs": [],
   "source": []
  },
  {
   "cell_type": "code",
   "execution_count": null,
   "metadata": {},
   "outputs": [],
   "source": []
  }
 ],
 "metadata": {
  "kernelspec": {
   "display_name": "Python 3",
   "language": "python",
   "name": "python3"
  },
  "language_info": {
   "codemirror_mode": {
    "name": "ipython",
    "version": 3
   },
   "file_extension": ".py",
   "mimetype": "text/x-python",
   "name": "python",
   "nbconvert_exporter": "python",
   "pygments_lexer": "ipython3",
   "version": "3.6.5"
  },
  "toc": {
   "colors": {
    "hover_highlight": "#DAA520",
    "running_highlight": "#FF0000",
    "selected_highlight": "#FFD700"
   },
   "moveMenuLeft": true,
   "nav_menu": {
    "height": "29px",
    "width": "252px"
   },
   "navigate_menu": true,
   "number_sections": true,
   "sideBar": true,
   "threshold": 4,
   "toc_cell": false,
   "toc_section_display": "block",
   "toc_window_display": false,
   "widenNotebook": false
  },
  "varInspector": {
   "cols": {
    "lenName": 16,
    "lenType": 16,
    "lenVar": 40
   },
   "kernels_config": {
    "python": {
     "delete_cmd_postfix": "",
     "delete_cmd_prefix": "del ",
     "library": "var_list.py",
     "varRefreshCmd": "print(var_dic_list())"
    },
    "r": {
     "delete_cmd_postfix": ") ",
     "delete_cmd_prefix": "rm(",
     "library": "var_list.r",
     "varRefreshCmd": "cat(var_dic_list()) "
    }
   },
   "types_to_exclude": [
    "module",
    "function",
    "builtin_function_or_method",
    "instance",
    "_Feature"
   ],
   "window_display": false
  }
 },
 "nbformat": 4,
 "nbformat_minor": 2
}
