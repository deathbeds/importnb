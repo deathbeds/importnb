{
 "cells": [
  {
   "cell_type": "markdown",
   "metadata": {},
   "source": [
    "# Special handling of markdown cells as docstrings.\n",
    "\n",
    "Modify the Python `ast` to assign docstrings to functions when they are preceded by a Markdown cell."
   ]
  },
  {
   "cell_type": "code",
   "execution_count": 1,
   "metadata": {},
   "outputs": [],
   "source": [
    "    import ast"
   ]
  },
  {
   "cell_type": "markdown",
   "metadata": {},
   "source": [
    "# Modifying the `ast`\n",
    "\n",
    "    >>> assert isinstance(create_test, ast.Assign)\n",
    "    >>> assert isinstance(test_update, ast.Attribute)"
   ]
  },
  {
   "cell_type": "code",
   "execution_count": 2,
   "metadata": {},
   "outputs": [],
   "source": [
    "    create_test = ast.parse(\"\"\"__test__ = globals().get('__test__', {})\"\"\", mode='single').body[0]\n",
    "    test_update = ast.parse('''__test__.update''', mode='single').body[0].value    \n",
    "    str_nodes = ast.Str, \n",
    "    \n",
    "    try:\n",
    "        str_nodes += ast.JoinedStr,\n",
    "    except: ..."
   ]
  },
  {
   "cell_type": "markdown",
   "metadata": {},
   "source": [
    "`TestStrings` is an `ast.NodeTransformer` that captures `str_nodes` in the `TestStrings.strings` object.\n",
    "\n",
    "```ipython\n",
    ">>> assert isinstance(ast.parse(TestStrings().visit(ast.parse('\"Test me\"'))), ast.Module)\n",
    "\n",
    "```"
   ]
  },
  {
   "cell_type": "code",
   "execution_count": 3,
   "metadata": {},
   "outputs": [],
   "source": [
    "    class TestStrings(ast.NodeTransformer):      \n",
    "    \n",
    "        strings = None\n",
    "        \n",
    "        def visit_Module(self, module):\n",
    "            \"\"\"`TestStrings.visit_Module` initializes the capture. After all the nodes are visit we append `create_test and test_update`\n",
    "            to populate the `\"__test__\"` attribute.\n",
    "            \"\"\"\n",
    "            self.strings = []\n",
    "            module = self.visit_body(module)\n",
    "            module.body += [create_test] + [\n",
    "                ast.copy_location(ast.Expr(ast.Call(func=test_update, args=[\n",
    "                    ast.Dict(keys=[ast.Str(\"string-{}\".format(node.lineno))], values=[node])\n",
    "                ], keywords=[])), node)\n",
    "                for node in self.strings\n",
    "            ] if self.strings else []\n",
    "            return module\n",
    "        \n",
    "        \n",
    "        def visit_body(self, node):\n",
    "            \"\"\"`TestStrings.visit_body` visits nodes with a `\"body\"` attibute and extracts potential string tests.\"\"\"\n",
    "\n",
    "            body = []\n",
    "            if node.body and isinstance(node.body[0], ast.Expr) and isinstance(node.body[0].value, str_nodes): \n",
    "                body.append(node.body.pop(0))\n",
    "            node.body = body + [(self.visit_body if hasattr(object, 'body') else self.visit)(object) for object in node.body]\n",
    "            return node\n",
    "                \n",
    "        def visit_Expr(self, node):\n",
    "            \"\"\"`TestStrings.visit_Expr` append the `str_nodes` to `TestStrings.strings` to append to the `ast.Module`.\"\"\"\n",
    "            \n",
    "            if isinstance(node.value, str_nodes): \n",
    "                self.strings.append(\n",
    "                    ast.copy_location(ast.Str(node.value.s.replace('\\n```', '\\n')), node)\n",
    "                )\n",
    "            return node\n",
    "        \n"
   ]
  },
  {
   "cell_type": "code",
   "execution_count": 4,
   "metadata": {},
   "outputs": [],
   "source": [
    "    def update_docstring(module):\n",
    "        from functools import reduce\n",
    "        module.body = reduce(markdown_docstring, module.body, [])\n",
    "        return TestStrings().visit(module)"
   ]
  },
  {
   "cell_type": "code",
   "execution_count": 5,
   "metadata": {},
   "outputs": [],
   "source": [
    "    docstring_ast_types = ast.ClassDef, ast.FunctionDef\n",
    "    try:\n",
    "        docstring_ast_types += ast.AsyncFunctionDef,\n",
    "    except: ... "
   ]
  },
  {
   "cell_type": "code",
   "execution_count": 6,
   "metadata": {},
   "outputs": [],
   "source": [
    "    def markdown_docstring(nodes, node):\n",
    "        if (len(nodes) > 1 and str_expr(nodes[-1]) \n",
    "            and isinstance(node, docstring_ast_types) \n",
    "            and not str_expr(node.body[0])): node.body.insert(0, nodes.pop())\n",
    "        return nodes.append(node) or nodes\n"
   ]
  },
  {
   "cell_type": "code",
   "execution_count": 7,
   "metadata": {},
   "outputs": [],
   "source": [
    "    def str_expr(node):  return isinstance(node, ast.Expr) and isinstance(node.value, ast.Str)"
   ]
  },
  {
   "cell_type": "code",
   "execution_count": 8,
   "metadata": {},
   "outputs": [],
   "source": [
    "    if __name__ ==  '__main__':\n",
    "        try:  from utils.export import export\n",
    "        except: from .utils.export import export\n",
    "        export('docstrings.ipynb', '../docstrings.py')"
   ]
  }
 ],
 "metadata": {
  "kernelspec": {
   "display_name": "Python 3",
   "language": "python",
   "name": "python3"
  },
  "language_info": {
   "codemirror_mode": {
    "name": "ipython",
    "version": 3
   },
   "file_extension": ".py",
   "mimetype": "text/x-python",
   "name": "python",
   "nbconvert_exporter": "python",
   "pygments_lexer": "ipython3",
   "version": "3.6.6"
  },
  "toc": {
   "colors": {
    "hover_highlight": "#DAA520",
    "running_highlight": "#FF0000",
    "selected_highlight": "#FFD700"
   },
   "moveMenuLeft": true,
   "nav_menu": {
    "height": "29px",
    "width": "252px"
   },
   "navigate_menu": true,
   "number_sections": true,
   "sideBar": true,
   "threshold": 4,
   "toc_cell": false,
   "toc_section_display": "block",
   "toc_window_display": false,
   "widenNotebook": false
  },
  "varInspector": {
   "cols": {
    "lenName": 16,
    "lenType": 16,
    "lenVar": 40
   },
   "kernels_config": {
    "python": {
     "delete_cmd_postfix": "",
     "delete_cmd_prefix": "del ",
     "library": "var_list.py",
     "varRefreshCmd": "print(var_dic_list())"
    },
    "r": {
     "delete_cmd_postfix": ") ",
     "delete_cmd_prefix": "rm(",
     "library": "var_list.r",
     "varRefreshCmd": "cat(var_dic_list()) "
    }
   },
   "types_to_exclude": [
    "module",
    "function",
    "builtin_function_or_method",
    "instance",
    "_Feature"
   ],
   "window_display": false
  }
 },
 "nbformat": 4,
 "nbformat_minor": 2
}
