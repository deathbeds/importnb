{
 "cells": [
  {
   "cell_type": "code",
   "execution_count": 1,
   "metadata": {},
   "outputs": [],
   "source": [
    "    try:\n",
    "        from .loader import Notebook\n",
    "        from .decoder import loads_ast\n",
    "    except:\n",
    "        from loader import Notebook\n",
    "        from decoder import loads_ast\n",
    "    from inspect import getsource\n",
    "    \n",
    "    from types import ModuleType"
   ]
  },
  {
   "cell_type": "markdown",
   "metadata": {},
   "source": [
    "Are single target `ast.Expr` that will `ast.literal_eval` is a possible parameter."
   ]
  },
  {
   "cell_type": "code",
   "execution_count": 2,
   "metadata": {},
   "outputs": [],
   "source": [
    "    from ast import NodeTransformer, parse, Assign, literal_eval, dump, fix_missing_locations, Str, Tuple\n",
    "    class FreeStatementFinder(NodeTransformer):\n",
    "        def __init__(self, params=None, globals=None):\n",
    "            self.params = params if params is not None else []\n",
    "            self.globals = globals if globals is not None else {}\n",
    "            \n",
    "        visit_Module = NodeTransformer.generic_visit\n",
    "        \n",
    "        def visit_Assign(FreeStatement, node):\n",
    "            if len(node.targets):\n",
    "                try:\n",
    "                    if not getattr(node.targets[0], 'id', '_').startswith('_'):\n",
    "                        FreeStatement.globals[node.targets[0].id] = literal_eval(node.value)\n",
    "                        return \n",
    "                except: assert True, \"\"\"The target can not will not literally evaluate.\"\"\"\n",
    "            return node\n",
    "                        \n",
    "        def generic_visit(self, node): return node\n",
    "        \n",
    "        def __call__(FreeStatement, nodes): return FreeStatement.globals, fix_missing_locations(FreeStatement.visit(nodes))"
   ]
  },
  {
   "cell_type": "markdown",
   "metadata": {},
   "source": [
    "# `Parameterize` notebooks\n",
    "\n",
    "`Parameterize` is callable version of a notebook.  It uses `pidgin` to load the `NotebookNode` and evaluates the `FreeStatement`s to discover the signature."
   ]
  },
  {
   "cell_type": "code",
   "execution_count": 3,
   "metadata": {},
   "outputs": [],
   "source": [
    "    class Parameterize:\n",
    "        \"\"\"Parameterize takes a module, filename, or notebook dictionary and returns callable object that parameterizes the notebook module.\n",
    "        \n",
    "        f = Parameterize('parameterize.ipynb')\n",
    "        \"\"\"\n",
    "        def __init__(\n",
    "            self, object=None\n",
    "        ):\n",
    "            from importnb.capture import capture_output\n",
    "            from pathlib import Path\n",
    "            from json import load, loads\n",
    "            self.object = object\n",
    "\n",
    "            self.__file__ = None\n",
    "            \n",
    "            if isinstance(object, ModuleType):\n",
    "                self.__file__ = object.__file__\n",
    "                object = getsource(object)\n",
    "            elif isinstance(object, (Path, str)):\n",
    "                self.__file__ = object\n",
    "                with open(str(object)) as f: \n",
    "                    object = f.read()\n",
    "            elif isinstance(object, dict): ...\n",
    "            else: raise ValueError(\"object must be a module, file string, or dict.\")\n",
    "                \n",
    "            self.__variables__, self.__ast__ = \\\n",
    "                FreeStatementFinder()(loads_ast(object))\n",
    "            self.__signature__ = self.vars_to_sig(**self.__variables__)\n",
    "\n",
    "        def __call__(self, **dict):\n",
    "            self = __import__('copy').copy(self)\n",
    "            self.__dict__.update(self.__variables__)\n",
    "            self.__dict__.update(dict)\n",
    "            exec(compile(self.__ast__, self.__file__ or '<parameterized>', 'exec'), *[self.__dict__]*2)\n",
    "            return self\n",
    "        \n",
    "        def interact(Parameterize): \n",
    "            \"\"\"Use the ipywidgets.interact to explore the parameterized notebook.\"\"\"\n",
    "            return __import__('ipywidgets').interact(Parameterize)\n",
    "        \n",
    "        @staticmethod\n",
    "        def vars_to_sig(**vars):\n",
    "            \"\"\"Create a signature for a dictionary of names.\"\"\"\n",
    "            from inspect import Parameter, Signature\n",
    "            return Signature([Parameter(str, Parameter.KEYWORD_ONLY, default = vars[str]) for str in vars])\n"
   ]
  },
  {
   "cell_type": "markdown",
   "metadata": {},
   "source": [
    "#### Examples that do work"
   ]
  },
  {
   "cell_type": "code",
   "execution_count": 4,
   "metadata": {},
   "outputs": [],
   "source": [
    "    import sys\n",
    "    \n",
    "    param = 'xyz'\n",
    "    extraparam = 42"
   ]
  },
  {
   "cell_type": "markdown",
   "metadata": {},
   "source": [
    "#### Examples that do *not* work"
   ]
  },
  {
   "cell_type": "code",
   "execution_count": 5,
   "metadata": {},
   "outputs": [],
   "source": [
    "    \"\"\"Parameters are not created when literal_eval fails.\"\"\"\n",
    "    noparam0 = Parameterize\n",
    "    \n",
    "    \"\"\"Multiple target assignments are ignored.\"\"\"\n",
    "    noparam1, noparam2 = 'xyz', 42"
   ]
  },
  {
   "cell_type": "markdown",
   "metadata": {},
   "source": [
    "## Developer"
   ]
  },
  {
   "cell_type": "code",
   "execution_count": 6,
   "metadata": {},
   "outputs": [
    {
     "name": "stdout",
     "output_type": "stream",
     "text": [
      "Trying:\n",
      "    default = f()\n",
      "Expecting nothing\n",
      "ok\n",
      "Trying:\n",
      "    assert default.param == default.noparam1 == 'xyz' and default.noparam2 == 42\n",
      "Expecting nothing\n",
      "ok\n",
      "Trying:\n",
      "    assert all(str not in default.__signature__.parameters for str in ('noparam', 'noparam1', 'noparam2'))\n",
      "Expecting nothing\n",
      "ok\n",
      "Trying:\n",
      "    assert callable(f)\n",
      "Expecting nothing\n",
      "ok\n",
      "Trying:\n",
      "    new = f(param=10)\n",
      "Expecting nothing\n",
      "ok\n",
      "Trying:\n",
      "    assert new.param is 10 and new.extraparam is 42\n",
      "Expecting nothing\n",
      "ok\n",
      "11 items had no tests:\n",
      "    __main__\n",
      "    __main__.FreeStatementFinder\n",
      "    __main__.FreeStatementFinder.__call__\n",
      "    __main__.FreeStatementFinder.__init__\n",
      "    __main__.FreeStatementFinder.generic_visit\n",
      "    __main__.FreeStatementFinder.visit_Assign\n",
      "    __main__.Parameterize\n",
      "    __main__.Parameterize.__call__\n",
      "    __main__.Parameterize.__init__\n",
      "    __main__.Parameterize.interact\n",
      "    __main__.Parameterize.vars_to_sig\n",
      "3 items passed all tests:\n",
      "   3 tests in __main__.__test__.default\n",
      "   1 tests in __main__.__test__.imports\n",
      "   2 tests in __main__.__test__.reuse\n",
      "6 tests in 14 items.\n",
      "6 passed and 0 failed.\n",
      "Test passed.\n"
     ]
    }
   ],
   "source": [
    "    __test__ = dict(\n",
    "        imports=\"\"\"\n",
    "        >>> assert callable(f)\n",
    "        \"\"\",\n",
    "        default=\"\"\"\n",
    "        >>> default = f()\n",
    "        >>> assert default.param == default.noparam1 == 'xyz' and default.noparam2 == 42\n",
    "        >>> assert all(str not in default.__signature__.parameters for str in ('noparam', 'noparam1', 'noparam2'))\n",
    "        \"\"\",\n",
    "        reuse=\"\"\"\n",
    "        >>> new = f(param=10)\n",
    "        >>> assert new.param is 10 and new.extraparam is 42\"\"\",\n",
    "    )\n",
    "    if __name__ == '__main__':\n",
    "        f = Parameterize(globals().get('__file__', 'parameterize.ipynb'))\n",
    "        __import__('doctest').testmod(verbose=1)"
   ]
  },
  {
   "cell_type": "code",
   "execution_count": 7,
   "metadata": {
    "scrolled": false
   },
   "outputs": [],
   "source": [
    "    if __name__ ==  '__main__':\n",
    "    #         export('parameterize.ipynb', '../parameterize.py')\n",
    "        __import__('doctest').testmod()"
   ]
  }
 ],
 "metadata": {
  "kernelspec": {
   "display_name": "p6",
   "language": "python",
   "name": "other-env"
  },
  "language_info": {
   "codemirror_mode": {
    "name": "ipython",
    "version": 3
   },
   "file_extension": ".py",
   "mimetype": "text/x-python",
   "name": "python",
   "nbconvert_exporter": "python",
   "pygments_lexer": "ipython3",
   "version": "3.6.3"
  },
  "toc": {
   "colors": {
    "hover_highlight": "#DAA520",
    "running_highlight": "#FF0000",
    "selected_highlight": "#FFD700"
   },
   "moveMenuLeft": true,
   "nav_menu": {
    "height": "30px",
    "width": "252px"
   },
   "navigate_menu": true,
   "number_sections": true,
   "sideBar": true,
   "threshold": 4,
   "toc_cell": false,
   "toc_section_display": "block",
   "toc_window_display": false,
   "widenNotebook": false
  },
  "varInspector": {
   "cols": {
    "lenName": 16,
    "lenType": 16,
    "lenVar": 40
   },
   "kernels_config": {
    "python": {
     "delete_cmd_postfix": "",
     "delete_cmd_prefix": "del ",
     "library": "var_list.py",
     "varRefreshCmd": "print(var_dic_list())"
    },
    "r": {
     "delete_cmd_postfix": ") ",
     "delete_cmd_prefix": "rm(",
     "library": "var_list.r",
     "varRefreshCmd": "cat(var_dic_list()) "
    }
   },
   "types_to_exclude": [
    "module",
    "function",
    "builtin_function_or_method",
    "instance",
    "_Feature"
   ],
   "window_display": false
  }
 },
 "nbformat": 4,
 "nbformat_minor": 2
}
