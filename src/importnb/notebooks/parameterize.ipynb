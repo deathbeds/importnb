{
 "cells": [
  {
   "cell_type": "markdown",
   "metadata": {},
   "source": [
    "# `Parameterize` notebooks.\n",
    "\n",
    "The execute importer maintains an attribute that includes the notebooks inputs and outputs.\n",
    "\n",
    "    >>> f = Parameterize(shell=True).from_filename('parameterize.ipynb', 'importnb.notebooks')\n",
    "    >>> assert 'a_variable_to_parameterize' in f.__signature__.parameters\n",
    "    >>> assert f(a_variable_to_parameterize=100)\n",
    "    "
   ]
  },
  {
   "cell_type": "markdown",
   "metadata": {},
   "source": [
    "    !python -m importnb.parameterize parameterize.ipynb --a_variable_to_parameterize 100\n",
    "    !ipython -m importnb.parameterize a_variable_to_parameterize.ipynb -- --a_variable_to_parameterize 100"
   ]
  },
  {
   "cell_type": "code",
   "execution_count": 1,
   "metadata": {},
   "outputs": [],
   "source": [
    "    from .execute import Execute\n",
    "\n",
    "    import ast, sys, inspect\n",
    "\n",
    "    from collections import ChainMap  \n",
    "    from functools import partialmethod\n",
    "    \n",
    "    from importlib._bootstrap import _new_module\n",
    "    try:  \n",
    "        from importlib._bootstrap import _init_module_attrs\n",
    "    except:\n",
    "        #python 3.4\n",
    "        from importlib._bootstrap import _SpecMethods\n",
    "        def _init_module_attrs(spec, module):\n",
    "            return _SpecMethods(spec).init_module_attrs(module)\n",
    "\n",
    "    \n",
    "    __all__ = 'Parameterize',"
   ]
  },
  {
   "cell_type": "code",
   "execution_count": 2,
   "metadata": {},
   "outputs": [],
   "source": [
    "    a_variable_to_parameterize = 42"
   ]
  },
  {
   "cell_type": "code",
   "execution_count": 3,
   "metadata": {},
   "outputs": [],
   "source": [
    "    if globals().get('show', None):\n",
    "        print('I am tested.')"
   ]
  },
  {
   "cell_type": "code",
   "execution_count": 4,
   "metadata": {},
   "outputs": [],
   "source": [
    "    class AssignmentFinder(ast.NodeTransformer):\n",
    "        \"\"\"Find an ast assignments that ast.literal_eval\n",
    "        \n",
    "        >>> assert len(AssignmentFinder().visit(ast.parse(\"a = 10; print(a);\")).body) == 1\n",
    "        \"\"\"\n",
    "        visit_Module = ast.NodeTransformer.generic_visit\n",
    "        \n",
    "        def visit_Assign(self, node):\n",
    "            if len(node.targets):\n",
    "                try:\n",
    "                    if not getattr(node.targets[0], 'id', '_').startswith('_'):\n",
    "                        ast.literal_eval(node.value)\n",
    "                        return node\n",
    "                except: ...\n",
    "            \n",
    "        def generic_visit(self, node): ..."
   ]
  },
  {
   "cell_type": "code",
   "execution_count": 5,
   "metadata": {},
   "outputs": [],
   "source": [
    "    class AssignmentIgnore(AssignmentFinder):\n",
    "        def visit_Assign(self, node):\n",
    "            if isinstance(super().visit_Assign(node), ast.Assign):\n",
    "                return \n",
    "            return node\n",
    "            \n",
    "        def generic_visit(self, node): return node"
   ]
  },
  {
   "cell_type": "code",
   "execution_count": 6,
   "metadata": {},
   "outputs": [],
   "source": [
    "    def copy_module(module):\n",
    "        new = type(module)(module.__name__)\n",
    "        new.__dict__.update(module.__dict__)\n",
    "        return new"
   ]
  },
  {
   "cell_type": "code",
   "execution_count": 7,
   "metadata": {},
   "outputs": [],
   "source": [
    "    class Parameterize(Execute):\n",
    "        \"\"\"Discover any literal ast expression and create parameters from them. \n",
    "                \n",
    "        Parametize is a NodeTransformer that import any nodes return by Parameterize Node.\n",
    "        \"\"\"      \n",
    "        def create_module(self, spec):\n",
    "            module = _new_module(spec.name)\n",
    "            _init_module_attrs(spec, module)\n",
    "                    \n",
    "            # Import the notebook when parameterize is imported\n",
    "            self.set_notebook(module)\n",
    "            \n",
    "            node = self.nb_to_ast(module._notebook)\n",
    "            \n",
    "            # Extra effort to supply a docstring\n",
    "            doc = None\n",
    "            if node.body: \n",
    "                _node = node.body[0]\n",
    "                if isinstance(_node, ast.Expr) and isinstance(_node.value, ast.Str):\n",
    "                    doc = _node\n",
    "                    \n",
    "            # Discover the parameterizable nodes\n",
    "            params = AssignmentFinder().visit(node)\n",
    "            \n",
    "            # Include the string in the compilation\n",
    "            doc and params.body.insert(0, doc)\n",
    "            \n",
    "            # Supply the literal parameter values as module globals.\n",
    "            exec(compile(params, '<parameterize>', 'exec'), module.__dict__, module.__dict__)\n",
    "            \n",
    "            self.parser = getattr(\n",
    "                self, 'parser', module_to_argparse(module))\n",
    "            \n",
    "            return module\n",
    "        \n",
    "        def from_filename(self, filename, path=None, **globals):\n",
    "            module = super().from_filename(filename, path, exec=False)            \n",
    "\n",
    "            def recall(**kwargs):\n",
    "                nonlocal module, globals\n",
    "                module.__loader__.exec_module(module, **ChainMap(kwargs, globals))\n",
    "                return copy_module(module)\n",
    "            \n",
    "            recall.__signature__ = vars_to_sig(**{k: v for k, v in module.__dict__.items() if not k.startswith('_')})\n",
    "            recall.__doc__ = module.__doc__\n",
    "            return recall\n",
    "        \n",
    "        def _exec_cell(self, cell, node, module, prev=None):\n",
    "            node = AssignmentIgnore().visit(node)\n",
    "            super()._exec_cell(cell, node, module, prev=prev)\n",
    "            \n",
    "        def set_notebook(self, module):\n",
    "            if not hasattr(module, \"_notebook\"): super().set_notebook(module)"
   ]
  },
  {
   "cell_type": "code",
   "execution_count": 8,
   "metadata": {},
   "outputs": [],
   "source": [
    "    def literal_eval_or_string(object):\n",
    "        try: return ast.literal_eval(object)\n",
    "        except: return str(object)"
   ]
  },
  {
   "cell_type": "code",
   "execution_count": 9,
   "metadata": {},
   "outputs": [],
   "source": [
    "    def module_to_argparse(object):\n",
    "        import argparse\n",
    "        parser = argparse.ArgumentParser(prog=object.__loader__.path, description=inspect.getdoc(object))\n",
    "        for key, parameter in vars(object).items():\n",
    "            if key[0] != '_':\n",
    "                parser.add_argument('--%s'%key, type=literal_eval_or_string, default=parameter, help=\"{} {}\".format(type(parameter), parameter))\n",
    "        return parser"
   ]
  },
  {
   "cell_type": "code",
   "execution_count": 10,
   "metadata": {},
   "outputs": [],
   "source": [
    "    def vars_to_sig(**vars):\n",
    "        \"\"\"Create a signature for a dictionary of names.\"\"\"\n",
    "        from inspect import Parameter, Signature\n",
    "        return Signature([Parameter(str, Parameter.KEYWORD_ONLY, default = vars[str]) for str in vars])"
   ]
  },
  {
   "cell_type": "code",
   "execution_count": 11,
   "metadata": {},
   "outputs": [],
   "source": [
    "    if __name__ == '__main__':\n",
    "        f = Parameterize(exceptions=BaseException).from_filename('parameterize.ipynb', 'importnb.notebooks')\n",
    "        m = f(a_variable_to_parameterize=10)"
   ]
  },
  {
   "cell_type": "markdown",
   "metadata": {},
   "source": [
    "# Developer"
   ]
  },
  {
   "cell_type": "code",
   "execution_count": 12,
   "metadata": {},
   "outputs": [],
   "source": [
    "    class Main(Parameterize):\n",
    "        __init__ = partialmethod(Parameterize.__init__, '__main__')\n",
    "        def exec_module(self, module, **globals):\n",
    "            globals.update(vars(self.parser.parse_args()))\n",
    "            super().exec_module(module, **globals)"
   ]
  },
  {
   "cell_type": "code",
   "execution_count": 13,
   "metadata": {},
   "outputs": [],
   "source": [
    "    def main(): Main().from_filename(sys.argv.pop(1))()"
   ]
  },
  {
   "cell_type": "code",
   "execution_count": 14,
   "metadata": {},
   "outputs": [
    {
     "name": "stdout",
     "output_type": "stream",
     "text": [
      "Trying:\n",
      "    f = Parameterize(shell=True).from_filename('parameterize.ipynb', 'importnb.notebooks')\n",
      "Expecting nothing\n",
      "ok\n",
      "Trying:\n",
      "    assert 'a_variable_to_parameterize' in f.__signature__.parameters\n",
      "Expecting nothing\n",
      "ok\n",
      "Trying:\n",
      "    assert f(a_variable_to_parameterize=100)\n",
      "Expecting nothing\n",
      "ok\n",
      "Trying:\n",
      "    assert len(AssignmentFinder().visit(ast.parse(\"a = 10; print(a);\")).body) == 1\n",
      "Expecting nothing\n",
      "ok\n",
      "17 items had no tests:\n",
      "    parameterize.AssignmentFinder.generic_visit\n",
      "    parameterize.AssignmentFinder.visit_Assign\n",
      "    parameterize.AssignmentIgnore\n",
      "    parameterize.AssignmentIgnore.generic_visit\n",
      "    parameterize.AssignmentIgnore.visit_Assign\n",
      "    parameterize.Main\n",
      "    parameterize.Main.exec_module\n",
      "    parameterize.Parameterize\n",
      "    parameterize.Parameterize._exec_cell\n",
      "    parameterize.Parameterize.create_module\n",
      "    parameterize.Parameterize.from_filename\n",
      "    parameterize.Parameterize.set_notebook\n",
      "    parameterize.copy_module\n",
      "    parameterize.literal_eval_or_string\n",
      "    parameterize.main\n",
      "    parameterize.module_to_argparse\n",
      "    parameterize.vars_to_sig\n",
      "2 items passed all tests:\n",
      "   3 tests in parameterize\n",
      "   1 tests in parameterize.AssignmentFinder\n",
      "4 tests in 19 items.\n",
      "4 passed and 0 failed.\n",
      "Test passed.\n"
     ]
    }
   ],
   "source": [
    "    if __name__ == '__main__':\n",
    "        if sys.argv[0] == globals().get('__file__', None):\n",
    "            main()\n",
    "        else:\n",
    "            from importnb.utils.export import export\n",
    "            export('parameterize.ipynb', '../parameterize.py')\n",
    "            module = Execute(shell=True).from_filename('parameterize.ipynb')\n",
    "            __import__('doctest').testmod(module, verbose=2)"
   ]
  },
  {
   "cell_type": "code",
   "execution_count": null,
   "metadata": {},
   "outputs": [],
   "source": []
  }
 ],
 "metadata": {
  "kernelspec": {
   "display_name": "p6",
   "language": "python",
   "name": "other-env"
  },
  "language_info": {
   "codemirror_mode": {
    "name": "ipython",
    "version": 3
   },
   "file_extension": ".py",
   "mimetype": "text/x-python",
   "name": "python",
   "nbconvert_exporter": "python",
   "pygments_lexer": "ipython3",
   "version": "3.6.3"
  },
  "toc": {
   "colors": {
    "hover_highlight": "#DAA520",
    "running_highlight": "#FF0000",
    "selected_highlight": "#FFD700"
   },
   "moveMenuLeft": true,
   "nav_menu": {
    "height": "29px",
    "width": "252px"
   },
   "navigate_menu": true,
   "number_sections": true,
   "sideBar": true,
   "threshold": 4,
   "toc_cell": false,
   "toc_section_display": "block",
   "toc_window_display": false,
   "widenNotebook": false
  },
  "varInspector": {
   "cols": {
    "lenName": 16,
    "lenType": 16,
    "lenVar": 40
   },
   "kernels_config": {
    "python": {
     "delete_cmd_postfix": "",
     "delete_cmd_prefix": "del ",
     "library": "var_list.py",
     "varRefreshCmd": "print(var_dic_list())"
    },
    "r": {
     "delete_cmd_postfix": ") ",
     "delete_cmd_prefix": "rm(",
     "library": "var_list.r",
     "varRefreshCmd": "cat(var_dic_list()) "
    }
   },
   "types_to_exclude": [
    "module",
    "function",
    "builtin_function_or_method",
    "instance",
    "_Feature"
   ],
   "window_display": false
  }
 },
 "nbformat": 4,
 "nbformat_minor": 2
}
