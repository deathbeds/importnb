{
 "cells": [
  {
   "cell_type": "markdown",
   "metadata": {},
   "source": [
    "# Parameterize\n",
    "\n",
    "The parameterize loader allows notebooks to be used as functions and command line tools.  A `Parameterize` loader will convert an literal ast assigments to keyword arguments for the module."
   ]
  },
  {
   "cell_type": "code",
   "execution_count": 6,
   "metadata": {},
   "outputs": [],
   "source": [
    "    try:\n",
    "        from .loader import Notebook, module_from_spec\n",
    "    except:\n",
    "        from loader import Notebook, module_from_spec\n",
    "    import argparse, ast, inspect\n",
    "    from functools import partial\n",
    "    from copy import deepcopy\n",
    "    from inspect import Signature, Parameter\n",
    "    from pathlib import Path\n",
    "    from functools import partialmethod\n",
    "    from inspect import signature\n",
    "    import sys\n",
    "    from importlib.util import find_spec, spec_from_loader\n",
    "    from importlib._bootstrap import _installed_safely\n"
   ]
  },
  {
   "cell_type": "code",
   "execution_count": 7,
   "metadata": {},
   "outputs": [],
   "source": [
    "    class FindReplace(ast.NodeTransformer):\n",
    "        def __init__(self, globals, parser): \n",
    "            self.globals = globals\n",
    "            self.parser = parser\n",
    "            self.argv = sys.argv[1:]\n",
    "            self.parameters = []\n",
    "            \n",
    "        def visit_Assign(self, node):\n",
    "            if len(node.targets) == 1 and isinstance(node.targets[0], ast.Name): \n",
    "                target, parameter = node.targets[0].id, node.value\n",
    "                try: parameter = ast.literal_eval(parameter)\n",
    "                except: return node\n",
    "\n",
    "                if target[0].lower(): \n",
    "                    try: self. parser.add_argument('--%s'%target, default=parameter,\n",
    "                             help=\"{} : {} = {}\".format(target, type(parameter).__name__, parameter))\n",
    "                    except argparse.ArgumentError: ...\n",
    "                    self.parameters.append(Parameter(target, Parameter.KEYWORD_ONLY, default=parameter))\n",
    "                    if ('-h' not in self.argv) and ('--help' not in self.argv):\n",
    "                        ns, self.argv = self.parser.parse_known_args(self.argv)\n",
    "                        if target in self.globals: node = ast.Expr(ast.Str(\"Skipped\"))\n",
    "                        elif (getattr(ns, target) != parameter):\n",
    "                            node.value = ast.parse(str(getattr(ns, target))).body[0].value\n",
    "            return node\n",
    "        \n",
    "        @property\n",
    "        def signature(self): return Signature(self.parameters)\n",
    "        \n",
    "        def visit_Module(self, node):\n",
    "            node.body = list(map(self.visit, node.body))\n",
    "            self.parser.description = ast.get_docstring(node)\n",
    "            self.parser.parse_known_args(self.argv) # run in case there is a help arugment\n",
    "            return node\n",
    "        \n",
    "        def generic_visit(self, node): return node"
   ]
  },
  {
   "cell_type": "code",
   "execution_count": 8,
   "metadata": {},
   "outputs": [],
   "source": [
    "    def copy_(module):\n",
    "        new = type(module)(module.__name__)\n",
    "        return new.__dict__.update(**vars(module)) or new"
   ]
  },
  {
   "cell_type": "code",
   "execution_count": 9,
   "metadata": {},
   "outputs": [],
   "source": [
    "    class Parameterize(Notebook):\n",
    "        __slots__ = Notebook.__slots__ + ('globals',)\n",
    "        def __init__(self, fullname=None, path=None, *, lazy=False, fuzzy=True, \n",
    "                     markdown_docstring=True, position=0, globals=None, main=False, **_globals): \n",
    "            super().__init__(fullname, path, lazy=lazy, fuzzy=fuzzy, position=position, main=main)\n",
    "            self.globals = globals or {}\n",
    "            self.globals.update(**_globals)\n",
    "            self._visitor = FindReplace(self.globals, argparse.ArgumentParser(prog=self.name))\n",
    "        \n",
    "        def exec_module(self, module):\n",
    "            self._visitor = FindReplace(self.globals, self._visitor.parser)\n",
    "            module.__dict__.update(**self.globals)\n",
    "            return super().exec_module(module)\n",
    "        \n",
    "        def visit(self, node): return super().visit(self._visitor.visit(node))\n",
    "        \n",
    "        @classmethod\n",
    "        def load(cls, object, **globals): return parameterize(super().load(object), **globals)\n",
    "            "
   ]
  },
  {
   "cell_type": "markdown",
   "metadata": {},
   "source": [
    "    with Parameterize(): \n",
    "        reload(foo)\n",
    "\n",
    "    with Parameterize(a=1234123): \n",
    "        reload(foo)\n",
    "\n",
    "    with Parameterize(a=\"🤘\"): \n",
    "        reload(foo)"
   ]
  },
  {
   "cell_type": "markdown",
   "metadata": {},
   "source": [
    "    import foo"
   ]
  },
  {
   "cell_type": "code",
   "execution_count": 10,
   "metadata": {},
   "outputs": [],
   "source": [
    "    def parameterize(object, **globals):\n",
    "        with Parameterize(**globals):\n",
    "            if isinstance(object, str): \n",
    "                object = module_from_spec(find_spec(object))\n",
    "            \n",
    "        object.__loader__ = Parameterize(object.__loader__.name, object.__loader__.path, **globals)\n",
    "        \n",
    "        def call(**parameters):\n",
    "            nonlocal object, globals\n",
    "            object = copy_(object)\n",
    "            keywords = {}\n",
    "            keywords.update(**globals), keywords.update(**parameters)\n",
    "            with _installed_safely(object): Parameterize(\n",
    "                object.__name__, object.__file__, **keywords\n",
    "            ).exec_module(object)\n",
    "            return object\n",
    "        \n",
    "        object.__loader__.get_code(object.__name__)\n",
    "        call.__doc__ = object.__doc__ or object.__loader__._visitor.parser.format_help()\n",
    "        call.__signature__ = object.__loader__._visitor.signature\n",
    "        return call"
   ]
  },
  {
   "cell_type": "markdown",
   "metadata": {},
   "source": [
    "    f = parameterize('foo', a=20)"
   ]
  },
  {
   "cell_type": "markdown",
   "metadata": {},
   "source": [
    "# Developer"
   ]
  },
  {
   "cell_type": "code",
   "execution_count": 12,
   "metadata": {},
   "outputs": [],
   "source": [
    "    if __name__ == '__main__':\n",
    "        f = Parameterize().load('parameterize.ipynb')\n",
    "        from importnb.utils.export import export\n",
    "        export('parameterize.ipynb', '../parameterize.py')\n",
    "        #m = f.__loader__(a_variable_to_parameterize=10)"
   ]
  },
  {
   "cell_type": "code",
   "execution_count": null,
   "metadata": {},
   "outputs": [],
   "source": []
  },
  {
   "cell_type": "code",
   "execution_count": null,
   "metadata": {},
   "outputs": [],
   "source": []
  }
 ],
 "metadata": {
  "kernelspec": {
   "display_name": "Python 3",
   "language": "python",
   "name": "python3"
  },
  "language_info": {
   "codemirror_mode": {
    "name": "ipython",
    "version": 3
   },
   "file_extension": ".py",
   "mimetype": "text/x-python",
   "name": "python",
   "nbconvert_exporter": "python",
   "pygments_lexer": "ipython3",
   "version": "3.6.6"
  },
  "toc": {
   "colors": {
    "hover_highlight": "#DAA520",
    "running_highlight": "#FF0000",
    "selected_highlight": "#FFD700"
   },
   "moveMenuLeft": true,
   "nav_menu": {
    "height": "29px",
    "width": "252px"
   },
   "navigate_menu": true,
   "number_sections": true,
   "sideBar": true,
   "threshold": 4,
   "toc_cell": false,
   "toc_section_display": "block",
   "toc_window_display": false,
   "widenNotebook": false
  },
  "varInspector": {
   "cols": {
    "lenName": 16,
    "lenType": 16,
    "lenVar": 40
   },
   "kernels_config": {
    "python": {
     "delete_cmd_postfix": "",
     "delete_cmd_prefix": "del ",
     "library": "var_list.py",
     "varRefreshCmd": "print(var_dic_list())"
    },
    "r": {
     "delete_cmd_postfix": ") ",
     "delete_cmd_prefix": "rm(",
     "library": "var_list.r",
     "varRefreshCmd": "cat(var_dic_list()) "
    }
   },
   "types_to_exclude": [
    "module",
    "function",
    "builtin_function_or_method",
    "instance",
    "_Feature"
   ],
   "window_display": false
  }
 },
 "nbformat": 4,
 "nbformat_minor": 2
}
