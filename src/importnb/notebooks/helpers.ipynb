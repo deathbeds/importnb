{
 "cells": [
  {
   "cell_type": "markdown",
   "metadata": {},
   "source": [
    "# Constants to discover where a statement is executed from\n",
    "\n",
    "I hate the `__name__ == '__main__'`, it throws people off.  Like Y the F R U doing that.\n",
    "\n",
    "This notebook creates exports three objects that will tell if:\n",
    "\n",
    "* If the statement was called from a `__main__` module.\n",
    "* If the statement was called interactively.\n",
    "* If the statement was called on an imported object."
   ]
  },
  {
   "cell_type": "code",
   "execution_count": 1,
   "metadata": {},
   "outputs": [],
   "source": [
    "    __all__ = 'MAIN', 'INTERACTIVE', 'IMPORTED', 'CLI'"
   ]
  },
  {
   "cell_type": "code",
   "execution_count": 2,
   "metadata": {},
   "outputs": [],
   "source": [
    "    from inspect import currentframe, getouterframes\n",
    "    from pathlib import Path\n",
    "    from abc import ABCMeta, abstractmethod"
   ]
  },
  {
   "cell_type": "markdown",
   "metadata": {},
   "source": [
    "Get the current frame and retreive the first frame called outside of the defining class.  We are basically counting a set of known frames before the caller is found."
   ]
  },
  {
   "cell_type": "code",
   "execution_count": 3,
   "metadata": {},
   "outputs": [],
   "source": [
    "    def getframeinfo(object):\n",
    "        if __import__('sys').version_info.minor == 4:\n",
    "            return object[0]\n",
    "        return object.frame"
   ]
  },
  {
   "cell_type": "code",
   "execution_count": 4,
   "metadata": {},
   "outputs": [],
   "source": [
    "    class state(metaclass=ABCMeta):\n",
    "        \"\"\"Base class for the state objects.\"\"\"\n",
    "        \n",
    "        def __init__(self, id=0):\n",
    "            self.id = id\n",
    "        \n",
    "        def _retrieve_frames(self): return [\n",
    "            getframeinfo(object) for object in getouterframes(currentframe())]\n",
    "        \n",
    "        def _retrieve_caller_frame(self): \n",
    "            \"\"\"Frames in stack\n",
    "            \n",
    "            other calls frame calls bool calls \n",
    "            retrieve_caller_frame calls retrieve_frames \n",
    "            \"\"\"\n",
    "            (retrieve_caller, retrieve_frames, __bool__, \n",
    "             *frames) = self._retrieve_frames()\n",
    "            return frames[self.id]\n",
    "        \n",
    "        @abstractmethod\n",
    "        def format(self): raise NotImplemented()\n",
    "        \n",
    "        def __bool__(self): \n",
    "            frame = self._retrieve_caller_frame()\n",
    "            return self.format(frame)"
   ]
  },
  {
   "cell_type": "markdown",
   "metadata": {},
   "source": [
    "## Does `__name__ == '__main__'`?\n",
    "\n",
    "The most common logic circuit.  It is annoying to type, ugly to read, and must go away."
   ]
  },
  {
   "cell_type": "code",
   "execution_count": 5,
   "metadata": {},
   "outputs": [],
   "source": [
    "    class main(state):\n",
    "        \"\"\"Use MAIN to discover if a statement is invoked as a __main__ program.\n",
    "\n",
    "        replaces\n",
    "\n",
    "            __name__ == '__main__'\"\"\"\n",
    "        def format(self, frame):\n",
    "            name = frame.f_globals.get('__name__')\n",
    "            return name == '__main__'\n",
    "\n",
    "    MAIN = main()"
   ]
  },
  {
   "cell_type": "markdown",
   "metadata": {},
   "source": [
    "## Is the module being run from the command line as an application?"
   ]
  },
  {
   "cell_type": "code",
   "execution_count": 6,
   "metadata": {},
   "outputs": [],
   "source": [
    "    class cli(state):\n",
    "        \"\"\"Use CLI to discover if a statement is invoked as a __main__ program.\n",
    "\n",
    "        replaces\n",
    "\n",
    "            __name__ == '__main__' and __import__('sys').argv == __file__\n",
    "        \"\"\"\n",
    "\n",
    "        def format(self, frame):\n",
    "            name = frame.f_globals.get('__name__')\n",
    "            file = frame.f_globals.get('__file__', None)\n",
    "            return name == '__main__' and file == __import__('sys').argv[0]\n",
    "\n",
    "    CLI = cli()"
   ]
  },
  {
   "cell_type": "markdown",
   "metadata": {},
   "source": [
    "## Is the code executed by IPython or Jupyter?"
   ]
  },
  {
   "cell_type": "code",
   "execution_count": 7,
   "metadata": {},
   "outputs": [],
   "source": [
    "    class interactive(state):\n",
    "        \"\"\"Use INTERACTIVE to discover if a statement is invoked from IPython or Jupyter.\n",
    "\n",
    "        replaces\n",
    "\n",
    "            __name__ == '__main__' and globals().get('__file__', None) == None\n",
    "        \"\"\"\n",
    "        def format(self, frame):\n",
    "            name = frame.f_globals.get('__name__')\n",
    "            file = frame.f_globals.get('__file__', None)\n",
    "            return name == '__main__' and file is None\n",
    "\n",
    "    INTERACTIVE = interactive()"
   ]
  },
  {
   "cell_type": "markdown",
   "metadata": {},
   "source": [
    "## Is the module simply being imported?"
   ]
  },
  {
   "cell_type": "code",
   "execution_count": 8,
   "metadata": {},
   "outputs": [],
   "source": [
    "    class imported(state):\n",
    "        \"\"\"Use IMPORTED to discover if a statement is invoked as an imported module.\n",
    "\n",
    "        replaces: \n",
    "\n",
    "            __name__ != '__main__'\n",
    "        \"\"\"\n",
    "        def format(self, frame):\n",
    "            name = frame.f_globals.get('__name__')\n",
    "            return name != '__main__'\n",
    "\n",
    "    IMPORTED = imported()"
   ]
  },
  {
   "cell_type": "markdown",
   "metadata": {},
   "source": [
    "## Magics\n",
    "\n",
    "The magics will be called from a different frame depth.  These functions below access the proper frame.  This magic makes it possible to wrap logic around other magics.    "
   ]
  },
  {
   "cell_type": "code",
   "execution_count": 9,
   "metadata": {},
   "outputs": [],
   "source": [
    "    def _main(line, cell): main(2) and get_ipython().run_cell(cell)\n",
    "    def _cli(line, cell): cli(2) and get_ipython().run_cell(cell)\n",
    "    def _interactive(line, cell): interactive(2) and get_ipython().run_cell(cell)\n",
    "    def _imported(line, cell): imported(2) and get_ipython().run_cell(cell)"
   ]
  },
  {
   "cell_type": "code",
   "execution_count": 10,
   "metadata": {},
   "outputs": [],
   "source": [
    "    def load_ipython_extension(ip=None):\n",
    "        if ip:\n",
    "            for object in (_main, _cli, _interactive, _imported): ip.register_magic_function(\n",
    "                object, 'cell', object.__name__.rsplit('.', 1)[-1].lstrip('_').upper())"
   ]
  },
  {
   "cell_type": "markdown",
   "metadata": {},
   "source": [
    "# Developer"
   ]
  },
  {
   "cell_type": "code",
   "execution_count": 11,
   "metadata": {},
   "outputs": [],
   "source": [
    "    def test_imported():\n",
    "        assert IMPORTED, \"the logic is borked.\"\n",
    "        assert not any((MAIN, INTERACTIVE, CLI))"
   ]
  },
  {
   "cell_type": "code",
   "execution_count": 12,
   "metadata": {},
   "outputs": [
    {
     "name": "stdout",
     "output_type": "stream",
     "text": [
      "============================= test session starts =============================\n",
      "platform win32 -- Python 3.6.5, pytest-3.5.1, py-1.5.3, pluggy-0.6.0 -- C:\\Anaconda3\\python.exe\n",
      "cachedir: ..\\..\\..\\.pytest_cache\n",
      "rootdir: C:\\Users\\deathbeds\\importnb, inifile: tox.ini\n",
      "plugins: testmon-0.9.12, remotedata-0.2.1, openfiles-0.3.0, doctestplus-0.1.3, arraydiff-0.2, hypothesis-3.66.16, importnb-0.4.1\n",
      "collecting ... collected 1 item\n",
      "\n",
      "helpers.ipynb::test_imported PASSED\n",
      "\n",
      "========================== 1 passed in 0.76 seconds ===========================\n"
     ]
    }
   ],
   "source": [
    "    if INTERACTIVE:\n",
    "        __import__('pytest').main(\"-s helpers.ipynb\".split())"
   ]
  },
  {
   "cell_type": "code",
   "execution_count": 13,
   "metadata": {},
   "outputs": [],
   "source": [
    "    if MAIN:\n",
    "        from importnb.utils.export import export\n",
    "        export('helpers.ipynb', '../helpers.py')"
   ]
  },
  {
   "cell_type": "code",
   "execution_count": null,
   "metadata": {},
   "outputs": [],
   "source": []
  }
 ],
 "metadata": {
  "kernelspec": {
   "display_name": "Python 3",
   "language": "python",
   "name": "python3"
  },
  "language_info": {
   "codemirror_mode": {
    "name": "ipython",
    "version": 3
   },
   "file_extension": ".py",
   "mimetype": "text/x-python",
   "name": "python",
   "nbconvert_exporter": "python",
   "pygments_lexer": "ipython3",
   "version": "3.6.5"
  }
 },
 "nbformat": 4,
 "nbformat_minor": 2
}
