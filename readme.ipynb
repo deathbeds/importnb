{
 "cells": [
  {
   "cell_type": "markdown",
   "metadata": {},
   "source": [
    "__importnb__ supports the ability to use Jupyter notebooks as python source.\n",
    "\n",
    "[![Binder](https://mybinder.org/badge.svg)](https://mybinder.org/v2/gh/deathbeds/importnb/master?urlpath=lab/tree/readme.ipynb)[![Build Status](https://travis-ci.org/deathbeds/importnb.svg?branch=master)](https://travis-ci.org/deathbeds/importnb)\n",
    "\n",
    "    pip install importnb"
   ]
  },
  {
   "cell_type": "markdown",
   "metadata": {},
   "source": [
    "## Jupyter Extension"
   ]
  },
  {
   "cell_type": "code",
   "execution_count": 1,
   "metadata": {},
   "outputs": [],
   "source": [
    "    %reload_ext importnb\n",
    "    foo = 42\n",
    "    import readme\n",
    "    assert readme.foo is 42\n",
    "    assert readme.__file__.endswith('.ipynb')"
   ]
  },
  {
   "cell_type": "markdown",
   "metadata": {},
   "source": [
    "Notebooks maybe reloaded with the standard Python Import machinery."
   ]
  },
  {
   "cell_type": "code",
   "execution_count": 2,
   "metadata": {},
   "outputs": [],
   "source": [
    "    from importnb import Notebook, reload\n",
    "    \n",
    "    if __name__ == '__main__':\n",
    "        %reload_ext importnb\n",
    "        reload(readme)"
   ]
  },
  {
   "cell_type": "code",
   "execution_count": 3,
   "metadata": {},
   "outputs": [],
   "source": [
    "    %%capture\n",
    "    %unload_ext importnb"
   ]
  },
  {
   "cell_type": "markdown",
   "metadata": {},
   "source": [
    "## Context Manager"
   ]
  },
  {
   "cell_type": "code",
   "execution_count": 4,
   "metadata": {},
   "outputs": [],
   "source": [
    "    try:  \n",
    "        reload(readme)\n",
    "        assert False, \"\"\"Reload will not work without the extension.\"\"\"\n",
    "    except: ...\n",
    "    with Notebook(): \n",
    "        reload(readme)"
   ]
  },
  {
   "cell_type": "markdown",
   "metadata": {},
   "source": [
    "## Integrations\n",
    "\n",
    "`importnb` integrates with IPython, py.test, and setuptools.\n"
   ]
  },
  {
   "cell_type": "markdown",
   "metadata": {},
   "source": [
    "### IPython\n",
    "\n",
    "`importnb` may allow notebooks to import by default with \n",
    "\n",
    "    %load_ext importnb.utils.ipython\n",
    "    \n",
    "This extension will install a script into the default IPython profile startup that is called each time an IPython session is created.  \n",
    "\n",
    "#### Command\n",
    "\n",
    "After the `importnb` extension is created notebooks can be execute from the command line.\n",
    "\n",
    "    ipython -m readme\n",
    "\n",
    "### Unloading the Extension\n",
    "\n",
    "The default settings may be discarded temporarily with\n",
    "\n",
    "    %unload_ext importnb\n",
    "    "
   ]
  },
  {
   "cell_type": "markdown",
   "metadata": {},
   "source": [
    "### py.test\n",
    "\n",
    "`importnb` installs a pytest plugin when it is setup.  Any notebook obeying the py.test discovery conventions can be used in to pytest.  _This is great because notebooks are generally your first test._"
   ]
  },
  {
   "cell_type": "markdown",
   "metadata": {},
   "source": [
    "### Setuptools\n",
    "\n",
    "`importnb` provides a setuptool command that will place notebooks in a source distribution.  In setuptools, update the command classs with\n",
    "\n",
    "    from importnb.utils.setup import build_ipynb\n",
    "    setup(\n",
    "        ...,\n",
    "        cmdclass=dict(build_py=build_ipynb)\n",
    "        ...,)"
   ]
  },
  {
   "cell_type": "markdown",
   "metadata": {},
   "source": [
    "## Developer"
   ]
  },
  {
   "cell_type": "code",
   "execution_count": 5,
   "metadata": {},
   "outputs": [
    {
     "name": "stderr",
     "output_type": "stream",
     "text": [
      "..xx...s\n",
      "----------------------------------------------------------------------\n",
      "Ran 8 tests in 2.023s\n",
      "\n",
      "OK (skipped=1, expected failures=2)\n"
     ]
    }
   ],
   "source": [
    "    if __name__ == '__main__':\n",
    "        from pathlib import Path\n",
    "        import black\n",
    "        from nbconvert.exporters.markdown import MarkdownExporter\n",
    "        from importnb.compiler_python import ScriptExporter\n",
    "        for path in Path('src/notebooks/').rglob(\"*-[!'checkpoint'].ipynb\"):\n",
    "            (Path('src/importnb') / path.with_suffix('.py')).write_text(\n",
    "                black.format_str(ScriptExporter().from_filename(path)[0], 100))\n",
    "        for path in map(Path, ('readme.ipynb', 'changelog.ipynb')):\n",
    "            path.with_suffix('.md').write_text(MarkdownExporter().from_filename(path)[0])\n",
    "\n",
    "        __import__('unittest').main(module='tests', argv=\"discover\".split(), exit=False)\n"
   ]
  },
  {
   "cell_type": "code",
   "execution_count": null,
   "metadata": {},
   "outputs": [],
   "source": []
  }
 ],
 "metadata": {
  "kernelspec": {
   "display_name": "p6",
   "language": "python",
   "name": "other-env"
  },
  "language_info": {
   "codemirror_mode": {
    "name": "ipython",
    "version": 3
   },
   "file_extension": ".py",
   "mimetype": "text/x-python",
   "name": "python",
   "nbconvert_exporter": "python",
   "pygments_lexer": "ipython3",
   "version": "3.6.3"
  }
 },
 "nbformat": 4,
 "nbformat_minor": 2
}
