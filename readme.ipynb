{
 "cells": [
  {
   "cell_type": "markdown",
   "metadata": {},
   "source": [
    "__importnb__ imports notebooks as modules & packages.\n",
    "\n",
    "[![Binder](https://mybinder.org/badge.svg)](https://mybinder.org/v2/gh/deathbeds/importnb/master?urlpath=lab/tree/readme.ipynb)[![Build Status](https://travis-ci.org/deathbeds/importnb.svg?branch=master)](https://travis-ci.org/deathbeds/importnb)[![PyPI version](https://badge.fury.io/py/importnb.svg)](https://badge.fury.io/py/importnb)![PyPI - Python Version](https://img.shields.io/pypi/pyversions/importnb.svg)![PyPI - Format](https://img.shields.io/pypi/format/importnb.svg)![PyPI - Format](https://img.shields.io/pypi/l/importnb.svg)\n",
    "\n",
    "\n",
    "\n",
    "    pip install importnb"
   ]
  },
  {
   "cell_type": "markdown",
   "metadata": {},
   "source": [
    "# `importnb` works in Python and IPython\n",
    "\n",
    "Use the `Notebook` context manager."
   ]
  },
  {
   "cell_type": "markdown",
   "metadata": {},
   "source": [
    "### For brevity"
   ]
  },
  {
   "cell_type": "code",
   "execution_count": 1,
   "metadata": {},
   "outputs": [],
   "source": [
    "    with __import__('importnb').Notebook(): \n",
    "        import readme"
   ]
  },
  {
   "cell_type": "markdown",
   "metadata": {},
   "source": [
    "#### or explicity "
   ]
  },
  {
   "cell_type": "code",
   "execution_count": 2,
   "metadata": {},
   "outputs": [],
   "source": [
    "    from importnb import Notebook\n",
    "    with Notebook(): \n",
    "        import readme"
   ]
  },
  {
   "cell_type": "code",
   "execution_count": 3,
   "metadata": {},
   "outputs": [],
   "source": [
    "    foo = 42\n",
    "    import readme\n",
    "    assert readme.foo is 42\n",
    "    assert readme.__file__.endswith('.ipynb')"
   ]
  },
  {
   "cell_type": "markdown",
   "metadata": {},
   "source": [
    "### Modules may be reloaded \n",
    "\n",
    "The context manager is required to `reload` a module."
   ]
  },
  {
   "cell_type": "code",
   "execution_count": 4,
   "metadata": {},
   "outputs": [],
   "source": [
    "    from importlib import reload\n",
    "    with Notebook():\n",
    "        reload(readme)"
   ]
  },
  {
   "cell_type": "markdown",
   "metadata": {},
   "source": [
    "## Integrations\n"
   ]
  },
  {
   "cell_type": "markdown",
   "metadata": {},
   "source": [
    "### IPython\n",
    "\n",
    "#### Extension\n",
    "\n",
    "Avoid the use of the context manager using loading importnb as IPython extension.\n",
    "\n",
    "    %load_ext importnb\n",
    "    \n",
    "`%unload_ext importnb` will unload the extension.\n",
    "\n",
    "#### Default Extension\n",
    "\n",
    "`importnb` may allow notebooks to import by default with \n",
    "\n",
    "    importnb-install\n",
    "    \n",
    "This extension will install a script into the default IPython profile startup that is called each time an IPython session is created.  \n",
    "\n",
    "Uninstall the extension with `importnb-install`.\n",
    "\n",
    "##### Run a notebook as a module\n",
    "\n",
    "When the default extension is loaded any notebook can be run from the command line. After the `importnb` extension is created notebooks can be execute from the command line.\n",
    "\n",
    "    ipython -m readme\n",
    "    \n",
    "> See the [deploy step in the travis build](https://github.com/deathbeds/importnb/blob/docs/.travis.yml#L19)."
   ]
  },
  {
   "cell_type": "markdown",
   "metadata": {},
   "source": [
    "### py.test\n",
    "\n",
    "`importnb` installs a pytest plugin when it is setup.  Any notebook obeying the py.test discovery conventions can be used in to pytest.  _This is great because notebooks are generally your first test._"
   ]
  },
  {
   "cell_type": "markdown",
   "metadata": {},
   "source": [
    "### Setuptools\n",
    "\n",
    "`importnb` provides a setuptool command that will place notebooks in a source distribution.  In setuptools, update the command classs with\n",
    "\n",
    "    from importnb.utils.setup import build_ipynb\n",
    "    setup(\n",
    "        ...,\n",
    "        cmdclass=dict(build_py=build_ipynb)\n",
    "        ...,)"
   ]
  },
  {
   "cell_type": "markdown",
   "metadata": {},
   "source": [
    "### [Watchdog](https://github.com/gorakhargosh/watchdog/tree/master/src/watchdog/tricks)\n",
    "\n",
    "`importnb` exports a watchdog trick to watch files and apply command like operations on their module path.\n",
    "\n",
    "#### Tricks File\n",
    "\n",
    "For example, create a file called `tricks.yaml` containing\n",
    "\n",
    "    tricks:\n",
    "    - importnb.utils.watch.ModuleTrick:\n",
    "          patterns: ['*.ipynb']\n",
    "          shell_command: ipython -m ${watch_dest_path}\n",
    "      \n",
    "#### Run the watcher in a terminal\n",
    "\n",
    "    watchmedo tricks tricks.yaml\n",
    "      \n",
    "> [`tricks.yaml`](tricks.yaml) is a concrete implementation of `tricks.yaml`"
   ]
  },
  {
   "cell_type": "markdown",
   "metadata": {},
   "source": [
    "## Developer"
   ]
  },
  {
   "cell_type": "markdown",
   "metadata": {},
   "source": [
    "* [Tests](tests/test_importnb.ipynb)\n",
    "* [Source Notebooks](src/notebooks/)\n",
    "* [Transpiled Python Source](src/importnb/)"
   ]
  },
  {
   "cell_type": "markdown",
   "metadata": {},
   "source": [
    "### Format and test the Source Code"
   ]
  },
  {
   "cell_type": "code",
   "execution_count": 5,
   "metadata": {},
   "outputs": [
    {
     "name": "stdout",
     "output_type": "stream",
     "text": [
      "src/notebooks/compiler_ipython.ipynb\n",
      "src/notebooks/compiler_python.ipynb\n",
      "src/notebooks/decoder.ipynb\n",
      "src/notebooks/exporter.ipynb\n",
      "src/notebooks/loader.ipynb\n",
      "src/notebooks/utils/__init__.ipynb\n",
      "src/notebooks/utils/ipython.ipynb\n",
      "src/notebooks/utils/pytest_plugin.ipynb\n",
      "src/notebooks/utils/setup.ipynb\n",
      "src/notebooks/utils/watch.ipynb\n"
     ]
    },
    {
     "name": "stderr",
     "output_type": "stream",
     "text": [
      "test_import (tests.test_unittests.TestContext) ... ok\n",
      "test_reload_with_context (tests.test_unittests.TestContext) ... ok\n",
      "test_reload_without_context (tests.test_unittests.TestContext) ... skipped 'importnb is probably installed'\n",
      "test_failure (tests.test_unittests.TestExtension) ... expected failure\n",
      "test_import (tests.test_unittests.TestExtension) ... ok\n",
      "test_exception (tests.test_unittests.TestPartial) ... ok\n",
      "test_traceback (tests.test_unittests.TestPartial) ... ok\n",
      "test_imports (tests.test_unittests.TestRemote) ... skipped 'requires IP'\n",
      "\n",
      "----------------------------------------------------------------------\n",
      "Ran 8 tests in 2.023s\n",
      "\n",
      "OK (skipped=2, expected failures=1)\n"
     ]
    }
   ],
   "source": [
    "    if __name__ == '__main__':\n",
    "        from pathlib import Path\n",
    "        import black\n",
    "        from importnb.compiler_python import ScriptExporter\n",
    "        for path in Path('src/notebooks/').rglob(\"\"\"*.ipynb\"\"\"):\n",
    "            if 'checkpoint' not in str(path):\n",
    "                print(path)\n",
    "                (Path('src/importnb') / path.with_suffix('.py').relative_to('src/notebooks')).write_text(\n",
    "                black.format_str(ScriptExporter().from_filename(path)[0], 100))\n",
    "            \n",
    "        __import__('unittest').main(module='tests', argv=\"discover --verbose\".split(), exit=False) \n"
   ]
  },
  {
   "cell_type": "markdown",
   "metadata": {},
   "source": [
    "### Format the Github markdown files"
   ]
  },
  {
   "cell_type": "code",
   "execution_count": 6,
   "metadata": {},
   "outputs": [],
   "source": [
    "    if __name__ == '__main__':\n",
    "        from nbconvert.exporters.markdown import MarkdownExporter\n",
    "        for path in map(Path, ('readme.ipynb', 'changelog.ipynb')):\n",
    "            path.with_suffix('.md').write_text(MarkdownExporter().from_filename(path)[0])"
   ]
  },
  {
   "cell_type": "markdown",
   "metadata": {},
   "source": [
    "### Format the Github Pages documentation\n",
    "\n",
    "We use `/docs` as the `local_dir`."
   ]
  },
  {
   "cell_type": "code",
   "execution_count": 7,
   "metadata": {},
   "outputs": [],
   "source": [
    "    if __name__ == '__main__':\n",
    "        from nbconvert.exporters.markdown import MarkdownExporter\n",
    "        files = 'readme.ipynb', 'changelog.ipynb', 'tests/test_importnb.ipynb'\n",
    "        for doc in map(Path, files):\n",
    "            to = ('docs' / doc.with_suffix('.md'))\n",
    "            to.parent.mkdir(exist_ok=True)\n",
    "            to.write_text(MarkdownExporter().from_filename(doc)[0])"
   ]
  },
  {
   "cell_type": "code",
   "execution_count": null,
   "metadata": {},
   "outputs": [],
   "source": []
  }
 ],
 "metadata": {
  "kernelspec": {
   "display_name": "p6",
   "language": "python",
   "name": "other-env"
  },
  "language_info": {
   "codemirror_mode": {
    "name": "ipython",
    "version": 3
   },
   "file_extension": ".py",
   "mimetype": "text/x-python",
   "name": "python",
   "nbconvert_exporter": "python",
   "pygments_lexer": "ipython3",
   "version": "3.6.3"
  }
 },
 "nbformat": 4,
 "nbformat_minor": 2
}
