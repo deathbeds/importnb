{
 "cells": [
  {
   "cell_type": "markdown",
   "metadata": {},
   "source": [
    "__importnb__ imports notebooks as modules.  Notebooks are reusable as tests, source code, importable modules, and command line utilities.\n",
    "\n",
    "[![Binder](https://mybinder.org/badge.svg)](https://mybinder.org/v2/gh/deathbeds/importnb/master?urlpath=lab/tree/readme.ipynb)[![Build Status](https://travis-ci.org/deathbeds/importnb.svg?branch=master)](https://travis-ci.org/deathbeds/importnb)[![PyPI version](https://badge.fury.io/py/importnb.svg)](https://badge.fury.io/py/importnb)![PyPI - Python Version](https://img.shields.io/pypi/pyversions/importnb.svg)![PyPI - Format](https://img.shields.io/pypi/format/importnb.svg)![PyPI - Format](https://img.shields.io/pypi/l/importnb.svg)[\n",
    "![Conda](https://img.shields.io/conda/pn/conda-forge/importnb.svg)](https://anaconda.org/conda-forge/importnb)[\n",
    "![GitHub tag](https://img.shields.io/github/tag/deathbeds/importnb.svg)](https://github.com/deathbeds/importnb/tree/master/src/importnb)\n",
    "\n",
    "##### Installation\n",
    "\n",
    "    pip install importnb\n",
    "    \n",
    "---\n",
    "\n",
    "    conda install -c conda-forge importnb"
   ]
  },
  {
   "cell_type": "markdown",
   "metadata": {},
   "source": [
    "---\n",
    "\n",
    "# `importnb` for testing\n",
    "\n",
    "After `importnb` is installed, [pytest](https://pytest.readthedocs.io/) will discover and import notebooks as tests.\n",
    "\n",
    "    pytest readme.ipynb\n",
    "\n",
    "[`importnb`]() imports notebooks as python modules, it does not compare outputs like [`nbval`]()"
   ]
  },
  {
   "cell_type": "markdown",
   "metadata": {},
   "source": [
    "`importnb` can run unittests and doctests against notebook modules. \n",
    "\n",
    "    ipython -m importnb.test readme\n",
    "    \n",
    "> `importnb` interprets the first markdown cell as a docstring.  This is a nice place to put [doctests](https://docs.python.org/3/library/doctest.html) to improve the reusability of a notebook."
   ]
  },
  {
   "cell_type": "markdown",
   "metadata": {},
   "source": [
    "> Notebooks are often used as informal tests, now they can be formally tested with [pytest plugins](https://docs.pytest.org/en/latest/plugins.html)\n",
    "\n"
   ]
  },
  {
   "cell_type": "markdown",
   "metadata": {},
   "source": [
    "---\n",
    "\n",
    "# `importnb` for the commmand line\n",
    "\n",
    "`importnb` can run notebooks as command line scripts.  Any literal variable in the notebook, may be applied as a parameter from the command line.\n",
    "\n",
    "    ipython -m importnb -- readme.ipynb --foo \"A new value\""
   ]
  },
  {
   "cell_type": "markdown",
   "metadata": {},
   "source": [
    "---\n",
    "\n",
    "# `importnb` for Python and IPython\n",
    "\n",
    "\n",
    "It is suggested to execute `importnb-install` to make sure that notebooks for each IPython session.\n",
    "\n",
    "> Restart and run all or it didn't happen.\n",
    "\n",
    "`importnb` excels in an interactive environment and if a notebook will __Restart and Run All__ then it may reused as python code. The `Notebook` context manager will allow notebooks _with valid names_ to import with Python.\n",
    "\n",
    "    >>> from importnb import Notebook"
   ]
  },
  {
   "cell_type": "markdown",
   "metadata": {},
   "source": [
    "### For brevity"
   ]
  },
  {
   "cell_type": "code",
   "execution_count": 1,
   "metadata": {},
   "outputs": [],
   "source": [
    "    with __import__('importnb').Notebook(): \n",
    "        import readme"
   ]
  },
  {
   "cell_type": "markdown",
   "metadata": {},
   "source": [
    "> [`importnb.loader`](src/notebooks/loader.ipynb) will find notebooks available anywhere along the [`sys.path`](https://docs.python.org/2/library/sys.html#sys.path)."
   ]
  },
  {
   "cell_type": "markdown",
   "metadata": {},
   "source": [
    "#### or explicity "
   ]
  },
  {
   "cell_type": "code",
   "execution_count": 2,
   "metadata": {},
   "outputs": [],
   "source": [
    "    from importnb import Notebook\n",
    "    with Notebook(): \n",
    "        import readme"
   ]
  },
  {
   "cell_type": "code",
   "execution_count": 3,
   "metadata": {},
   "outputs": [],
   "source": [
    "    foo = 42\n",
    "    import readme\n",
    "    assert readme.foo is 42\n",
    "    assert readme.__file__.endswith('.ipynb')"
   ]
  },
  {
   "cell_type": "markdown",
   "metadata": {},
   "source": [
    "### Modules may be reloaded \n",
    "\n",
    "The context manager is required to `reload` a module."
   ]
  },
  {
   "cell_type": "code",
   "execution_count": 4,
   "metadata": {},
   "outputs": [],
   "source": [
    "    from importlib import reload\n",
    "    with Notebook(): __name__ == '__main__' and reload(readme)"
   ]
  },
  {
   "cell_type": "markdown",
   "metadata": {},
   "source": [
    "### Lazy imports\n",
    "\n",
    "The `lazy` option will delay the evaluation of a module until one of its attributes are accessed the first time."
   ]
  },
  {
   "cell_type": "code",
   "execution_count": 5,
   "metadata": {},
   "outputs": [],
   "source": [
    "    with Notebook(_lazy=True):\n",
    "        import readme"
   ]
  },
  {
   "cell_type": "markdown",
   "metadata": {},
   "source": [
    "### Fuzzy File Names"
   ]
  },
  {
   "cell_type": "code",
   "execution_count": 6,
   "metadata": {},
   "outputs": [],
   "source": [
    "    if __name__ == '__main__':\n",
    "        with Notebook():\n",
    "            import __a_me\n",
    "            \n",
    "        assert __a_me.__file__ == readme.__file__"
   ]
  },
  {
   "cell_type": "markdown",
   "metadata": {},
   "source": [
    "Python does not provide a way to import file names starting with numbers of contains special characters.  `importnb` installs a fuzzy import logic to import files containing these edge cases.\n",
    "\n",
    "    import __2018__6_01_A_Blog_Post\n",
    "    \n",
    "will find the first file matching `*2018*6?01?A?Blog?Post`.  Importing `Untitled314519.ipynb` could be supported with the query below.\n",
    "\n",
    "    import __314519"
   ]
  },
  {
   "cell_type": "markdown",
   "metadata": {},
   "source": [
    "### Docstring\n",
    "\n",
    "The first markdown cell will become the module docstring."
   ]
  },
  {
   "cell_type": "code",
   "execution_count": 7,
   "metadata": {},
   "outputs": [
    {
     "name": "stdout",
     "output_type": "stream",
     "text": [
      "__importnb__ imports notebooks as modules.  Notebooks are reusable as tests, source code, importable modules, and command line utilities.\n"
     ]
    }
   ],
   "source": [
    "    if __name__ == '__main__':\n",
    "        print(readme.__doc__.splitlines()[0])"
   ]
  },
  {
   "cell_type": "markdown",
   "metadata": {},
   "source": [
    "Meaning non-code blocks can be executeb by [doctest]()."
   ]
  },
  {
   "cell_type": "code",
   "execution_count": 10,
   "metadata": {},
   "outputs": [],
   "source": [
    "    if __name__ == '__main__':\n",
    "        __import__('doctest').testmod(readme)"
   ]
  },
  {
   "cell_type": "markdown",
   "metadata": {},
   "source": [
    "# Import notebooks from files\n",
    "\n",
    "Notebook names may not be valid Python paths.  In this case, use `Notebook.from_filename`.\n",
    "\n",
    "       Notebook.from_filename('readme.ipynb')\n",
    "       \n",
    "Import under the `__main__` context.\n",
    "       \n",
    "       Notebook('__main__').from_filename('readme.ipynb')"
   ]
  },
  {
   "cell_type": "markdown",
   "metadata": {},
   "source": [
    "# Parameterize Notebooks\n",
    "\n",
    "Literal ast statements are converted to notebooks parameters.\n",
    "\n",
    "In `readme`, `foo` is a parameter because it may be evaluated with ast.literal_val"
   ]
  },
  {
   "cell_type": "code",
   "execution_count": 11,
   "metadata": {},
   "outputs": [],
   "source": [
    "    if __name__ == '__main__':\n",
    "        from importnb import Parameterize\n",
    "        f = Parameterize.load(readme.__file__)"
   ]
  },
  {
   "cell_type": "markdown",
   "metadata": {},
   "source": [
    "The parameterized module is a callable that evaluates with different literal statements."
   ]
  },
  {
   "cell_type": "code",
   "execution_count": 12,
   "metadata": {},
   "outputs": [],
   "source": [
    "    if __name__ == '__main__': \n",
    "        assert callable(f)\n",
    "        f.__signature__"
   ]
  },
  {
   "cell_type": "markdown",
   "metadata": {},
   "source": [
    "    assert f().foo == 42\n",
    "    assert f(foo='importnb').foo == 'importnb'"
   ]
  },
  {
   "cell_type": "markdown",
   "metadata": {},
   "source": [
    "# Run Notebooks from the command line\n",
    "\n",
    "Run any notebook from the command line with importnb.  Any parameterized expressions are available as parameters on the command line.\n",
    "\n",
    "    "
   ]
  },
  {
   "cell_type": "markdown",
   "metadata": {},
   "source": [
    "    !ipython -m importnb -- readme.ipynb --foo \"The new value\""
   ]
  },
  {
   "cell_type": "markdown",
   "metadata": {},
   "source": [
    "## Integrations\n"
   ]
  },
  {
   "cell_type": "markdown",
   "metadata": {},
   "source": [
    "### IPython\n",
    "\n",
    "#### [IPython Extension](src/notebooks/loader.ipynb#IPython-Extensions)\n",
    "\n",
    "Avoid the use of the context manager using loading importnb as IPython extension.\n",
    "\n",
    "    %load_ext importnb\n",
    "    \n",
    "`%unload_ext importnb` will unload the extension.\n",
    "\n",
    "#### Default Extension\n",
    "\n",
    "`importnb` may allow notebooks to import by default with "
   ]
  },
  {
   "cell_type": "markdown",
   "metadata": {},
   "source": [
    "    !importnb-install\n",
    "    "
   ]
  },
  {
   "cell_type": "markdown",
   "metadata": {},
   "source": [
    "> If you'd like to play with source code on binder then you must execute the command above.  Toggle the markdown cell to a code cell and run it."
   ]
  },
  {
   "cell_type": "markdown",
   "metadata": {},
   "source": [
    "This extension will install a script into the default IPython profile startup that is called each time an IPython session is created.  \n",
    "\n",
    "Uninstall the extension with `importnb-install`.\n",
    "\n",
    "##### Run a notebook as a module\n",
    "\n",
    "When the default extension is loaded any notebook can be run from the command line. After the `importnb` extension is created notebooks can be execute from the command line.\n",
    "\n",
    "    ipython -m readme\n",
    "    \n",
    "In the command line context, `__file__ == sys.arv[0] and __name__ == '__main__'` .\n",
    "    \n",
    "> See the [deploy step in the travis build](https://github.com/deathbeds/importnb/blob/docs/.travis.yml#L19).\n",
    "\n",
    "##### Parameterizable IPython commands\n",
    "\n",
    "Installing the IPython extension allows notebooks to be computed from the command.  The notebooks are parameterizable from the command line.\n",
    "\n",
    "    ipython -m readme -- --help"
   ]
  },
  {
   "cell_type": "markdown",
   "metadata": {},
   "source": [
    "### py.test\n",
    "\n",
    "`importnb` installs a pytest plugin when it is setup.  Any notebook obeying the py.test discovery conventions can be used in to pytest.  _This is great because notebooks are generally your first test._\n",
    "\n",
    "    !ipython -m pytest -- src \n",
    "    \n",
    "Will find all the test notebooks and configurations as pytest would any Python file."
   ]
  },
  {
   "cell_type": "markdown",
   "metadata": {},
   "source": [
    "### Setup\n",
    "\n",
    "To package notebooks add `recursive-include package_name *.ipynb`"
   ]
  },
  {
   "cell_type": "markdown",
   "metadata": {},
   "source": [
    "## Developer"
   ]
  },
  {
   "cell_type": "markdown",
   "metadata": {},
   "source": [
    "* [Source Notebooks](src/notebooks/)\n",
    "* [Transpiled Python Source](src/importnb/)\n",
    "* [Tests](src/importnb/tests)"
   ]
  },
  {
   "cell_type": "markdown",
   "metadata": {},
   "source": [
    "### Format and test the Source Code"
   ]
  },
  {
   "cell_type": "code",
   "execution_count": 8,
   "metadata": {},
   "outputs": [
    {
     "name": "stdout",
     "output_type": "stream",
     "text": [
      "============================= test session starts =============================\n",
      "platform win32 -- Python 3.6.5, pytest-3.5.1, py-1.5.3, pluggy-0.6.0 -- C:\\Anaconda3\\python.exe\n",
      "cachedir: .pytest_cache\n",
      "rootdir: C:\\Users\\deathbeds\\importnb, inifile: tox.ini\n",
      "plugins: testmon-0.9.12, remotedata-0.2.1, openfiles-0.3.0, localserver-0.4.1, doctestplus-0.1.3, arraydiff-0.2, hypothesis-3.66.16, importnb-0.5.0\n",
      "collecting ... collected 24 items\n",
      "\n",
      "src/importnb/completer.py::importnb.completer PASSED                     [  4%]\n",
      "src/importnb/foobar.py::importnb.foobar PASSED                           [  8%]\n",
      "src/importnb/loader.py::importnb.loader PASSED                           [ 12%]\n",
      "src/importnb/loader.py::importnb.loader.FinderContextManager PASSED      [ 16%]\n",
      "src/importnb/loader.py::importnb.loader.NotebookBaseLoader PASSED        [ 20%]\n",
      "src/importnb/utils/export.py::importnb.utils.export PASSED               [ 25%]\n",
      "src/importnb/utils/relative.py::importnb.utils.relative PASSED           [ 29%]\n",
      "tests/test_importnb.ipynb::test_basic PASSED                             [ 33%]\n",
      "tests/test_importnb.ipynb::test_package PASSED                           [ 37%]\n",
      "tests/test_importnb.ipynb::test_reload PASSED                            [ 41%]\n",
      "tests/test_importnb.ipynb::test_docstrings PASSED                        [ 45%]\n",
      "tests/test_importnb.ipynb::test_docstring_opts PASSED                    [ 50%]\n",
      "tests/test_importnb.ipynb::test_from_file PASSED                         [ 54%]\n",
      "tests/test_importnb.ipynb::test_lazy PASSED                              [ 58%]\n",
      "tests/test_importnb.ipynb::test_module_source PASSED                     [ 62%]\n",
      "tests/test_importnb.ipynb::test_object_source PASSED                     [ 66%]\n",
      "tests/test_importnb.ipynb::test_with_shell PASSED                        [ 70%]\n",
      "tests/test_importnb.ipynb::test_python_file PASSED                       [ 75%]\n",
      "tests/test_importnb.ipynb::test_cli PASSED                               [ 79%]\n",
      "tests/test_importnb.ipynb::test_parameterize PASSED                      [ 83%]\n",
      "tests/test_importnb.ipynb::test_minified_json PASSED                     [ 87%]\n",
      "tests/test_importnb.ipynb::test_fuzzy_finder PASSED                      [ 91%]\n",
      "tests/test_importnb.ipynb::test_remote PASSED                            [ 95%]\n",
      "tests/test_importnb.ipynb::test_helpers PASSED                           [100%]\n",
      "\n",
      "========================= 24 passed in 11.09 seconds ==========================\n"
     ]
    }
   ],
   "source": [
    "    if __name__ == '__main__':\n",
    "        if globals().get('__file__', None) == __import__('sys').argv[0]:\n",
    "            print(foo, __import__('sys').argv)\n",
    "        else:\n",
    "            from subprocess import call\n",
    "            !ipython -m pytest\n",
    "            \"\"\"Formatting\"\"\"\n",
    "            from pathlib import Path\n",
    "            from importnb.utils.export import export\n",
    "            root = 'src/importnb/notebooks/'\n",
    "            for path in Path(root).rglob(\"\"\"*.ipynb\"\"\"):                \n",
    "                if 'checkpoint' not in str(path):\n",
    "                    export(path, Path('src/importnb') / path.with_suffix('.py').relative_to(root))\n",
    "            call(\"jupyter nbconvert --to markdown --NbConvertApp.output_files_dir=docs/{notebook_name}_files readme.ipynb\".split())\n",
    "            "
   ]
  },
  {
   "cell_type": "code",
   "execution_count": 7,
   "metadata": {},
   "outputs": [
    {
     "data": {
      "text/html": [
       "<img src=\"docs/classes_importnb.png\"/>"
      ],
      "text/plain": [
       "<IPython.core.display.Image object>"
      ]
     },
     "metadata": {},
     "output_type": "display_data"
    }
   ],
   "source": [
    "    if __name__ == '__main__':\n",
    "        try:\n",
    "            from IPython.display import display, Image\n",
    "            from IPython.utils.capture import capture_output\n",
    "            from IPython import get_ipython\n",
    "            with capture_output(): \n",
    "                get_ipython().system(\"cd docs && pyreverse importnb -opng -pimportnb\")\n",
    "            display(Image(url='docs/classes_importnb.png', ))\n",
    "        except: ..."
   ]
  },
  {
   "cell_type": "code",
   "execution_count": null,
   "metadata": {},
   "outputs": [],
   "source": []
  }
 ],
 "metadata": {
  "kernelspec": {
   "display_name": "Python 3",
   "language": "python",
   "name": "python3"
  },
  "language_info": {
   "codemirror_mode": {
    "name": "ipython",
    "version": 3
   },
   "file_extension": ".py",
   "mimetype": "text/x-python",
   "name": "python",
   "nbconvert_exporter": "python",
   "pygments_lexer": "ipython3",
   "version": "3.6.5"
  }
 },
 "nbformat": 4,
 "nbformat_minor": 2
}
