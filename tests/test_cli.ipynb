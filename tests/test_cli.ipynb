{
 "cells": [
  {
   "cell_type": "markdown",
   "id": "ec3fe240-a963-4631-94a7-1140f2bf6345",
   "metadata": {},
   "source": [
    "# the `importnb` command line interface."
   ]
  },
  {
   "cell_type": "code",
   "execution_count": 1,
   "id": "867a33e9-340f-4e75-a7ca-25bd92686c17",
   "metadata": {},
   "outputs": [],
   "source": [
    "    def get_ipython(shells={}):\n",
    "        from IPython import InteractiveShell\n",
    "        try:\n",
    "            return shells[None]\n",
    "        except KeyError:\n",
    "            return shells.setdefault(None, InteractiveShell())"
   ]
  },
  {
   "cell_type": "markdown",
   "id": "4268df95-4a9f-439e-bd3e-a54afceeed91",
   "metadata": {},
   "source": [
    "no arguments displays the help commands."
   ]
  },
  {
   "cell_type": "code",
   "execution_count": 2,
   "id": "7e068207-abe4-476e-9cd9-f2e59df50c03",
   "metadata": {},
   "outputs": [
    {
     "name": "stdout",
     "output_type": "stream",
     "text": [
      "usage: a command line interface for executing notebooks as scripts.\n",
      "\n",
      "positional arguments:\n",
      "  {install,uninstall,run}\n",
      "    install             install the importnb extension\n",
      "    uninstall           uninstall the importnb extension\n",
      "    run                 run files and modules as scripts\n",
      "\n",
      "optional arguments:\n",
      "  -h, --help            show this help message and exit\n"
     ]
    }
   ],
   "source": [
    "    !importnb"
   ]
  },
  {
   "cell_type": "markdown",
   "id": "6db6729a-defe-4546-b38f-d202aadc5db6",
   "metadata": {},
   "source": [
    "## running notebooks as scripts\n",
    "\n",
    "evaluate notebooks in the `__main__` context."
   ]
  },
  {
   "cell_type": "code",
   "execution_count": 3,
   "id": "e1a0152a-c8be-483f-a6a2-5fd2adf4acb0",
   "metadata": {},
   "outputs": [
    {
     "name": "stdout",
     "output_type": "stream",
     "text": [
      "i was run as a script because my __name__ is __main__ for the file: a_notebook_script.ipynb\n"
     ]
    }
   ],
   "source": [
    "    !importnb run -m test_data.a_notebook_script"
   ]
  },
  {
   "cell_type": "code",
   "execution_count": 4,
   "id": "30efaa2e-0e36-4a7a-9c16-7f1e57aa59f1",
   "metadata": {},
   "outputs": [
    {
     "name": "stdout",
     "output_type": "stream",
     "text": [
      "i was run as a script because my __name__ is __main__ for the file: a_notebook_script.ipynb\n"
     ]
    }
   ],
   "source": [
    "    !importnb run test_data/a_notebook_script.ipynb"
   ]
  },
  {
   "cell_type": "markdown",
   "id": "421ba3c1-a1c5-4e2c-82bc-1d2586d7ef3b",
   "metadata": {},
   "source": [
    "no `run/install/uninstall` actions default to `run` so the following commands are the equivalent to the prior."
   ]
  },
  {
   "cell_type": "code",
   "execution_count": 5,
   "id": "e1a1347b-f183-4123-9f8c-08962808b0a8",
   "metadata": {},
   "outputs": [
    {
     "name": "stdout",
     "output_type": "stream",
     "text": [
      "i was run as a script because my __name__ is __main__ for the file: a_notebook_script.ipynb\n",
      "i was run as a script because my __name__ is __main__ for the file: a_notebook_script.ipynb\n"
     ]
    }
   ],
   "source": [
    "    !importnb -m test_data.a_notebook_script\n",
    "    !importnb test_data/a_notebook_script.ipynb"
   ]
  },
  {
   "cell_type": "markdown",
   "id": "6ce82279-81a1-423c-9885-31292d3c3420",
   "metadata": {},
   "source": [
    "## `importnb` IPython extension\n",
    "\n",
    "by default, include notebooks performing import lookups."
   ]
  },
  {
   "cell_type": "code",
   "execution_count": 6,
   "id": "34070367-da49-452d-9435-8cc5b4932312",
   "metadata": {},
   "outputs": [
    {
     "name": "stdout",
     "output_type": "stream",
     "text": [
      "✅ ['importnb']\n"
     ]
    }
   ],
   "source": [
    "    #NBVAL_IGNORE_OUTPUT\n",
    "    !importnb install"
   ]
  },
  {
   "cell_type": "code",
   "execution_count": 7,
   "id": "024f2754-0c8d-4fe1-9ad7-ec10d8582408",
   "metadata": {},
   "outputs": [
    {
     "name": "stdout",
     "output_type": "stream",
     "text": [
      "❌ ['importnb'].\n"
     ]
    }
   ],
   "source": [
    "    #NBVAL_IGNORE_OUTPUT\n",
    "    !importnb uninstall"
   ]
  }
 ],
 "metadata": {
  "kernelspec": {
   "display_name": "Python 3.9.10 ('base')",
   "language": "python",
   "name": "python3"
  },
  "language_info": {
   "codemirror_mode": {
    "name": "ipython",
    "version": 3
   },
   "file_extension": ".py",
   "mimetype": "text/x-python",
   "name": "python",
   "nbconvert_exporter": "python",
   "pygments_lexer": "ipython3",
   "version": "3.9.10"
  },
  "vscode": {
   "interpreter": {
    "hash": "fe3da9b82b3647283ed4a64afb514c08b1aa39774194ba3fa7469a9333d7260c"
   }
  }
 },
 "nbformat": 4,
 "nbformat_minor": 5
}
