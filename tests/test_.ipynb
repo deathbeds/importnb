{
 "cells": [
  {
   "cell_type": "code",
   "execution_count": 1,
   "metadata": {},
   "outputs": [],
   "source": [
    "    from unittest import TestCase, expectedFailure, skipUnless\n",
    "    try:\n",
    "        from IPython import get_ipython\n",
    "        from IPython.utils.capture import capture_output\n",
    "    except: \n",
    "        get_ipython = None\n",
    "    from pathlib import Path\n",
    "    \n",
    "    try:\n",
    "        from importnb import *\n",
    "    except:\n",
    "        # install importnb if it doesn't exist, this makes the tests work on binder.\n",
    "        __import__('subprocess').check_call(\"pip install importnb\".split())\n",
    "        from importnb import *\n",
    "\n",
    "    __file__ = globals().get('__file__', 'unittests.ipynb')"
   ]
  },
  {
   "cell_type": "code",
   "execution_count": 2,
   "metadata": {},
   "outputs": [],
   "source": [
    "    class TestExtension(TestCase): \n",
    "        def setUp(Test): load_ipython_extension()\n",
    "                \n",
    "        def test_import(Test):\n",
    "            try:\n",
    "                from . import import_this\n",
    "            except:\n",
    "                import import_this\n",
    "\n",
    "            assert import_this.__file__.endswith('.ipynb')\n",
    "            assert import_this.test is 42\n",
    "            assert isinstance(import_this, __import__('types').ModuleType)\n",
    "            \n",
    "        @expectedFailure\n",
    "        def test_failure(Test):\n",
    "            try:\n",
    "                from . import failure\n",
    "            except:\n",
    "                import failure\n",
    "            \n",
    "        def tearDown(Test): unload_ipython_extension()\n"
   ]
  },
  {
   "cell_type": "code",
   "execution_count": 3,
   "metadata": {},
   "outputs": [],
   "source": [
    "    class TestContext(TestCase): \n",
    "        def setUp(Test): \n",
    "            with Notebook(): \n",
    "                try:\n",
    "                    from . import import_this\n",
    "                except:\n",
    "                    import import_this\n",
    "            Test.loader = import_this\n",
    "                  \n",
    "        def test_import(Test):\n",
    "            loader = Test.loader\n",
    "            assert loader.__file__.endswith('.ipynb')\n",
    "            assert loader.test is 42\n",
    "            assert isinstance(loader, __import__('types').ModuleType)\n",
    "            \n",
    "        @expectedFailure\n",
    "        def test_reload_without_context(Test):\n",
    "            reload(Test.loader)\n",
    "            \n",
    "        def test_reload_with_context(Test):\n",
    "            with Notebook(): assert reload(Test.loader)"
   ]
  },
  {
   "cell_type": "code",
   "execution_count": 4,
   "metadata": {},
   "outputs": [],
   "source": [
    "    class TestPartial(TestCase): \n",
    "        def setUp(Test): \n",
    "            with Partial(capture=True): \n",
    "                try:\n",
    "                    from . import failure\n",
    "                except:\n",
    "                    import failure\n",
    "            Test.failure = failure\n",
    "                  \n",
    "        def test_exception(Test):\n",
    "            assert Test.failure.a is 42\n",
    "            assert isinstance(Test.failure.__exception__, BaseException)\n",
    "            assert not hasattr(Test.failure, 'b')\n",
    "            \n",
    "        def test_traceback(Test):\n",
    "            from traceback import print_tb\n",
    "            from io import StringIO\n",
    "            s = StringIO()\n",
    "            print_tb(Test.failure.__exception__.__traceback__, file=s)\n",
    "            assert \"\"\"tests/failure.ipynb\", line 22, in <module>\\n    \"    assert False\\\\n\"\"\" in s.getvalue(), \"\"\"Traceback is not satisfied\"\"\""
   ]
  },
  {
   "cell_type": "code",
   "execution_count": 5,
   "metadata": {},
   "outputs": [],
   "source": [
    "    class TestRemote(TestCase): \n",
    "        @skipUnless(\n",
    "            get_ipython and get_ipython() and (\n",
    "                Path(__file__).parent / 'PythonDataScienceHandbook').exists(), \n",
    "            \"\"\"requires IP\"\"\")\n",
    "        def test_imports(Test):\n",
    "            with capture_output(), Notebook():\n",
    "                try:\n",
    "                    from .PythonDataScienceHandbook.notebooks import _02_The_Basics_Of_NumPy_Arrays as tutorial\n",
    "                except:\n",
    "                    from PythonDataScienceHandbook.notebooks import _02_The_Basics_Of_NumPy_Arrays as tutorial\n",
    "            assert all(hasattr(tutorial, str) for str in ('grid', 'x', 'x1', 'x2'))"
   ]
  },
  {
   "cell_type": "code",
   "execution_count": 7,
   "metadata": {},
   "outputs": [
    {
     "name": "stderr",
     "output_type": "stream",
     "text": [
      "..xx....\n",
      "----------------------------------------------------------------------\n",
      "Ran 8 tests in 2.073s\n",
      "\n",
      "OK (expected failures=2)\n"
     ]
    }
   ],
   "source": [
    "    if __name__ == '__main__':\n",
    "        import unittest\n",
    "        unittest.main('__init__', argv='discover'.split(), exit=False)"
   ]
  },
  {
   "cell_type": "code",
   "execution_count": null,
   "metadata": {},
   "outputs": [],
   "source": []
  }
 ],
 "metadata": {
  "kernelspec": {
   "display_name": "p6",
   "language": "python",
   "name": "other-env"
  },
  "language_info": {
   "codemirror_mode": {
    "name": "ipython",
    "version": 3
   },
   "file_extension": ".py",
   "mimetype": "text/x-python",
   "name": "python",
   "nbconvert_exporter": "python",
   "pygments_lexer": "ipython3",
   "version": "3.6.3"
  },
  "toc": {
   "colors": {
    "hover_highlight": "#DAA520",
    "running_highlight": "#FF0000",
    "selected_highlight": "#FFD700"
   },
   "moveMenuLeft": true,
   "nav_menu": {
    "height": "29px",
    "width": "252px"
   },
   "navigate_menu": true,
   "number_sections": true,
   "sideBar": true,
   "threshold": 4,
   "toc_cell": false,
   "toc_section_display": "block",
   "toc_window_display": false,
   "widenNotebook": false
  },
  "varInspector": {
   "cols": {
    "lenName": 16,
    "lenType": 16,
    "lenVar": 40
   },
   "kernels_config": {
    "python": {
     "delete_cmd_postfix": "",
     "delete_cmd_prefix": "del ",
     "library": "var_list.py",
     "varRefreshCmd": "print(var_dic_list())"
    },
    "r": {
     "delete_cmd_postfix": ") ",
     "delete_cmd_prefix": "rm(",
     "library": "var_list.r",
     "varRefreshCmd": "cat(var_dic_list()) "
    }
   },
   "types_to_exclude": [
    "module",
    "function",
    "builtin_function_or_method",
    "instance",
    "_Feature"
   ],
   "window_display": false
  }
 },
 "nbformat": 4,
 "nbformat_minor": 2
}
