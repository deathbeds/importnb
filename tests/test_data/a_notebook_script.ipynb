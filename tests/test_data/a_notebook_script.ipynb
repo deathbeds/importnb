{
 "cells": [
  {
   "cell_type": "code",
   "execution_count": 4,
   "id": "162ae760-d388-44c8-9478-9d8d2192b20b",
   "metadata": {},
   "outputs": [
    {
     "name": "stdout",
     "output_type": "stream",
     "text": [
      "i was run as a script because my __name__ is __main__for the file: None\n"
     ]
    }
   ],
   "source": [
    "    from pathlib import Path\n",
    "    print(F\"i was run as a script because my __name__ is {__name__} \"\n",
    "          F\"for the file: {Path(locals().get('__file__')).name}\")"
   ]
  }
 ],
 "metadata": {
  "kernelspec": {
   "display_name": "Python 3 (ipykernel)",
   "language": "python",
   "name": "python3"
  },
  "language_info": {
   "codemirror_mode": {
    "name": "ipython",
    "version": 3
   },
   "file_extension": ".py",
   "mimetype": "text/x-python",
   "name": "python",
   "nbconvert_exporter": "python",
   "pygments_lexer": "ipython3",
   "version": "3.9.12"
  }
 },
 "nbformat": 4,
 "nbformat_minor": 5
}
