{
 "cells": [
  {
   "cell_type": "code",
   "execution_count": 80,
   "metadata": {},
   "outputs": [],
   "source": [
    "from importnb import Notebook, reload\n",
    "from nbformat import v4\n",
    "from pathlib import Path\n",
    "import shutil, os, functools\n",
    "from pytest import fixture, mark\n"
   ]
  },
  {
   "cell_type": "code",
   "execution_count": 73,
   "metadata": {},
   "outputs": [],
   "source": [
    "def new_notebook(str='foo') -> str:\n",
    "    \"\"\"Stringify a new notebook to test with a simple set of instructions that may be formatter.\n",
    "    \n",
    "    >>> assert isinstance(new_notebook(), str)\n",
    "    \"\"\"\n",
    "    return v4.writes(v4.new_notebook(cells=[\n",
    "            v4.new_code_cell(\"\"\"foo = 42\\nassert {}\\nbar= 100\"\"\".format(str))]))"
   ]
  },
  {
   "cell_type": "markdown",
   "metadata": {},
   "source": [
    "# Test Single File Modules\n",
    "\n",
    "Single file modules mimic common Untitled notebooks.  An author should be able to trivially import notebooks in their working directory."
   ]
  },
  {
   "cell_type": "markdown",
   "metadata": {},
   "source": [
    "## Single File Fixtures"
   ]
  },
  {
   "cell_type": "code",
   "execution_count": 75,
   "metadata": {},
   "outputs": [],
   "source": [
    "@fixture(scope='function')\n",
    "def single_file(request):\n",
    "    \"\"\"A fixture to write a new notebook to disk and delete after each function call.\"\"\"\n",
    "    file = Path('foobar.ipynb')\n",
    "    file.write_text(new_notebook())\n",
    "    request.addfinalizer(functools.partial(os.remove, file))\n",
    "    return file"
   ]
  },
  {
   "cell_type": "markdown",
   "metadata": {},
   "source": [
    "Each time a file is imported we should clear up the sys path to reset our imports and assure the validity of our tests."
   ]
  },
  {
   "cell_type": "code",
   "execution_count": 76,
   "metadata": {},
   "outputs": [],
   "source": [
    "@fixture\n",
    "def clean_up_file(single_file, request):\n",
    "    def clean_sys():\n",
    "        import sys\n",
    "        del sys.modules['foobar']\n",
    "        sys.path_importer_cache.clear()\n",
    "    request.addfinalizer(clean_sys)"
   ]
  },
  {
   "cell_type": "markdown",
   "metadata": {},
   "source": [
    "`importnb`'s most generic use is as a context manager.  `with Notebook()` will update the `sys.path_hooks` to import notebooks as modules."
   ]
  },
  {
   "cell_type": "code",
   "execution_count": 57,
   "metadata": {},
   "outputs": [],
   "source": [
    "def test_single_file_with_context(clean_up_file):\n",
    "    with Notebook():\n",
    "        import foobar\n",
    "    assert foobar.foo == 42 and foobar.bar == 100\n",
    "    \n",
    "    validate_reload(foobar)"
   ]
  },
  {
   "cell_type": "markdown",
   "metadata": {},
   "source": [
    "Each time we test a notebook import we should test the ability to reload the module.  `importnb` expresses the ability to use the normal Python import system, and a notebook must reload for interactive development."
   ]
  },
  {
   "cell_type": "code",
   "execution_count": 77,
   "metadata": {},
   "outputs": [],
   "source": [
    "def validate_reload(module):\n",
    "    try:\n",
    "        reload(module)\n",
    "        assert False, \"\"\"The reload should have fail.\"\"\"\n",
    "    except:\n",
    "        assert True, \"\"\"Cannot reload a file outside of a context manager\"\"\"\n",
    "\n",
    "    with Notebook():\n",
    "        assert reload(module)"
   ]
  },
  {
   "cell_type": "markdown",
   "metadata": {},
   "source": [
    "A notebook will not import without the context manager or [IPython extension](#IPython-extension)."
   ]
  },
  {
   "cell_type": "code",
   "execution_count": null,
   "metadata": {},
   "outputs": [],
   "source": [
    "@mark.xfail\n",
    "def test_single_file_without_context():\n",
    "    import foobar"
   ]
  },
  {
   "cell_type": "markdown",
   "metadata": {},
   "source": [
    "In the `__main__` context, relative imports are not allowed. "
   ]
  },
  {
   "cell_type": "code",
   "execution_count": 78,
   "metadata": {},
   "outputs": [],
   "source": [
    "@mark.xfail\n",
    "def test_single_file_relative(single_file):\n",
    "    with Notebook():\n",
    "        from . import foobar"
   ]
  },
  {
   "cell_type": "markdown",
   "metadata": {},
   "source": [
    "Commonly, we use the `try` statement to allow the ability to use relative imports in a package while developing interactively.\n",
    "\n",
    "    try:\n",
    "        from . import a_module\n",
    "    except:\n",
    "        import a_module"
   ]
  },
  {
   "cell_type": "markdown",
   "metadata": {},
   "source": [
    "## IPython extension\n",
    "\n",
    "In general, an author would use IPython sugar to load an extension\n",
    "\n",
    "    %load_ext importnb\n",
    "    \n",
    "For testing purposes we use the explicit functions to create the extensions"
   ]
  },
  {
   "cell_type": "code",
   "execution_count": 83,
   "metadata": {},
   "outputs": [],
   "source": [
    "from importnb import load_ipython_extension, unload_ipython_extension"
   ]
  },
  {
   "cell_type": "code",
   "execution_count": 84,
   "metadata": {},
   "outputs": [],
   "source": [
    "@fixture\n",
    "def extension(clean_up_file, request):\n",
    "    load_ipython_extension()\n",
    "    request.addfinalizer(unload_ipython_extension)"
   ]
  },
  {
   "cell_type": "code",
   "execution_count": 85,
   "metadata": {},
   "outputs": [],
   "source": [
    "def test_single_with_extension(extension):\n",
    "    import foobar\n",
    "    assert foobar.foo == 42 and foobar.bar == 100"
   ]
  },
  {
   "cell_type": "code",
   "execution_count": 86,
   "metadata": {},
   "outputs": [],
   "source": [
    "@fixture\n",
    "def single_directory(request):\n",
    "    root = Path('a_test_package')\n",
    "    root.mkdir(exist_ok=True)\n",
    "    (root / 'foobar.ipynb').write_text(new_notebook())\n",
    "    (root / 'failure.ipynb').write_text(new_notebook('False'))\n",
    "    (root / 'py.py').write_text(\"\"\"from . import foobar\\nbaz = 'foobar'\"\"\")\n",
    "    request.addfinalizer(functools.partial(shutil.rmtree, root))\n",
    "    return root"
   ]
  },
  {
   "cell_type": "code",
   "execution_count": 87,
   "metadata": {},
   "outputs": [],
   "source": [
    "def test_package(single_directory):\n",
    "    with Notebook():\n",
    "        from a_test_package import foobar, py\n",
    "        \n",
    "    assert foobar.foo == 42 and foobar.bar == 100\n",
    "    assert py.baz == 'foobar'\n",
    "    assert py.foobar is foobar\n",
    "    validate_reload(foobar)"
   ]
  },
  {
   "cell_type": "code",
   "execution_count": 88,
   "metadata": {},
   "outputs": [],
   "source": [
    "@mark.xfail\n",
    "def test_package_failure(single_directory):\n",
    "    with Notebook():\n",
    "        from a_test_package import failure"
   ]
  },
  {
   "cell_type": "markdown",
   "metadata": {},
   "source": [
    "## Partial Imports."
   ]
  },
  {
   "cell_type": "code",
   "execution_count": 90,
   "metadata": {},
   "outputs": [],
   "source": [
    "from importnb import Partial"
   ]
  },
  {
   "cell_type": "code",
   "execution_count": 91,
   "metadata": {},
   "outputs": [],
   "source": [
    "def test_package_failure_partial(single_directory):\n",
    "    with Partial():\n",
    "        from a_test_package import failure\n",
    "        \n",
    "    assert isinstance(failure.__exception__, AssertionError), \"\"\"\n",
    "    The wrong error was returned likely because of importnb.\"\"\"\n",
    "\n",
    "    from traceback import print_tb\n",
    "    from io import StringIO\n",
    "    s = StringIO()\n",
    "    print_tb(failure.__exception__.__traceback__, file=s)\n",
    "    print(s.getvalue())\n",
    "    assert \"\"\"a_test_package/failure.ipynb\", line 10, in <module>\\n\"\"\" in s.getvalue(), \"\"\"Traceback is not satisfied\"\"\""
   ]
  }
 ],
 "metadata": {
  "kernelspec": {
   "display_name": "p6",
   "language": "python",
   "name": "other-env"
  },
  "language_info": {
   "codemirror_mode": {
    "name": "ipython",
    "version": 3
   },
   "file_extension": ".py",
   "mimetype": "text/x-python",
   "name": "python",
   "nbconvert_exporter": "python",
   "pygments_lexer": "ipython3",
   "version": "3.6.3"
  }
 },
 "nbformat": 4,
 "nbformat_minor": 2
}
