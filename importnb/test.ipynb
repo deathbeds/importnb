{
 "cells": [
  {
   "cell_type": "code",
   "execution_count": 1,
   "metadata": {},
   "outputs": [],
   "source": [
    "import pytest\n",
    "try:\n",
    "    from .loader import Notebook\n",
    "except:\n",
    "    from loader import Notebook\n",
    "\n",
    "def pytest_collect_file(parent, path):\n",
    "    if path.ext  in ('.ipynb', '.py'): \n",
    "        return Module(path, parent)\n",
    "    \n",
    "class Module(pytest.Module):\n",
    "    def collect(self):\n",
    "        with Notebook(): \n",
    "            return super().collect()"
   ]
  },
  {
   "cell_type": "code",
   "execution_count": 2,
   "metadata": {
    "scrolled": false
   },
   "outputs": [],
   "source": [
    "if __name__ ==  '__main__':\n",
    "    try:\n",
    "        from .compiler_python import ScriptExporter\n",
    "    except:\n",
    "        from compiler_python import ScriptExporter\n",
    "    from pathlib import Path\n",
    "    Path('test.py').write_text(ScriptExporter().from_filename('test.ipynb')[0])"
   ]
  }
 ],
 "metadata": {
  "kernelspec": {
   "display_name": "p6",
   "language": "python",
   "name": "other-env"
  },
  "language_info": {
   "codemirror_mode": {
    "name": "ipython",
    "version": 3
   },
   "file_extension": ".py",
   "mimetype": "text/x-python",
   "name": "python",
   "nbconvert_exporter": "python",
   "pygments_lexer": "ipython3",
   "version": "3.6.3"
  }
 },
 "nbformat": 4,
 "nbformat_minor": 2
}
